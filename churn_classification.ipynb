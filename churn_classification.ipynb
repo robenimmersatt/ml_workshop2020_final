{
 "cells": [
  {
   "cell_type": "markdown",
   "metadata": {},
   "source": [
    "### Beispiel eines Neuronalen Netzes zur Vorhersage von Kundenabwanderung\n",
    "Genutzt wird in diesem Fall ein **LSTM**-Netz (Long-Short-Term-Memory)\n",
    ", welches besonders gut für die Analyse von längeren Sequenzen (Texte, Kursverläufe etc.) geeignet ist.\n",
    "In unserem Fall sind dies Bestellverläufe verschiedener Kunden. Ziel ist es, das Netz auf einen Teil der Kundenbestellungen zu trainieren, und mit dem Rest zu testen ob das System diese richtig als abgesprungen oder nicht abgesprungen klassifiziert."
   ]
  },
  {
   "cell_type": "markdown",
   "metadata": {
    "pycharm": {
     "name": "#%% md\n"
    }
   },
   "source": [
    "Im folgenden finden Sie die Codefragmente mit den zugehörigen Beschreibungen. Diese müssen nacheinander von Ihnen ausgeführt werden."
   ]
  },
  {
   "cell_type": "markdown",
   "metadata": {
    "pycharm": {
     "name": "#%% md\n"
    }
   },
   "source": [
    "Import der notwendigen Bibliotheken:\n",
    "* **Keras** - Hauptframework für Machine Learning. (Basiert auf Google's Tensorflow)\n",
    "* **Numpy** - Unter anderem zur Durchführung von Vektorberechnungen.\n",
    "* **Pandas** - Regelt den Import und die Formatierung von Daten. "
   ]
  },
  {
   "cell_type": "code",
   "execution_count": 6,
   "metadata": {
    "pycharm": {
     "is_executing": false,
     "name": "#%%\n"
    }
   },
   "outputs": [],
   "source": [
    "import random as rn\n",
    "from datetime import datetime\n",
    "\n",
    "import matplotlib.pyplot as plt\n",
    "import numpy as np\n",
    "import pandas as pd\n",
    "import tensorflow as tf\n",
    "import unittest\n",
    "from dateutil.relativedelta import relativedelta\n",
    "from keras import Sequential\n",
    "from keras.callbacks import EarlyStopping\n",
    "from keras.layers import Masking, LSTM, Dense, Dropout\n",
    "from keras.optimizers import Adam\n",
    "from keras_preprocessing.sequence import pad_sequences\n",
    "from numpy.random import seed\n",
    "\n",
    "%load_ext ipython_unittest"
   ]
  },
  {
   "cell_type": "markdown",
   "metadata": {
    "pycharm": {
     "name": "#%% md\n"
    }
   },
   "source": [
    "Funktion, welche einen *Inner-Join* auf zwei Datensätzen ausführt."
   ]
  },
  {
   "cell_type": "code",
   "execution_count": 2,
   "metadata": {
    "pycharm": {
     "is_executing": false,
     "name": "#%%\n"
    }
   },
   "outputs": [],
   "source": [
    "def drop_missing_values_vise_versa(df1, df2, column_name):\n",
    "    drop_condition = df1[column_name].isin(df2[column_name]) == False\n",
    "    df1 = df1.drop(df1[drop_condition].index)\n",
    "    drop_condition = df2[column_name].isin(df1[column_name]) == False\n",
    "    df2 = df2.drop(df2[drop_condition].index)\n",
    "    return df1, df2"
   ]
  },
  {
   "cell_type": "markdown",
   "metadata": {
    "pycharm": {
     "name": "#%% md\n"
    }
   },
   "source": [
    "Funktion, welche fehlende Daten einer Zeitreihe auffüllt."
   ]
  },
  {
   "cell_type": "code",
   "execution_count": 3,
   "metadata": {
    "pycharm": {
     "is_executing": false,
     "name": "#%%\n"
    }
   },
   "outputs": [],
   "source": [
    "def fill_dates(df, end_date):\n",
    "    start_date = df['date'].iloc[0]\n",
    "    if start_date > end_date or len(df) == 0:\n",
    "        return df\n",
    "    diff = ((end_date.year - start_date.year) * 12 + end_date.month - start_date.month)\n",
    "    date_list = [start_date + relativedelta(months=x) for x in range(0, diff)]\n",
    "    date_frame = pd.DataFrame(date_list)\n",
    "    date_frame.columns = ['date']\n",
    "    value = pd.merge(date_frame, df, how='left').fillna(0)\n",
    "    value = value.drop(['date'], axis=1)\n",
    "    return value"
   ]
  },
  {
   "cell_type": "markdown",
   "metadata": {
    "pycharm": {
     "name": "#%% md\n"
    }
   },
   "source": [
    "Funktion, welche einen Datensatz in einem gewählten Verhältnis teilt."
   ]
  },
  {
   "cell_type": "code",
   "execution_count": 55,
   "metadata": {
    "pycharm": {
     "is_executing": false,
     "name": "#%%\n"
    }
   },
   "outputs": [],
   "source": [
    "def train_test_split(df, ratio):\n",
    "    train = np.array(df[:round(len(df) * ratio)])\n",
    "    test = np.array(df[-round(len(df) * (1 - ratio)):])\n",
    "    return train, test"
   ]
  },
  {
   "cell_type": "code",
   "execution_count": 56,
   "metadata": {},
   "outputs": [
    {
     "data": {
      "application/unittest.status+json": {
       "color": "yellow",
       "message": "",
       "previous": 0
      },
      "text/plain": []
     },
     "metadata": {},
     "output_type": "display_data"
    },
    {
     "name": "stdout",
     "output_type": "stream",
     "text": [
      "Split = 0.0\n",
      "Assert Train Len.: 0, Erhaltene Train Len.: 0\n",
      "Assert Test Len.: 620, Erhaltene Train Len.: 620\n",
      "\n",
      "Split = 0.3\n",
      "Assert Train Len.: 186, Erhaltene Train Len.: 186\n",
      "Assert Test Len.: 434, Erhaltene Train Len.: 620\n"
     ]
    },
    {
     "data": {
      "application/unittest.status+json": {
       "color": "salmon",
       "message": "F\n======================================================================\nFAIL: test_train_test_split (__main__.JupyterTest)\n----------------------------------------------------------------------\nTraceback (most recent call last):\n  File \"Cell Tests\", line 22, in test_train_test_split\nAssertionError\n\n----------------------------------------------------------------------\nRan 1 test in 0.005s\n\nFAILED (failures=1)\n",
       "previous": 0
      },
      "text/plain": [
       "Fail"
      ]
     },
     "metadata": {},
     "output_type": "display_data"
    },
    {
     "name": "stdout",
     "output_type": "stream",
     "text": [
      "F\n",
      "======================================================================\n",
      "FAIL: test_train_test_split (__main__.JupyterTest)\n",
      "----------------------------------------------------------------------\n",
      "Traceback (most recent call last):\n",
      "  File \"Cell Tests\", line 22, in test_train_test_split\n",
      "AssertionError\n",
      "\n",
      "----------------------------------------------------------------------\n",
      "Ran 1 test in 0.005s\n",
      "\n",
      "FAILED (failures=1)\n"
     ]
    },
    {
     "data": {
      "text/plain": [
       "<unittest.runner.TextTestResult run=1 errors=0 failures=1>"
      ]
     },
     "execution_count": 56,
     "metadata": {},
     "output_type": "execute_result"
    }
   ],
   "source": [
    "%%unittest_testcase\n",
    "def test_train_test_split(self):\n",
    "    \n",
    "    data = np.random.rand(620,4,3,2,1)\n",
    "    \n",
    "    splits = [0.0, 0.3, 0.6, 1.0]\n",
    "    for split in splits:\n",
    "        print(f'Split = {split}')\n",
    "        splitted_data = train_test_split(data, split)\n",
    "        assert len(splitted_data) == 2\n",
    "        data_test, data_train = splitted_data\n",
    "        \n",
    "        test_shape = data_test.shape\n",
    "        train_shape = data_train.shape\n",
    "        \n",
    "        for i, (s1, s2) in enumerate(zip(test_shape, train_shape)):\n",
    "            if i == 0:\n",
    "                train_shape_asserted = int(data.shape[0] * split)\n",
    "                test_shape_asserted = int(data.shape[0] * (1-split))\n",
    "                print(f'Assert Train Len.: {train_shape_asserted}, Erhaltene Train Len.: {s1}')\n",
    "                print(f'Assert Test Len.: {test_shape_asserted}, Erhaltene Train Len.: {s2}')\n",
    "                assert s1 == train_shape_asserted\n",
    "                assert s2 == test_shape_asserted\n",
    "            else:\n",
    "                assert s1 == s2\n",
    "        print()"
   ]
  },
  {
   "cell_type": "markdown",
   "metadata": {
    "pycharm": {
     "name": "#%% md\n"
    }
   },
   "source": [
    "Funktion, welche *Random-Seeds* setzt."
   ]
  },
  {
   "cell_type": "code",
   "execution_count": 10,
   "metadata": {
    "pycharm": {
     "is_executing": false,
     "name": "#%%\n"
    }
   },
   "outputs": [],
   "source": [
    "def set_random_seed(s):\n",
    "    seed(s)\n",
    "    rn.seed(s)\n",
    "    tf.random.set_seed(s)"
   ]
  },
  {
   "cell_type": "markdown",
   "metadata": {
    "pycharm": {
     "name": "#%% md\n"
    }
   },
   "source": [
    "Einlesen der Daten mithilfe von **Pandas**\n",
    "* Es wird zwischen X und Y-Werten unterschieden.\n",
    "* Die X-Werte sind in unserem Fall die Bestellverläufe.\n",
    "* Der Y-Wert ist ein *boolean*-Wert, welcher besagt ob ein Kunde abgesprungen ist."
   ]
  },
  {
   "cell_type": "code",
   "execution_count": 11,
   "metadata": {
    "pycharm": {
     "is_executing": false,
     "name": "#%%\n"
    }
   },
   "outputs": [],
   "source": [
    "x_data = pd.read_csv(\"cleaned_orders.csv\", header=0, index_col=0, sep=\",\", decimal=\".\", dtype={0:int})\n",
    "x_data['date'] = pd.to_datetime(x_data.date, format='%Y-%m-%d')\n",
    "x_data = x_data.drop(\"quantity\", axis=1)\n",
    "x_data = x_data[x_data.date < '2018-09-01']\n"
   ]
  },
  {
   "cell_type": "code",
   "execution_count": 12,
   "metadata": {
    "pycharm": {
     "is_executing": false,
     "name": "#%%\n"
    }
   },
   "outputs": [],
   "source": [
    "y_data = pd.read_csv(\"cleaned_y_data.csv\", header=0, index_col=0, sep=\",\", dtype={0:int,1:int})\n",
    "y_data = y_data.sort_values('recipient').reset_index(drop=True)"
   ]
  },
  {
   "cell_type": "code",
   "execution_count": 13,
   "metadata": {
    "pycharm": {
     "name": "#%%\n"
    }
   },
   "outputs": [],
   "source": [
    "x_data, y_data = drop_missing_values_vise_versa(x_data, y_data, 'recipient')"
   ]
  },
  {
   "cell_type": "markdown",
   "metadata": {
    "pycharm": {
     "name": "#%% md\n"
    }
   },
   "source": [
    "Kleiner Ausschnitt der X und Y-Werte:"
   ]
  },
  {
   "cell_type": "code",
   "execution_count": 14,
   "metadata": {
    "pycharm": {
     "is_executing": false
    }
   },
   "outputs": [
    {
     "data": {
      "text/html": [
       "<div>\n",
       "<style scoped>\n",
       "    .dataframe tbody tr th:only-of-type {\n",
       "        vertical-align: middle;\n",
       "    }\n",
       "\n",
       "    .dataframe tbody tr th {\n",
       "        vertical-align: top;\n",
       "    }\n",
       "\n",
       "    .dataframe thead th {\n",
       "        text-align: right;\n",
       "    }\n",
       "</style>\n",
       "<table border=\"1\" class=\"dataframe\">\n",
       "  <thead>\n",
       "    <tr style=\"text-align: right;\">\n",
       "      <th></th>\n",
       "      <th>recipient</th>\n",
       "      <th>date</th>\n",
       "      <th>sales</th>\n",
       "    </tr>\n",
       "  </thead>\n",
       "  <tbody>\n",
       "    <tr>\n",
       "      <th>808</th>\n",
       "      <td>11675</td>\n",
       "      <td>2015-06-01</td>\n",
       "      <td>1014.0</td>\n",
       "    </tr>\n",
       "    <tr>\n",
       "      <th>809</th>\n",
       "      <td>11675</td>\n",
       "      <td>2015-07-01</td>\n",
       "      <td>4630.0</td>\n",
       "    </tr>\n",
       "    <tr>\n",
       "      <th>810</th>\n",
       "      <td>11675</td>\n",
       "      <td>2015-08-01</td>\n",
       "      <td>1425.0</td>\n",
       "    </tr>\n",
       "    <tr>\n",
       "      <th>811</th>\n",
       "      <td>11675</td>\n",
       "      <td>2015-09-01</td>\n",
       "      <td>532.0</td>\n",
       "    </tr>\n",
       "    <tr>\n",
       "      <th>812</th>\n",
       "      <td>11675</td>\n",
       "      <td>2015-10-01</td>\n",
       "      <td>3656.0</td>\n",
       "    </tr>\n",
       "    <tr>\n",
       "      <th>813</th>\n",
       "      <td>11675</td>\n",
       "      <td>2015-11-01</td>\n",
       "      <td>1272.0</td>\n",
       "    </tr>\n",
       "    <tr>\n",
       "      <th>814</th>\n",
       "      <td>11675</td>\n",
       "      <td>2015-12-01</td>\n",
       "      <td>2799.0</td>\n",
       "    </tr>\n",
       "    <tr>\n",
       "      <th>815</th>\n",
       "      <td>11675</td>\n",
       "      <td>2016-01-01</td>\n",
       "      <td>671.0</td>\n",
       "    </tr>\n",
       "    <tr>\n",
       "      <th>816</th>\n",
       "      <td>11675</td>\n",
       "      <td>2016-02-01</td>\n",
       "      <td>5232.0</td>\n",
       "    </tr>\n",
       "    <tr>\n",
       "      <th>817</th>\n",
       "      <td>11675</td>\n",
       "      <td>2016-04-01</td>\n",
       "      <td>2119.0</td>\n",
       "    </tr>\n",
       "  </tbody>\n",
       "</table>\n",
       "</div>"
      ],
      "text/plain": [
       "     recipient       date   sales\n",
       "808      11675 2015-06-01  1014.0\n",
       "809      11675 2015-07-01  4630.0\n",
       "810      11675 2015-08-01  1425.0\n",
       "811      11675 2015-09-01   532.0\n",
       "812      11675 2015-10-01  3656.0\n",
       "813      11675 2015-11-01  1272.0\n",
       "814      11675 2015-12-01  2799.0\n",
       "815      11675 2016-01-01   671.0\n",
       "816      11675 2016-02-01  5232.0\n",
       "817      11675 2016-04-01  2119.0"
      ]
     },
     "execution_count": 14,
     "metadata": {},
     "output_type": "execute_result"
    }
   ],
   "source": [
    "x_data.head(10)"
   ]
  },
  {
   "cell_type": "code",
   "execution_count": 15,
   "metadata": {
    "pycharm": {
     "is_executing": false,
     "name": "#%%\n"
    }
   },
   "outputs": [
    {
     "data": {
      "text/html": [
       "<div>\n",
       "<style scoped>\n",
       "    .dataframe tbody tr th:only-of-type {\n",
       "        vertical-align: middle;\n",
       "    }\n",
       "\n",
       "    .dataframe tbody tr th {\n",
       "        vertical-align: top;\n",
       "    }\n",
       "\n",
       "    .dataframe thead th {\n",
       "        text-align: right;\n",
       "    }\n",
       "</style>\n",
       "<table border=\"1\" class=\"dataframe\">\n",
       "  <thead>\n",
       "    <tr style=\"text-align: right;\">\n",
       "      <th></th>\n",
       "      <th>recipient</th>\n",
       "      <th>churned</th>\n",
       "    </tr>\n",
       "  </thead>\n",
       "  <tbody>\n",
       "    <tr>\n",
       "      <th>0</th>\n",
       "      <td>11675</td>\n",
       "      <td>0</td>\n",
       "    </tr>\n",
       "    <tr>\n",
       "      <th>1</th>\n",
       "      <td>12589</td>\n",
       "      <td>0</td>\n",
       "    </tr>\n",
       "    <tr>\n",
       "      <th>2</th>\n",
       "      <td>13593</td>\n",
       "      <td>1</td>\n",
       "    </tr>\n",
       "    <tr>\n",
       "      <th>3</th>\n",
       "      <td>14080</td>\n",
       "      <td>1</td>\n",
       "    </tr>\n",
       "    <tr>\n",
       "      <th>4</th>\n",
       "      <td>14089</td>\n",
       "      <td>0</td>\n",
       "    </tr>\n",
       "    <tr>\n",
       "      <th>5</th>\n",
       "      <td>14094</td>\n",
       "      <td>0</td>\n",
       "    </tr>\n",
       "    <tr>\n",
       "      <th>6</th>\n",
       "      <td>14095</td>\n",
       "      <td>1</td>\n",
       "    </tr>\n",
       "    <tr>\n",
       "      <th>7</th>\n",
       "      <td>14098</td>\n",
       "      <td>1</td>\n",
       "    </tr>\n",
       "    <tr>\n",
       "      <th>8</th>\n",
       "      <td>14100</td>\n",
       "      <td>0</td>\n",
       "    </tr>\n",
       "    <tr>\n",
       "      <th>9</th>\n",
       "      <td>14103</td>\n",
       "      <td>1</td>\n",
       "    </tr>\n",
       "  </tbody>\n",
       "</table>\n",
       "</div>"
      ],
      "text/plain": [
       "   recipient  churned\n",
       "0      11675        0\n",
       "1      12589        0\n",
       "2      13593        1\n",
       "3      14080        1\n",
       "4      14089        0\n",
       "5      14094        0\n",
       "6      14095        1\n",
       "7      14098        1\n",
       "8      14100        0\n",
       "9      14103        1"
      ]
     },
     "execution_count": 15,
     "metadata": {},
     "output_type": "execute_result"
    }
   ],
   "source": [
    "y_data.head(10)"
   ]
  },
  {
   "cell_type": "markdown",
   "metadata": {
    "pycharm": {
     "name": "#%% md\n"
    }
   },
   "source": [
    "Die drei folgenden Code-Zellen dienen der Transformation der X-Werte in ein 3D-Array, um diese für das Netzwerk lesbar zu machen."
   ]
  },
  {
   "cell_type": "code",
   "execution_count": 16,
   "metadata": {
    "pycharm": {
     "is_executing": false,
     "name": "#%%\n"
    }
   },
   "outputs": [],
   "source": [
    "x_data_dict =  dict()\n",
    "x_data_grouped = x_data.groupby('recipient')\n",
    "for recipient in x_data_grouped.groups:\n",
    "    x_data_dict[recipient] = pd.DataFrame(x_data_grouped['date','sales'].get_group(recipient))\n",
    "assert len(x_data_dict) == len(y_data)"
   ]
  },
  {
   "cell_type": "code",
   "execution_count": 17,
   "metadata": {
    "pycharm": {
     "is_executing": false,
     "name": "#%%\n"
    }
   },
   "outputs": [],
   "source": [
    "X = list()\n",
    "for key, item in x_data_dict.items():\n",
    "    X.append(fill_dates(item, datetime.strptime(\"2018-09-01\",\"%Y-%m-%d\")).values.tolist())"
   ]
  },
  {
   "cell_type": "code",
   "execution_count": 18,
   "metadata": {
    "pycharm": {
     "is_executing": false,
     "name": "#%%\n"
    }
   },
   "outputs": [],
   "source": [
    "X = pad_sequences(X, value=-1,dtype='float32')\n",
    "y = np.array(y_data['churned'].values)\n",
    "y = y.reshape(y.shape[0],1)"
   ]
  },
  {
   "cell_type": "markdown",
   "metadata": {
    "pycharm": {
     "name": "#%% md\n"
    }
   },
   "source": [
    "Aufteilung der Daten in 70% Trainings- und 30% Testdaten:"
   ]
  },
  {
   "cell_type": "code",
   "execution_count": 19,
   "metadata": {
    "pycharm": {
     "name": "#%%\n"
    }
   },
   "outputs": [
    {
     "name": "stdout",
     "output_type": "stream",
     "text": [
      "(106, 43, 1) (246, 43, 1)\n"
     ]
    }
   ],
   "source": [
    "X_test, X_train = train_test_split(X, 0.3)\n",
    "y_test, y_train = train_test_split(y, 0.3)\n",
    "print(X_test.shape, X_train.shape)"
   ]
  },
  {
   "cell_type": "markdown",
   "metadata": {
    "pycharm": {
     "name": "#%% md\n"
    }
   },
   "source": [
    "**An dieser Stelle sind Sie gefragt..**\n",
    "Das nachfolgende Codefragment enthält 4 modifizierbare Parameter, welche essenziell für die Genauigkeit des Netzwerks sind.\n",
    "Diese sind so initialiert, dass das Netwerk ohne Veränderung eine schlechte Performance aufweist.\n",
    "Ihre Aufgabe ist es nun diese Parameter so anzupassen, dass eine möglichst hohe Genauigkeit erzielt wird.\n",
    "\n",
    "Die Parameter sind wie folgt beschrieben:\n",
    "* **learning_rate**: Lernrate des Minimierungs-Algorithmus der Kostenfunktion (default: 0.00001, range: 0-∞)\n",
    "* **lstm_cells**: Anzahl der Memory-Cells des Netzwerks. Besitzt ein Netzwerk mehr Zellen, kann es sich eine größere Anzahl an Merkmalen merken. Zu viele können zu *Overfitting* führen. (default: 1, range: 1-∞)\n",
    "* **dropout**: Anteil der Merkmale, die zufällig gelöscht werden. Wirkt *Ovefitting* entgegen (default: 0.5, range: 0-1)\n",
    "* **epochs**: Anzahl der Traingsdurchläufe (default: 10, range: 1-∞)"
   ]
  },
  {
   "cell_type": "code",
   "execution_count": 26,
   "metadata": {
    "pycharm": {
     "is_executing": false,
     "name": "#%%\n"
    }
   },
   "outputs": [],
   "source": [
    "learning_rate = 0.1\n",
    "lstm_cells = 100\n",
    "dropout = 0\n",
    "epochs = 50"
   ]
  },
  {
   "cell_type": "code",
   "execution_count": 27,
   "metadata": {
    "pycharm": {
     "is_executing": false,
     "name": "#%%\n"
    }
   },
   "outputs": [],
   "source": [
    "set_random_seed(120)\n",
    "opt = Adam(learning_rate=learning_rate)\n",
    "model = Sequential()\n",
    "model.add(Masking(mask_value=-1, input_shape=(X_train.shape[1],1)))\n",
    "model.add(LSTM(lstm_cells, recurrent_dropout=dropout))\n",
    "model.add(Dropout(dropout))\n",
    "model.add(Dense(1, activation='sigmoid'))\n",
    "model.compile(loss='binary_crossentropy', optimizer=opt, metrics=['acc'])"
   ]
  },
  {
   "cell_type": "markdown",
   "metadata": {},
   "source": [
    "Die nachfolgende Code-Zelle enthält den Aufruf der *fit*-Methode, welche das Training des Netzes mit den oben angegebenen Parametern startet. Anschließend wird eine Zusammenfassung des Traingsverlaufs ausgegeben."
   ]
  },
  {
   "cell_type": "code",
   "execution_count": 28,
   "metadata": {
    "pycharm": {
     "is_executing": false,
     "name": "#%%\n"
    }
   },
   "outputs": [
    {
     "name": "stdout",
     "output_type": "stream",
     "text": [
      "Train on 246 samples, validate on 106 samples\n",
      "Epoch 1/50\n",
      "246/246 [==============================] - 2s 8ms/step - loss: 0.8770 - acc: 0.7033 - val_loss: 0.5249 - val_acc: 0.7547\n",
      "Epoch 2/50\n",
      "246/246 [==============================] - 1s 3ms/step - loss: 0.3813 - acc: 0.8374 - val_loss: 0.4545 - val_acc: 0.7830\n",
      "Epoch 3/50\n",
      "246/246 [==============================] - 1s 2ms/step - loss: 0.3825 - acc: 0.8049 - val_loss: 0.3538 - val_acc: 0.8774\n",
      "Epoch 4/50\n",
      "246/246 [==============================] - 1s 3ms/step - loss: 0.3442 - acc: 0.8089 - val_loss: 0.3003 - val_acc: 0.8868\n",
      "Epoch 5/50\n",
      "246/246 [==============================] - 1s 2ms/step - loss: 0.2473 - acc: 0.8659 - val_loss: 0.3398 - val_acc: 0.8774\n",
      "Epoch 6/50\n",
      "246/246 [==============================] - 1s 3ms/step - loss: 0.3184 - acc: 0.8496 - val_loss: 0.3253 - val_acc: 0.8962\n",
      "Epoch 7/50\n",
      "246/246 [==============================] - 1s 2ms/step - loss: 0.3246 - acc: 0.8252 - val_loss: 0.3507 - val_acc: 0.8491\n",
      "Epoch 8/50\n",
      "246/246 [==============================] - 1s 3ms/step - loss: 0.6896 - acc: 0.7480 - val_loss: 0.4526 - val_acc: 0.7830\n",
      "Epoch 9/50\n",
      "246/246 [==============================] - 1s 3ms/step - loss: 0.3512 - acc: 0.8211 - val_loss: 0.3218 - val_acc: 0.8962\n",
      "Epoch 10/50\n",
      "246/246 [==============================] - 1s 3ms/step - loss: 0.3183 - acc: 0.8374 - val_loss: 0.3180 - val_acc: 0.9057\n",
      "Restoring model weights from the end of the best epoch\n",
      "Epoch 00010: early stopping\n"
     ]
    },
    {
     "data": {
      "image/png": "[encoded data removed]",
      "text/plain": [
       "<Figure size 1152x360 with 2 Axes>"
      ]
     },
     "metadata": {
      "needs_background": "light"
     },
     "output_type": "display_data"
    },
    {
     "name": "stdout",
     "output_type": "stream",
     "text": [
      "Genauigkeit: 87.74%\n",
      "93 von 106 Beispielen richtig klassifiziert!\n"
     ]
    }
   ],
   "source": [
    "es = EarlyStopping(monitor='loss', mode='min', verbose=1, restore_best_weights=True, patience=5)\n",
    "history = model.fit(x=X_train,y=y_train,epochs=epochs, verbose=1, callbacks=[es], validation_data=(X_test, y_test))\n",
    "scores = model.evaluate(X_test, y_test, verbose=0)\n",
    "\n",
    "plt.rcParams[\"figure.figsize\"] = (16, 5)\n",
    "fig, (ax1, ax2) = plt.subplots(1, 2)\n",
    "\n",
    "ax1.plot(history.history['loss'], label='Training')\n",
    "ax1.plot(history.history['val_loss'], label='Testing')\n",
    "ax1.legend(loc=\"upper left\")\n",
    "ax1.set_title(\"Training und Testing Kostenverlauf\")\n",
    "ax2.plot(history.history['acc'], label='Training')\n",
    "ax2.plot(history.history['val_acc'], label='Testing')\n",
    "ax2.legend(loc=\"upper left\")#\n",
    "ax2.set_title(\"Training und Testing Genauigkeit\")\n",
    "plt.show()\n",
    "\n",
    "print(\"Genauigkeit: %.2f%%\" % (scores[1]*100))\n",
    "print(str(round(X_test.shape[0] * scores[1])) + \" von \" + str(X_test.shape[0]) + \" Beispielen richtig klassifiziert!\")"
   ]
  },
  {
   "cell_type": "code",
   "execution_count": null,
   "metadata": {},
   "outputs": [],
   "source": []
  }
 ],
 "metadata": {
  "kernelspec": {
   "display_name": "Python 3",
   "language": "python",
   "name": "python3"
  },
  "language_info": {
   "codemirror_mode": {
    "name": "ipython",
    "version": 3
   },
   "file_extension": ".py",
   "mimetype": "text/x-python",
   "name": "python",
   "nbconvert_exporter": "python",
   "pygments_lexer": "ipython3",
   "version": "3.6.8"
  },
  "pycharm": {
   "stem_cell": {
    "cell_type": "raw",
    "metadata": {
     "collapsed": false
    },
    "source": []
   }
  }
 },
 "nbformat": 4,
 "nbformat_minor": 1
}
