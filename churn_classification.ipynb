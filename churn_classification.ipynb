{
 "cells": [
  {
   "cell_type": "markdown",
   "metadata": {},
   "source": [
    "### Beispiel eines Neuronalen Netzes zur Vorhersage von Kunenabwanderung\n",
    "Nutzung eines **LSTM** (Long-Short-Term-Memory), welches besonders gut für die Analyse langer Sequenzen geeignet ist.\n",
    "In unserem Fall sind dies Bestellverläufe verschiedener Kunden."
   ]
  },
  {
   "cell_type": "markdown",
   "metadata": {
    "pycharm": {
     "name": "#%% md\n"
    }
   },
   "source": [
    "Import der notwendigen Bibliotheken:\n",
    "* **Keras** als Hauptframework für Machine Learning (Basiert auf Google's Tensorflow)\n",
    "* **Numpy** u.a. zur Durchführung von Vektorberechnungen\n",
    "* **Pandas** für den Import und die Formatierung von Daten "
   ]
  },
  {
   "cell_type": "code",
   "execution_count": 1,
   "metadata": {
    "pycharm": {
     "is_executing": false,
     "name": "#%%\n"
    }
   },
   "outputs": [
    {
     "ename": "ModuleNotFoundError",
     "evalue": "No module named 'pandas'",
     "output_type": "error",
     "traceback": [
      "\u001b[1;31m---------------------------------------------------------------------------\u001b[0m",
      "\u001b[1;31mModuleNotFoundError\u001b[0m                       Traceback (most recent call last)",
      "\u001b[1;32m<ipython-input-1-a3401fa2a89c>\u001b[0m in \u001b[0;36m<module>\u001b[1;34m\u001b[0m\n\u001b[0;32m      4\u001b[0m \u001b[1;32mimport\u001b[0m \u001b[0mmatplotlib\u001b[0m\u001b[1;33m.\u001b[0m\u001b[0mpyplot\u001b[0m \u001b[1;32mas\u001b[0m \u001b[0mplt\u001b[0m\u001b[1;33m\u001b[0m\u001b[1;33m\u001b[0m\u001b[0m\n\u001b[0;32m      5\u001b[0m \u001b[1;32mimport\u001b[0m \u001b[0mnumpy\u001b[0m \u001b[1;32mas\u001b[0m \u001b[0mnp\u001b[0m\u001b[1;33m\u001b[0m\u001b[1;33m\u001b[0m\u001b[0m\n\u001b[1;32m----> 6\u001b[1;33m \u001b[1;32mimport\u001b[0m \u001b[0mpandas\u001b[0m \u001b[1;32mas\u001b[0m \u001b[0mpd\u001b[0m\u001b[1;33m\u001b[0m\u001b[1;33m\u001b[0m\u001b[0m\n\u001b[0m\u001b[0;32m      7\u001b[0m \u001b[1;32mimport\u001b[0m \u001b[0mtensorflow\u001b[0m \u001b[1;32mas\u001b[0m \u001b[0mtf\u001b[0m\u001b[1;33m\u001b[0m\u001b[1;33m\u001b[0m\u001b[0m\n\u001b[0;32m      8\u001b[0m \u001b[1;32mfrom\u001b[0m \u001b[0mdateutil\u001b[0m\u001b[1;33m.\u001b[0m\u001b[0mrelativedelta\u001b[0m \u001b[1;32mimport\u001b[0m \u001b[0mrelativedelta\u001b[0m\u001b[1;33m\u001b[0m\u001b[1;33m\u001b[0m\u001b[0m\n",
      "\u001b[1;31mModuleNotFoundError\u001b[0m: No module named 'pandas'"
     ]
    }
   ],
   "source": [
    "import random as rn\n",
    "from datetime import datetime\n",
    "\n",
    "import matplotlib.pyplot as plt\n",
    "import numpy as np\n",
    "import pandas as pd\n",
    "import tensorflow as tf\n",
    "from dateutil.relativedelta import relativedelta\n",
    "from keras import Sequential\n",
    "from keras.callbacks import EarlyStopping\n",
    "from keras.layers import Masking, LSTM, Dense, Dropout\n",
    "from keras.optimizers import Adam\n",
    "from keras_preprocessing.sequence import pad_sequences\n",
    "from numpy.random import seed"
   ]
  },
  {
   "cell_type": "markdown",
   "metadata": {
    "pycharm": {
     "name": "#%% md\n"
    }
   },
   "source": [
    "Funktion, welche einen *Inner-Join* auf zwei Datensätzen ausführt"
   ]
  },
  {
   "cell_type": "code",
   "execution_count": 2,
   "metadata": {
    "pycharm": {
     "is_executing": false,
     "name": "#%%\n"
    }
   },
   "outputs": [],
   "source": [
    "def drop_missing_values_vise_versa(df1, df2, column_name):\n",
    "    drop_condition = df1[column_name].isin(df2[column_name]) == False\n",
    "    df1 = df1.drop(df1[drop_condition].index)\n",
    "    drop_condition = df2[column_name].isin(df1[column_name]) == False\n",
    "    df2 = df2.drop(df2[drop_condition].index)\n",
    "    return df1, df2"
   ]
  },
  {
   "cell_type": "code",
   "execution_count": 3,
   "metadata": {
    "pycharm": {
     "is_executing": false,
     "name": "#%%\n"
    }
   },
   "outputs": [],
   "source": [
    "def fill_dates(df, end_date):\n",
    "    start_date = df['date'].iloc[0]\n",
    "    if start_date > end_date or len(df) == 0:\n",
    "        return df\n",
    "    diff = ((end_date.year - start_date.year) * 12 + end_date.month - start_date.month)\n",
    "    date_list = [start_date + relativedelta(months=x) for x in range(0, diff)]\n",
    "    date_frame = pd.DataFrame(date_list)\n",
    "    date_frame.columns = ['date']\n",
    "    value = pd.merge(date_frame, df, how='left').fillna(0)\n",
    "    value = value.drop(['date'], axis=1)\n",
    "    return value"
   ]
  },
  {
   "cell_type": "code",
   "execution_count": 4,
   "metadata": {
    "pycharm": {
     "is_executing": false,
     "name": "#%%\n"
    }
   },
   "outputs": [],
   "source": [
    "def train_test_split(df, ratio):\n",
    "    train = np.array(df[:round(len(df) * ratio)])\n",
    "    test = np.array(df[-round(len(df) * (1 - ratio)):])\n",
    "    return train, test"
   ]
  },
  {
   "cell_type": "code",
   "execution_count": 5,
   "metadata": {
    "pycharm": {
     "is_executing": false,
     "name": "#%%\n"
    }
   },
   "outputs": [],
   "source": [
    "def set_random_seed(s):\n",
    "    seed(s)\n",
    "    rn.seed(s)\n",
    "    tf.random.set_seed(s)"
   ]
  },
  {
   "cell_type": "markdown",
   "metadata": {
    "pycharm": {
     "name": "#%% md\n"
    }
   },
   "source": [
    "Einlesen der Daten mithilfe von **Pandas**"
   ]
  },
  {
   "cell_type": "code",
   "execution_count": 6,
   "metadata": {
    "pycharm": {
     "is_executing": false,
     "name": "#%%\n"
    }
   },
   "outputs": [],
   "source": [
    "x_data = pd.read_csv(\"cleaned_orders.csv\", header=0, index_col=0, sep=\",\", decimal=\".\", dtype={0:int})\n",
    "x_data['date'] = pd.to_datetime(x_data.date, format='%Y-%m-%d')\n",
    "x_data = x_data.drop(\"quantity\", axis=1)\n",
    "x_data = x_data[x_data.date < '2018-09-01']"
   ]
  },
  {
   "cell_type": "code",
   "execution_count": 7,
   "metadata": {
    "pycharm": {
     "is_executing": false,
     "name": "#%%\n"
    }
   },
   "outputs": [],
   "source": [
    "y_data = pd.read_csv(\"cleaned_y_data.csv\", header=0, index_col=0, sep=\",\", dtype={0:int,1:int})\n",
    "y_data = y_data.sort_values('recipient').reset_index(drop=True)"
   ]
  },
  {
   "cell_type": "code",
   "execution_count": 8,
   "metadata": {
    "pycharm": {
     "is_executing": false,
     "name": "#%%\n"
    }
   },
   "outputs": [],
   "source": [
    "x_data, y_data = drop_missing_values_vise_versa(x_data, y_data, 'recipient')"
   ]
  },
  {
   "cell_type": "code",
   "execution_count": 9,
   "metadata": {
    "pycharm": {
     "is_executing": false,
     "name": "#%%\n"
    }
   },
   "outputs": [],
   "source": [
    "# scaler = MinMaxScaler(feature_range=(0,1))\n",
    "# x_data['sales'] = scaler.fit_transform(np.array(x_data['sales']).reshape(-1,1))"
   ]
  },
  {
   "cell_type": "code",
   "execution_count": 10,
   "metadata": {
    "pycharm": {
     "is_executing": false,
     "name": "#%%\n"
    }
   },
   "outputs": [],
   "source": [
    "x_data_dict =  dict()\n",
    "x_data_grouped = x_data.groupby('recipient')\n",
    "for recipient in x_data_grouped.groups:\n",
    "    x_data_dict[recipient] = pd.DataFrame(x_data_grouped['date','sales'].get_group(recipient))\n",
    "assert len(x_data_dict) == len(y_data)"
   ]
  },
  {
   "cell_type": "code",
   "execution_count": 11,
   "metadata": {
    "pycharm": {
     "is_executing": false,
     "name": "#%%\n"
    }
   },
   "outputs": [],
   "source": [
    "X = list()\n",
    "for key, item in x_data_dict.items():\n",
    "    X.append(fill_dates(item, datetime.strptime(\"2018-09-01\",\"%Y-%m-%d\")).values.tolist())"
   ]
  },
  {
   "cell_type": "code",
   "execution_count": 12,
   "metadata": {
    "pycharm": {
     "is_executing": false,
     "name": "#%%\n"
    }
   },
   "outputs": [],
   "source": [
    "X = pad_sequences(X, value=-1,dtype='float32')\n",
    "y = np.array(y_data['churned'].values)\n",
    "y = y.reshape(y.shape[0],1)"
   ]
  },
  {
   "cell_type": "code",
   "execution_count": 13,
   "metadata": {
    "pycharm": {
     "is_executing": false,
     "name": "#%%\n"
    }
   },
   "outputs": [],
   "source": [
    "split_ratio = 0.7\n",
    "learning_rate = 0.001\n",
    "random_seed = 100\n",
    "lstm_cells = 20\n",
    "dropout = 0"
   ]
  },
  {
   "cell_type": "code",
   "execution_count": 14,
   "metadata": {
    "pycharm": {
     "is_executing": false,
     "name": "#%%\n"
    }
   },
   "outputs": [],
   "source": [
    "X_test, X_train = train_test_split(X, 1-split_ratio)\n",
    "y_test, y_train = train_test_split(y, 1-split_ratio)"
   ]
  },
  {
   "cell_type": "code",
   "execution_count": 15,
   "metadata": {
    "pycharm": {
     "is_executing": false,
     "name": "#%%\n"
    }
   },
   "outputs": [],
   "source": [
    "set_random_seed(random_seed)\n",
    "opt = Adam(learning_rate=learning_rate)\n",
    "model = Sequential()\n",
    "model.add(Masking(mask_value=-1, input_shape=(X_train.shape[1],1)))\n",
    "model.add(LSTM(lstm_cells, recurrent_dropout=dropout))\n",
    "model.add(Dropout(dropout))\n",
    "model.add(Dense(1, activation='sigmoid'))\n",
    "model.compile(loss='binary_crossentropy', optimizer=opt, metrics=['acc'])"
   ]
  },
  {
   "cell_type": "code",
   "execution_count": 16,
   "metadata": {
    "pycharm": {
     "is_executing": false,
     "name": "#%%\n"
    }
   },
   "outputs": [
    {
     "name": "stdout",
     "output_type": "stream",
     "text": [
      "Train on 246 samples, validate on 106 samples\n",
      "Epoch 1/100\n",
      "246/246 [==============================] - 1s 3ms/step - loss: 0.6323 - acc: 0.6748 - val_loss: 0.6248 - val_acc: 0.6415\n",
      "Epoch 2/100\n",
      "246/246 [==============================] - 0s 873us/step - loss: 0.6087 - acc: 0.6911 - val_loss: 0.6032 - val_acc: 0.6415\n",
      "Epoch 3/100\n",
      "246/246 [==============================] - 0s 845us/step - loss: 0.5836 - acc: 0.6911 - val_loss: 0.5787 - val_acc: 0.6415\n",
      "Epoch 4/100\n",
      "246/246 [==============================] - 0s 865us/step - loss: 0.5621 - acc: 0.6911 - val_loss: 0.5588 - val_acc: 0.6415\n",
      "Epoch 5/100\n",
      "246/246 [==============================] - 0s 910us/step - loss: 0.5426 - acc: 0.6911 - val_loss: 0.5376 - val_acc: 0.6415\n",
      "Epoch 6/100\n",
      "246/246 [==============================] - 0s 873us/step - loss: 0.5232 - acc: 0.6911 - val_loss: 0.5165 - val_acc: 0.6415\n",
      "Epoch 7/100\n",
      "246/246 [==============================] - 0s 894us/step - loss: 0.5004 - acc: 0.6911 - val_loss: 0.4948 - val_acc: 0.6415\n",
      "Epoch 8/100\n",
      "246/246 [==============================] - 0s 898us/step - loss: 0.4806 - acc: 0.7805 - val_loss: 0.4779 - val_acc: 0.8962\n",
      "Epoch 9/100\n",
      "246/246 [==============================] - 0s 922us/step - loss: 0.4634 - acc: 0.8740 - val_loss: 0.4632 - val_acc: 0.9340\n",
      "Epoch 10/100\n",
      "246/246 [==============================] - 0s 906us/step - loss: 0.4453 - acc: 0.8659 - val_loss: 0.4522 - val_acc: 0.9151\n",
      "Epoch 11/100\n",
      "246/246 [==============================] - 0s 873us/step - loss: 0.4314 - acc: 0.8740 - val_loss: 0.4376 - val_acc: 0.9151\n",
      "Epoch 12/100\n",
      "246/246 [==============================] - 0s 894us/step - loss: 0.4174 - acc: 0.8699 - val_loss: 0.4177 - val_acc: 0.9151\n",
      "Epoch 13/100\n",
      "246/246 [==============================] - 0s 918us/step - loss: 0.4033 - acc: 0.8618 - val_loss: 0.3932 - val_acc: 0.9245\n",
      "Epoch 14/100\n",
      "246/246 [==============================] - 0s 894us/step - loss: 0.3862 - acc: 0.8699 - val_loss: 0.3681 - val_acc: 0.9340\n",
      "Epoch 15/100\n",
      "246/246 [==============================] - 0s 873us/step - loss: 0.3697 - acc: 0.8740 - val_loss: 0.3478 - val_acc: 0.9434\n",
      "Epoch 16/100\n",
      "246/246 [==============================] - 0s 918us/step - loss: 0.3566 - acc: 0.8740 - val_loss: 0.3345 - val_acc: 0.9434\n",
      "Epoch 17/100\n",
      "246/246 [==============================] - 0s 898us/step - loss: 0.3451 - acc: 0.8740 - val_loss: 0.3242 - val_acc: 0.9340\n",
      "Epoch 18/100\n",
      "246/246 [==============================] - 0s 902us/step - loss: 0.3343 - acc: 0.8740 - val_loss: 0.3162 - val_acc: 0.9340\n",
      "Epoch 19/100\n",
      "246/246 [==============================] - 0s 926us/step - loss: 0.3257 - acc: 0.8740 - val_loss: 0.3065 - val_acc: 0.9245\n",
      "Epoch 20/100\n",
      "246/246 [==============================] - 0s 938us/step - loss: 0.3154 - acc: 0.8780 - val_loss: 0.2996 - val_acc: 0.9245\n",
      "Epoch 21/100\n",
      "246/246 [==============================] - 0s 902us/step - loss: 0.3071 - acc: 0.8780 - val_loss: 0.2934 - val_acc: 0.9151\n",
      "Epoch 22/100\n",
      "246/246 [==============================] - 0s 914us/step - loss: 0.3006 - acc: 0.8780 - val_loss: 0.2901 - val_acc: 0.9057\n",
      "Epoch 23/100\n",
      "246/246 [==============================] - 0s 918us/step - loss: 0.2967 - acc: 0.8780 - val_loss: 0.2866 - val_acc: 0.9057\n",
      "Epoch 24/100\n",
      "246/246 [==============================] - 0s 938us/step - loss: 0.2930 - acc: 0.8821 - val_loss: 0.2813 - val_acc: 0.9151\n",
      "Epoch 25/100\n",
      "246/246 [==============================] - 0s 882us/step - loss: 0.2908 - acc: 0.8740 - val_loss: 0.2804 - val_acc: 0.9057\n",
      "Epoch 26/100\n",
      "246/246 [==============================] - 0s 922us/step - loss: 0.2857 - acc: 0.8740 - val_loss: 0.2760 - val_acc: 0.9245\n",
      "Epoch 27/100\n",
      "246/246 [==============================] - 0s 898us/step - loss: 0.2830 - acc: 0.8780 - val_loss: 0.2753 - val_acc: 0.9151\n",
      "Epoch 28/100\n",
      "246/246 [==============================] - 0s 914us/step - loss: 0.2813 - acc: 0.8740 - val_loss: 0.2735 - val_acc: 0.9151\n",
      "Epoch 29/100\n",
      "246/246 [==============================] - 0s 882us/step - loss: 0.2769 - acc: 0.8740 - val_loss: 0.2734 - val_acc: 0.9151\n",
      "Epoch 30/100\n",
      "246/246 [==============================] - 0s 906us/step - loss: 0.2765 - acc: 0.8699 - val_loss: 0.2704 - val_acc: 0.9151\n",
      "Epoch 31/100\n",
      "246/246 [==============================] - 0s 898us/step - loss: 0.2735 - acc: 0.8740 - val_loss: 0.2681 - val_acc: 0.9245\n",
      "Epoch 32/100\n",
      "246/246 [==============================] - 0s 930us/step - loss: 0.2721 - acc: 0.8740 - val_loss: 0.2696 - val_acc: 0.9151\n",
      "Epoch 33/100\n",
      "246/246 [==============================] - 0s 894us/step - loss: 0.2709 - acc: 0.8740 - val_loss: 0.2676 - val_acc: 0.9151\n",
      "Epoch 34/100\n",
      "246/246 [==============================] - 0s 898us/step - loss: 0.2664 - acc: 0.8699 - val_loss: 0.2696 - val_acc: 0.9151\n",
      "Epoch 35/100\n",
      "246/246 [==============================] - 0s 890us/step - loss: 0.2675 - acc: 0.8740 - val_loss: 0.2658 - val_acc: 0.9151\n",
      "Epoch 36/100\n",
      "246/246 [==============================] - 0s 947us/step - loss: 0.2648 - acc: 0.8780 - val_loss: 0.2646 - val_acc: 0.9151\n",
      "Epoch 37/100\n",
      "246/246 [==============================] - 0s 878us/step - loss: 0.2621 - acc: 0.8780 - val_loss: 0.2631 - val_acc: 0.9151\n",
      "Epoch 38/100\n",
      "246/246 [==============================] - 0s 861us/step - loss: 0.2647 - acc: 0.8862 - val_loss: 0.2624 - val_acc: 0.9245\n",
      "Epoch 39/100\n",
      "246/246 [==============================] - 0s 837us/step - loss: 0.2596 - acc: 0.8862 - val_loss: 0.2602 - val_acc: 0.9245\n",
      "Epoch 40/100\n",
      "246/246 [==============================] - 0s 825us/step - loss: 0.2633 - acc: 0.8740 - val_loss: 0.2646 - val_acc: 0.9151\n",
      "Epoch 41/100\n",
      "246/246 [==============================] - 0s 861us/step - loss: 0.2601 - acc: 0.8821 - val_loss: 0.2588 - val_acc: 0.9245\n",
      "Epoch 42/100\n",
      "246/246 [==============================] - 0s 825us/step - loss: 0.2540 - acc: 0.8821 - val_loss: 0.2583 - val_acc: 0.9245\n",
      "Epoch 43/100\n",
      "246/246 [==============================] - 0s 837us/step - loss: 0.2546 - acc: 0.8780 - val_loss: 0.2574 - val_acc: 0.9151\n",
      "Epoch 44/100\n",
      "246/246 [==============================] - 0s 817us/step - loss: 0.2512 - acc: 0.8821 - val_loss: 0.2553 - val_acc: 0.9245\n",
      "Epoch 45/100\n",
      "246/246 [==============================] - 0s 869us/step - loss: 0.2506 - acc: 0.8862 - val_loss: 0.2540 - val_acc: 0.9245\n",
      "Epoch 46/100\n",
      "246/246 [==============================] - 0s 845us/step - loss: 0.2575 - acc: 0.8821 - val_loss: 0.2568 - val_acc: 0.9151\n",
      "Epoch 47/100\n",
      "246/246 [==============================] - 0s 857us/step - loss: 0.2481 - acc: 0.8862 - val_loss: 0.2566 - val_acc: 0.9340\n",
      "Epoch 48/100\n",
      "246/246 [==============================] - 0s 837us/step - loss: 0.2497 - acc: 0.8821 - val_loss: 0.2542 - val_acc: 0.9245\n",
      "Epoch 49/100\n",
      "246/246 [==============================] - 0s 833us/step - loss: 0.2456 - acc: 0.8862 - val_loss: 0.2533 - val_acc: 0.9245\n",
      "Epoch 50/100\n",
      "246/246 [==============================] - 0s 833us/step - loss: 0.2411 - acc: 0.8780 - val_loss: 0.2528 - val_acc: 0.9245\n",
      "Epoch 51/100\n",
      "246/246 [==============================] - 0s 849us/step - loss: 0.2366 - acc: 0.8862 - val_loss: 0.2512 - val_acc: 0.9151\n",
      "Epoch 52/100\n",
      "246/246 [==============================] - 0s 808us/step - loss: 0.2407 - acc: 0.8862 - val_loss: 0.2573 - val_acc: 0.9245\n",
      "Epoch 53/100\n",
      "246/246 [==============================] - 0s 841us/step - loss: 0.2362 - acc: 0.8821 - val_loss: 0.2523 - val_acc: 0.9245\n",
      "Epoch 54/100\n",
      "246/246 [==============================] - 0s 829us/step - loss: 0.2308 - acc: 0.8902 - val_loss: 0.2503 - val_acc: 0.9151\n",
      "Epoch 55/100\n",
      "246/246 [==============================] - 0s 878us/step - loss: 0.2295 - acc: 0.8821 - val_loss: 0.2505 - val_acc: 0.9151\n",
      "Epoch 56/100\n",
      "246/246 [==============================] - 0s 825us/step - loss: 0.2267 - acc: 0.8821 - val_loss: 0.2486 - val_acc: 0.9151\n",
      "Epoch 57/100\n",
      "246/246 [==============================] - 0s 796us/step - loss: 0.2265 - acc: 0.8943 - val_loss: 0.2496 - val_acc: 0.9245\n",
      "Epoch 58/100\n",
      "246/246 [==============================] - 0s 808us/step - loss: 0.2232 - acc: 0.8902 - val_loss: 0.2483 - val_acc: 0.9151\n",
      "Epoch 59/100\n",
      "246/246 [==============================] - 0s 821us/step - loss: 0.2220 - acc: 0.8943 - val_loss: 0.2476 - val_acc: 0.9151\n",
      "Epoch 60/100\n",
      "246/246 [==============================] - 0s 825us/step - loss: 0.2208 - acc: 0.8862 - val_loss: 0.2478 - val_acc: 0.9245\n"
     ]
    },
    {
     "name": "stdout",
     "output_type": "stream",
     "text": [
      "Epoch 61/100\n",
      "246/246 [==============================] - 0s 833us/step - loss: 0.2230 - acc: 0.8862 - val_loss: 0.2453 - val_acc: 0.9245\n",
      "Epoch 62/100\n",
      "246/246 [==============================] - 0s 760us/step - loss: 0.2206 - acc: 0.8943 - val_loss: 0.2483 - val_acc: 0.9245\n",
      "Epoch 63/100\n",
      "246/246 [==============================] - 0s 760us/step - loss: 0.2175 - acc: 0.8780 - val_loss: 0.2501 - val_acc: 0.9151\n",
      "Epoch 64/100\n",
      "246/246 [==============================] - 0s 764us/step - loss: 0.2158 - acc: 0.8902 - val_loss: 0.2573 - val_acc: 0.9245\n",
      "Epoch 65/100\n",
      "246/246 [==============================] - 0s 776us/step - loss: 0.2156 - acc: 0.8821 - val_loss: 0.2440 - val_acc: 0.9151\n",
      "Epoch 66/100\n",
      "246/246 [==============================] - 0s 817us/step - loss: 0.2146 - acc: 0.9024 - val_loss: 0.2430 - val_acc: 0.9340\n",
      "Epoch 67/100\n",
      "246/246 [==============================] - 0s 768us/step - loss: 0.2142 - acc: 0.8943 - val_loss: 0.2446 - val_acc: 0.9245\n",
      "Epoch 68/100\n",
      "246/246 [==============================] - 0s 756us/step - loss: 0.2119 - acc: 0.9024 - val_loss: 0.2433 - val_acc: 0.9151\n",
      "Epoch 69/100\n",
      "246/246 [==============================] - 0s 776us/step - loss: 0.2119 - acc: 0.8984 - val_loss: 0.2444 - val_acc: 0.9151\n",
      "Epoch 70/100\n",
      "246/246 [==============================] - 0s 772us/step - loss: 0.2077 - acc: 0.9024 - val_loss: 0.2465 - val_acc: 0.9245\n",
      "Epoch 71/100\n",
      "246/246 [==============================] - 0s 772us/step - loss: 0.2073 - acc: 0.8984 - val_loss: 0.2472 - val_acc: 0.9245\n",
      "Epoch 72/100\n",
      "246/246 [==============================] - 0s 776us/step - loss: 0.2072 - acc: 0.8943 - val_loss: 0.2435 - val_acc: 0.9340\n",
      "Epoch 73/100\n",
      "246/246 [==============================] - 0s 788us/step - loss: 0.2059 - acc: 0.9024 - val_loss: 0.2431 - val_acc: 0.9245\n",
      "Epoch 74/100\n",
      "246/246 [==============================] - 0s 776us/step - loss: 0.2087 - acc: 0.9024 - val_loss: 0.2430 - val_acc: 0.9340\n",
      "Epoch 75/100\n",
      "246/246 [==============================] - 0s 764us/step - loss: 0.2040 - acc: 0.9024 - val_loss: 0.2471 - val_acc: 0.9245\n",
      "Epoch 76/100\n",
      "246/246 [==============================] - 0s 776us/step - loss: 0.2053 - acc: 0.8984 - val_loss: 0.2491 - val_acc: 0.9340\n",
      "Epoch 77/100\n",
      "246/246 [==============================] - 0s 780us/step - loss: 0.1987 - acc: 0.9106 - val_loss: 0.2473 - val_acc: 0.9245\n",
      "Epoch 78/100\n",
      "246/246 [==============================] - 0s 776us/step - loss: 0.1974 - acc: 0.8984 - val_loss: 0.2473 - val_acc: 0.9340\n",
      "Epoch 79/100\n",
      "246/246 [==============================] - 0s 792us/step - loss: 0.1988 - acc: 0.8984 - val_loss: 0.2457 - val_acc: 0.9340\n",
      "Epoch 80/100\n",
      "246/246 [==============================] - 0s 788us/step - loss: 0.1939 - acc: 0.9024 - val_loss: 0.2484 - val_acc: 0.9340\n",
      "Epoch 81/100\n",
      "246/246 [==============================] - 0s 918us/step - loss: 0.1950 - acc: 0.9106 - val_loss: 0.2511 - val_acc: 0.9340\n",
      "Epoch 82/100\n",
      "246/246 [==============================] - 0s 841us/step - loss: 0.1929 - acc: 0.8984 - val_loss: 0.2483 - val_acc: 0.9434\n",
      "Epoch 83/100\n",
      "246/246 [==============================] - 0s 768us/step - loss: 0.1908 - acc: 0.8984 - val_loss: 0.2473 - val_acc: 0.9434\n",
      "Epoch 84/100\n",
      "246/246 [==============================] - 0s 788us/step - loss: 0.1906 - acc: 0.9187 - val_loss: 0.2448 - val_acc: 0.9245\n",
      "Epoch 85/100\n",
      "246/246 [==============================] - 0s 792us/step - loss: 0.1963 - acc: 0.9065 - val_loss: 0.2496 - val_acc: 0.9245\n",
      "Epoch 86/100\n",
      "246/246 [==============================] - 0s 975us/step - loss: 0.1901 - acc: 0.9024 - val_loss: 0.2465 - val_acc: 0.9434\n",
      "Epoch 87/100\n",
      "246/246 [==============================] - 0s 796us/step - loss: 0.1873 - acc: 0.9106 - val_loss: 0.2468 - val_acc: 0.9340\n",
      "Epoch 88/100\n",
      "246/246 [==============================] - 0s 780us/step - loss: 0.1901 - acc: 0.9106 - val_loss: 0.2505 - val_acc: 0.9340\n",
      "Epoch 89/100\n",
      "246/246 [==============================] - 0s 772us/step - loss: 0.1934 - acc: 0.9187 - val_loss: 0.2464 - val_acc: 0.9245\n",
      "Epoch 90/100\n",
      "246/246 [==============================] - 0s 772us/step - loss: 0.1883 - acc: 0.9228 - val_loss: 0.2484 - val_acc: 0.9245\n",
      "Epoch 91/100\n",
      "246/246 [==============================] - 0s 829us/step - loss: 0.1804 - acc: 0.9187 - val_loss: 0.2508 - val_acc: 0.9340\n",
      "Epoch 92/100\n",
      "246/246 [==============================] - 0s 796us/step - loss: 0.1820 - acc: 0.9146 - val_loss: 0.2611 - val_acc: 0.9340\n",
      "Epoch 93/100\n",
      "246/246 [==============================] - 0s 772us/step - loss: 0.1855 - acc: 0.9187 - val_loss: 0.2507 - val_acc: 0.9151\n",
      "Epoch 94/100\n",
      "246/246 [==============================] - 0s 772us/step - loss: 0.1887 - acc: 0.9228 - val_loss: 0.2470 - val_acc: 0.9245\n",
      "Epoch 95/100\n",
      "246/246 [==============================] - 0s 768us/step - loss: 0.1824 - acc: 0.9146 - val_loss: 0.2490 - val_acc: 0.9245\n",
      "Epoch 96/100\n",
      "246/246 [==============================] - 0s 788us/step - loss: 0.1767 - acc: 0.9146 - val_loss: 0.2583 - val_acc: 0.9340\n",
      "Epoch 97/100\n",
      "246/246 [==============================] - 0s 817us/step - loss: 0.1767 - acc: 0.9146 - val_loss: 0.2547 - val_acc: 0.9245\n",
      "Epoch 98/100\n",
      "246/246 [==============================] - 0s 752us/step - loss: 0.1743 - acc: 0.9146 - val_loss: 0.2606 - val_acc: 0.9340\n",
      "Epoch 99/100\n",
      "246/246 [==============================] - 0s 760us/step - loss: 0.1863 - acc: 0.9065 - val_loss: 0.2523 - val_acc: 0.9245\n",
      "Epoch 100/100\n",
      "246/246 [==============================] - 0s 800us/step - loss: 0.1760 - acc: 0.9187 - val_loss: 0.2541 - val_acc: 0.9245\n"
     ]
    }
   ],
   "source": [
    "es = EarlyStopping(monitor='loss', mode='min', verbose=1, restore_best_weights=True, patience=5)\n",
    "history = model.fit(x=X_train,y=y_train,epochs=100, verbose=1, callbacks=[es], validation_data=(X_test, y_test))\n",
    "scores = model.evaluate(X_test, y_test, verbose=0)"
   ]
  },
  {
   "cell_type": "code",
   "execution_count": 17,
   "metadata": {
    "pycharm": {
     "is_executing": false,
     "name": "#%%\n"
    }
   },
   "outputs": [
    {
     "data": {
      "image/png": "[encoded data removed]",
      "text/plain": [
       "<Figure size 1152x360 with 2 Axes>"
      ]
     },
     "metadata": {
      "needs_background": "light"
     },
     "output_type": "display_data"
    },
    {
     "name": "stdout",
     "output_type": "stream",
     "text": [
      "Accuracy: 92.45%\n",
      "Guessed 98 of 106 Samples correctly!\n"
     ]
    }
   ],
   "source": [
    "plt.rcParams[\"figure.figsize\"] = (16, 5)\n",
    "fig, (ax1, ax2) = plt.subplots(1, 2)\n",
    "\n",
    "ax1.plot(history.history['loss'], label='train')\n",
    "ax1.plot(history.history['val_loss'], label='test')\n",
    "ax1.legend(loc=\"upper left\")\n",
    "ax1.set_title(\"Training and Testing Loss\")\n",
    "ax2.plot(history.history['acc'], label='train')\n",
    "ax2.plot(history.history['val_acc'], label='test')\n",
    "ax2.legend(loc=\"upper left\")\n",
    "ax2.set_title(\"Training and Testing Accuracy\")\n",
    "plt.show()\n",
    "\n",
    "print(\"Accuracy: %.2f%%\" % (scores[1]*100))\n",
    "print(\"Guessed \" + str(round(X_test.shape[0] * scores[1])) + \" of \" + str(X_test.shape[0]) + \" Samples correctly!\")"
   ]
  }
 ],
 "metadata": {
  "kernelspec": {
   "display_name": "ml_workshop",
   "language": "python",
   "name": "ml_workshop"
  },
  "language_info": {
   "codemirror_mode": {
    "name": "ipython",
    "version": 3
   },
   "file_extension": ".py",
   "mimetype": "text/x-python",
   "name": "python",
   "nbconvert_exporter": "python",
   "pygments_lexer": "ipython3",
   "version": "3.6.8"
  },
  "pycharm": {
   "stem_cell": {
    "cell_type": "raw",
    "metadata": {
     "collapsed": false
    },
    "source": []
   }
  }
 },
 "nbformat": 4,
 "nbformat_minor": 1
}
