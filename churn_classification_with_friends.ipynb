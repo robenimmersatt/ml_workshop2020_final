{
 "cells": [
  {
   "cell_type": "markdown",
   "metadata": {},
   "source": [
    "### Beispiel eines Neuronalen Netzes zur Vorhersage von Kundenabwanderung\n",
    "Genutzt wird in diesem Fall ein **LSTM**-Netz (Long-Short-Term-Memory)\n",
    ", welches besonders gut für die Analyse von längeren Sequenzen (Texte, Kursverläufe etc.) geeignet ist.\n",
    "In unserem Fall sind dies Bestellverläufe verschiedener Kunden. Ziel ist es, das Netz auf einen Teil der Kundenbestellungen zu trainieren, und mit dem Rest zu testen ob das System diese richtig als abgesprungen oder nicht abgesprungen klassifiziert."
   ]
  },
  {
   "cell_type": "markdown",
   "metadata": {
    "pycharm": {
     "name": "#%% md\n"
    }
   },
   "source": [
    "Im folgenden finden Sie die Codefragmente mit den zugehörigen Beschreibungen. Diese müssen nacheinander von Ihnen ausgeführt werden."
   ]
  },
  {
   "cell_type": "markdown",
   "metadata": {
    "pycharm": {
     "name": "#%% md\n"
    }
   },
   "source": [
    "Import der notwendigen Bibliotheken:\n",
    "* **Keras** - Hauptframework für Machine Learning. (Basiert auf Google's Tensorflow)\n",
    "* **Numpy** - Unter anderem zur Durchführung von Vektorberechnungen.\n",
    "* **Pandas** - Regelt den Import und die Formatierung von Daten. "
   ]
  },
  {
   "cell_type": "markdown",
   "metadata": {},
   "source": [
    "## Imports und Funktionen"
   ]
  },
  {
   "cell_type": "code",
   "execution_count": 1,
   "metadata": {
    "pycharm": {
     "is_executing": false,
     "name": "#%%\n"
    }
   },
   "outputs": [],
   "source": [
    "import random as rn\n",
    "from datetime import datetime\n",
    "\n",
    "from dateutil.relativedelta import relativedelta\n",
    "import matplotlib.pyplot as plt\n",
    "import numpy as np\n",
    "import pandas as pd\n",
    "\n",
    "from sklearn.model_selection import train_test_split\n",
    "\n",
    "import tensorflow as tf\n",
    "from tensorflow.keras import Sequential, Input, Model\n",
    "from tensorflow.keras.callbacks import EarlyStopping\n",
    "from tensorflow.keras.layers import Masking, LSTM, Dense, Dropout, concatenate\n",
    "from tensorflow.keras.optimizers import Adam\n",
    "from tensorflow.keras.preprocessing.sequence import pad_sequences"
   ]
  },
  {
   "cell_type": "code",
   "execution_count": 2,
   "metadata": {},
   "outputs": [],
   "source": [
    "RANDOM_SEED = 40\n",
    "\n",
    "rn.seed(RANDOM_SEED)\n",
    "np.random.seed(RANDOM_SEED)\n",
    "tf.random.set_seed(RANDOM_SEED)"
   ]
  },
  {
   "cell_type": "markdown",
   "metadata": {
    "pycharm": {
     "name": "#%% md\n"
    }
   },
   "source": [
    "Funktion: *Inner-Join* auf zwei Datensätzen"
   ]
  },
  {
   "cell_type": "code",
   "execution_count": 3,
   "metadata": {
    "pycharm": {
     "is_executing": false,
     "name": "#%%\n"
    }
   },
   "outputs": [],
   "source": [
    "def drop_missing_values_vise_versa(df1, df2, column_name):\n",
    "    \"\"\"Entferne die fehlenden Werte anhand einer Spalte\n",
    "    \n",
    "    Args:\n",
    "        df1 (:obj:`pandas.DataFrame`): 1. DataFrame\n",
    "        df2 (:obj:`pandas.DataFrame`): 2. DataFrame\n",
    "        column_name (:obj:`str`): relevanter Spaltenname\n",
    "    \n",
    "    Returns:\n",
    "        tuple of two :obj:`pandas.DataFrame`\n",
    "    \"\"\"\n",
    "    \n",
    "    assert column_name in df1.columns and column_name in df2.columns, 'Spaltenname muss in beiden DFs vorliegen.'\n",
    "\n",
    "    drop_condition = df1[column_name].isin(df2[column_name]) == False\n",
    "    df1 = df1.drop(df1[drop_condition].index)\n",
    "\n",
    "    drop_condition = df2[column_name].isin(df1[column_name]) == False\n",
    "    df2 = df2.drop(df2[drop_condition].index)\n",
    "\n",
    "    return df1, df2"
   ]
  },
  {
   "cell_type": "markdown",
   "metadata": {
    "pycharm": {
     "name": "#%% md\n"
    }
   },
   "source": [
    "Funktion: welche fehlende Daten einer Zeitreihe auffüllt. Wenn kein Wert da ist tragen wir eine 0 ein."
   ]
  },
  {
   "cell_type": "code",
   "execution_count": 4,
   "metadata": {
    "pycharm": {
     "is_executing": false,
     "name": "#%%\n"
    }
   },
   "outputs": [],
   "source": [
    "def fill_dates(df, end_date):\n",
    "    \"\"\"Fülle die Zeitreihen bis zu einem gegebenen Datum auf\n",
    "    \n",
    "    Args:\n",
    "        df (:obj:`pandas.DataFrame`): DataFrame mit Zeitreihen\n",
    "        end_date (:obj:`datetime.datetime`)\n",
    "    \n",
    "    Returns:\n",
    "        :obj:`pandas.DataFrame` aufgefüllter DataFrame\n",
    "    \"\"\"\n",
    "\n",
    "    start_date = df['date'].iloc[0]\n",
    "    if start_date > end_date or len(df) == 0:\n",
    "        return df\n",
    "\n",
    "    months_diff = ((end_date.year - start_date.year) * 12 + end_date.month - start_date.month)\n",
    "    date_list = [start_date + relativedelta(months=x) for x in range(0, months_diff)]\n",
    "    date_frame = pd.DataFrame(date_list)\n",
    "    date_frame.columns = ['date']\n",
    "    value = pd.merge(date_frame, df, how='left').fillna(0)\n",
    "    value = value.drop(['date'], axis=1)\n",
    "\n",
    "    return value"
   ]
  },
  {
   "cell_type": "markdown",
   "metadata": {
    "pycharm": {
     "name": "#%% md\n"
    }
   },
   "source": [
    "## Einlesen der Daten mithilfe von **Pandas**\n",
    "* Es wird zwischen X und Y-Werten unterschieden.\n",
    "* Die X-Werte sind in unserem Fall die Bestellverläufe.\n",
    "* Der Y-Wert ist ein *boolean*-Wert, welcher besagt ob ein Kunde abgesprungen ist."
   ]
  },
  {
   "cell_type": "code",
   "execution_count": 5,
   "metadata": {
    "pycharm": {
     "is_executing": false,
     "name": "#%%\n"
    }
   },
   "outputs": [
    {
     "data": {
      "text/plain": [
       "count                   20112\n",
       "unique                     57\n",
       "top       2019-02-01 00:00:00\n",
       "freq                      458\n",
       "first     2015-02-01 00:00:00\n",
       "last      2019-10-01 00:00:00\n",
       "Name: date, dtype: object"
      ]
     },
     "execution_count": 5,
     "metadata": {},
     "output_type": "execute_result"
    }
   ],
   "source": [
    "x_data = pd.read_csv(\"cleaned_orders.csv\", header=0, index_col=0, sep=\",\", decimal=\".\", dtype={0:int})\n",
    "x_data['date'] = pd.to_datetime(x_data.date, format='%Y-%m-%d')\n",
    "\n",
    "x_data['date'].describe() # scope: monthly, 2015-02 until 2019-09"
   ]
  },
  {
   "cell_type": "code",
   "execution_count": 6,
   "metadata": {
    "pycharm": {
     "is_executing": false,
     "name": "#%%\n"
    }
   },
   "outputs": [],
   "source": [
    "x_data = pd.read_csv(\"cleaned_orders.csv\", header=0, index_col=0, sep=\",\", decimal=\".\", dtype={0:int})\n",
    "x_data['date'] = pd.to_datetime(x_data.date, format='%Y-%m-%d') # scope: monthly, 2015-02 until 2019-09\n",
    "x_data = x_data.drop(\"quantity\", axis=1)\n",
    "x_data = x_data[x_data.date < '2018-09-01'] # spätere Daten wurden zur Churn Bestimmung (y-Daten) benutzt\n"
   ]
  },
  {
   "cell_type": "code",
   "execution_count": 7,
   "metadata": {
    "pycharm": {
     "is_executing": false,
     "name": "#%%\n"
    }
   },
   "outputs": [],
   "source": [
    "y_data = pd.read_csv(\"cleaned_y_data.csv\", header=0, index_col=0, sep=\",\", dtype={0:int,1:int})\n",
    "y_data = y_data.sort_values('recipient').reset_index(drop=True)"
   ]
  },
  {
   "cell_type": "code",
   "execution_count": 8,
   "metadata": {
    "pycharm": {
     "is_executing": false,
     "name": "#%%\n"
    }
   },
   "outputs": [],
   "source": [
    "x_data, y_data = drop_missing_values_vise_versa(x_data, y_data, 'recipient')"
   ]
  },
  {
   "cell_type": "markdown",
   "metadata": {
    "pycharm": {
     "name": "#%% md\n"
    }
   },
   "source": [
    "## Freunschaftsbeziehungen\n",
    "\n",
    "Die sozialen Beziehungen zwischen den Kunden simulieren wir hier stark simplifiziert.\n",
    "Wir erfinden einfach einen Wert, der die Anzahl von \"Churner-Freunden\" angibt, und der ist höher bei Churnern."
   ]
  },
  {
   "cell_type": "code",
   "execution_count": 9,
   "metadata": {
    "pycharm": {
     "is_executing": false,
     "name": "#%%\n"
    }
   },
   "outputs": [],
   "source": [
    "y_data[\"churner_friends\"] = [rn.randint(4,10) if row[2]==1 else rn.randint(0,6) \\\n",
    "                                         for row in y_data.itertuples()]\n",
    "friends = y_data.iloc[:,[0,2]]\n",
    "y_data = y_data.iloc[:,[0,1]]"
   ]
  },
  {
   "cell_type": "code",
   "execution_count": 10,
   "metadata": {},
   "outputs": [
    {
     "data": {
      "text/html": [
       "<div>\n",
       "<style scoped>\n",
       "    .dataframe tbody tr th:only-of-type {\n",
       "        vertical-align: middle;\n",
       "    }\n",
       "\n",
       "    .dataframe tbody tr th {\n",
       "        vertical-align: top;\n",
       "    }\n",
       "\n",
       "    .dataframe thead th {\n",
       "        text-align: right;\n",
       "    }\n",
       "</style>\n",
       "<table border=\"1\" class=\"dataframe\">\n",
       "  <thead>\n",
       "    <tr style=\"text-align: right;\">\n",
       "      <th></th>\n",
       "      <th>recipient</th>\n",
       "      <th>churner_friends</th>\n",
       "    </tr>\n",
       "  </thead>\n",
       "  <tbody>\n",
       "    <tr>\n",
       "      <th>0</th>\n",
       "      <td>11675</td>\n",
       "      <td>3</td>\n",
       "    </tr>\n",
       "    <tr>\n",
       "      <th>1</th>\n",
       "      <td>12589</td>\n",
       "      <td>4</td>\n",
       "    </tr>\n",
       "    <tr>\n",
       "      <th>2</th>\n",
       "      <td>13593</td>\n",
       "      <td>8</td>\n",
       "    </tr>\n",
       "    <tr>\n",
       "      <th>3</th>\n",
       "      <td>14080</td>\n",
       "      <td>4</td>\n",
       "    </tr>\n",
       "    <tr>\n",
       "      <th>4</th>\n",
       "      <td>14089</td>\n",
       "      <td>1</td>\n",
       "    </tr>\n",
       "  </tbody>\n",
       "</table>\n",
       "</div>"
      ],
      "text/plain": [
       "   recipient  churner_friends\n",
       "0      11675                3\n",
       "1      12589                4\n",
       "2      13593                8\n",
       "3      14080                4\n",
       "4      14089                1"
      ]
     },
     "execution_count": 10,
     "metadata": {},
     "output_type": "execute_result"
    }
   ],
   "source": [
    "friends.head(5)"
   ]
  },
  {
   "cell_type": "markdown",
   "metadata": {},
   "source": [
    "Veranschaulichung der Abhängigkeit zwischen \"ist churned\" und \"Anzahl der churned friends\""
   ]
  },
  {
   "cell_type": "code",
   "execution_count": 11,
   "metadata": {},
   "outputs": [
    {
     "name": "stdout",
     "output_type": "stream",
     "text": [
      "     recipient  churned  churner_friends\n",
      "280      42091        0                0\n",
      "33       14174        0                0\n",
      "132      40308        0                0\n",
      "170      40924        0                0\n",
      "325      43022        0                0\n",
      "44       14202        0                0\n",
      "322      42948        0                0\n",
      "319      42776        0                0\n",
      "291      42248        0                0\n",
      "161      40878        0                0\n",
      "310      42589        0                0\n",
      "288      42183        0                0\n",
      "155      40856        0                0\n",
      "307      42546        0                0\n",
      "76       14654        0                0\n",
      "77       14724        0                0\n",
      "306      42535        0                0\n",
      "81       14887        0                0\n",
      "305      42532        0                0\n",
      "209      41222        0                0\n",
      "257      41807        0                0\n",
      "87       15054        0                0\n",
      "301      42499        0                0\n",
      "142      40767        0                0\n",
      "100      15515        0                0\n",
      "101      15531        0                0\n",
      "335      43143        0                0\n",
      "28       14159        0                0\n",
      "139      40709        0                0\n",
      "17       14129        0                0\n",
      "197      41158        0                0\n",
      "203      41183        0                0\n",
      "193      41123        0                0\n",
      "273      42051        0                0\n",
      "213      41261        0                0\n",
      "21       14141        0                0\n",
      "63       14340        0                1\n",
      "341     300163        0                1\n",
      "195      41144        0                1\n",
      "154      40855        0                1\n",
      "72       14586        0                1\n",
      "264      41916        0                1\n",
      "343     924029        0                1\n",
      "10       14107        0                1\n",
      "106      15886        0                1\n",
      "29       14167        0                1\n",
      "84       14948        0                1\n",
      "302      42506        0                1\n",
      "4        14089        0                1\n",
      "146      40836        0                1\n",
      "145      40830        0                1\n",
      "258      41809        0                1\n",
      "141      40751        0                1\n",
      "140      40743        0                1\n",
      "294      42355        0                1\n",
      "293      42309        0                1\n",
      "311      42593        0                1\n",
      "216      41275        0                1\n",
      "51       14220        0                1\n",
      "23       14148        0                1\n",
      "315      42688        0                1\n",
      "244      41642        0                1\n",
      "55       14234        0                1\n",
      "233      41460        0                1\n",
      "317      42738        0                1\n",
      "53       14228        0                1\n",
      "133      40321        0                1\n",
      "20       14138        0                1\n",
      "275      42062        0                1\n",
      "321      42922        0                1\n",
      "329      43098        0                1\n",
      "36       14178        0                1\n",
      "171      40925        0                2\n",
      "172      40927        0                2\n",
      "5        14094        0                2\n",
      "279      42090        0                2\n",
      "129      40107        0                2\n",
      "94       15304        0                2\n",
      "186      41101        0                2\n",
      "178      41022        0                2\n",
      "234      41465        0                2\n",
      "349    7000483        0                2\n",
      "212      41248        0                2\n",
      "91       15194        0                2\n",
      "34       14176        0                2\n",
      "199      41166        0                2\n",
      "80       14767        0                2\n",
      "60       14330        0                2\n",
      "57       14236        0                2\n",
      "336      43147        0                2\n",
      "309      42562        0                2\n",
      "308      42561        0                2\n",
      "50       14217        0                2\n",
      "345     940762        0                2\n",
      "223      41342        0                2\n",
      "13       14121        0                2\n",
      "151      40845        0                2\n",
      "12       14113        0                2\n",
      "241      41548        0                2\n",
      "167      40919        0                2\n",
      "287      42180        0                2\n",
      "266      42018        0                3\n",
      "265      41917        0                3\n",
      "259      41810        0                3\n",
      "0        11675        0                3\n",
      "149      40841        0                3\n",
      "150      40844        0                3\n",
      "256      41803        0                3\n",
      "252      41729        0                3\n",
      "159      40867        0                3\n",
      "248      41703        0                3\n",
      "243      41634        0                3\n",
      "173      40930        0                3\n",
      "236      41499        0                3\n",
      "177      40973        0                3\n",
      "188      41109        0                3\n",
      "229      41390        0                3\n",
      "147      40837        0                3\n",
      "245      41645        0                3\n",
      "105      15874        0                3\n",
      "118      16952        0                3\n",
      "61       14331        0                3\n",
      "327      43059        0                3\n",
      "66       14505        0                3\n",
      "330      43100        0                3\n",
      "332      43124        0                3\n",
      "304      42529        0                3\n",
      "303      42522        0                3\n",
      "88       15065        0                3\n",
      "338      43172        0                3\n",
      "296      42433        0                3\n",
      "340     103464        0                3\n",
      "15       14126        0                3\n",
      "320      42853        0                3\n",
      "347     960422        0                3\n",
      "117      16861        0                3\n",
      "113      16511        0                3\n",
      "346     956118        0                3\n",
      "342     900018        0                3\n",
      "219      41295        1                4\n",
      "333      43126        0                4\n",
      "1        12589        0                4\n",
      "235      41476        1                4\n",
      "237      41500        1                4\n",
      "328      43088        0                4\n",
      "207      41210        0                4\n",
      "208      41213        0                4\n",
      "326      43051        0                4\n",
      "42       14198        1                4\n",
      "206      41205        0                4\n",
      "334      43132        0                4\n",
      "204      41195        1                4\n",
      "230      41409        1                4\n",
      "3        14080        1                4\n",
      "184      41076        0                4\n",
      "185      41100        0                4\n",
      "187      41102        0                4\n",
      "323      42959        0                4\n",
      "344     930457        0                4\n",
      "339     100350        0                4\n",
      "220      41300        1                4\n",
      "18       14130        0                4\n",
      "194      41143        0                4\n",
      "217      41282        0                4\n",
      "181      41054        1                4\n",
      "24       14151        0                4\n",
      "318      42764        0                4\n",
      "119      17034        0                4\n",
      "144      40828        0                4\n",
      "298      42486        0                4\n",
      "295      42398        0                4\n",
      "290      42215        0                4\n",
      "104      15815        0                4\n",
      "110      16382        1                4\n",
      "92       15222        0                4\n",
      "285      42171        0                4\n",
      "267      42023        1                4\n",
      "268      42024        0                4\n",
      "271      42049        0                4\n",
      "272      42050        1                4\n",
      "115      16635        0                4\n",
      "116      16745        1                4\n",
      "282      42098        0                4\n",
      "299      42489        1                4\n",
      "211      41247        1                4\n",
      "75       14606        0                4\n",
      "56       14235        0                4\n",
      "73       14587        0                4\n",
      "153      40853        0                4\n",
      "71       14569        0                4\n",
      "314      42653        0                4\n",
      "246      41660        0                4\n",
      "69       14554        1                4\n",
      "79       14751        0                4\n",
      "68       14536        0                4\n",
      "250      41717        0                4\n",
      "64       14349        0                4\n",
      "231      41419        0                5\n",
      "278      42089        0                5\n",
      "238      41514        1                5\n",
      "270      42028        1                5\n",
      "253      41740        0                5\n",
      "281      42097        1                5\n",
      "289      42193        1                5\n",
      "263      41885        0                5\n",
      "262      41872        0                5\n",
      "225      41353        1                5\n",
      "242      41554        0                5\n",
      "337      43161        0                5\n",
      "214      41268        1                5\n",
      "297      42475        0                5\n",
      "175      40937        0                5\n",
      "114      16624        1                5\n",
      "65       14482        1                5\n",
      "127      19869        1                5\n",
      "166      40912        1                5\n",
      "82       14919        1                5\n",
      "164      40906        0                5\n",
      "163      40901        1                5\n",
      "99       15513        1                5\n",
      "103      15763        1                5\n",
      "52       14224        0                5\n",
      "157      40860        0                5\n",
      "112      16510        0                5\n",
      "120      17129        1                5\n",
      "138      40691        1                5\n",
      "121      17179        1                5\n",
      "136      40680        1                5\n",
      "125      19808        0                5\n",
      "126      19862        1                5\n",
      "131      40165        0                5\n",
      "108      15910        0                5\n",
      "180      41031        0                5\n",
      "70       14556        1                5\n",
      "128      19903        1                5\n",
      "190      41116        0                5\n",
      "25       14152        0                5\n",
      "191      41119        0                5\n",
      "19       14133        0                5\n",
      "8        14100        0                5\n",
      "201      41173        0                5\n",
      "9        14103        1                5\n",
      "48       14213        0                5\n",
      "124      19790        0                6\n",
      "123      19733        0                6\n",
      "16       14128        0                6\n",
      "210      41238        1                6\n",
      "348     987004        0                6\n",
      "27       14154        0                6\n",
      "283      42151        1                6\n",
      "286      42178        0                6\n",
      "30       14171        0                6\n",
      "49       14216        0                6\n",
      "35       14177        1                6\n",
      "95       15339        0                6\n",
      "90       15160        0                6\n",
      "83       14935        0                6\n",
      "331      43101        0                6\n",
      "37       14186        0                6\n",
      "40       14196        0                6\n",
      "74       14589        0                6\n",
      "324      42992        0                6\n",
      "45       14205        0                6\n",
      "313      42606        1                6\n",
      "59       14318        0                6\n",
      "54       14229        1                6\n",
      "47       14211        1                6\n",
      "32       14173        1                6\n",
      "107      15909        0                6\n",
      "351    7011015        0                6\n",
      "130      40138        1                6\n",
      "158      40866        0                6\n",
      "169      40921        0                6\n",
      "156      40859        0                6\n",
      "254      41759        0                6\n",
      "183      41059        0                6\n",
      "189      41110        1                6\n",
      "152      40848        1                6\n",
      "269      42025        0                6\n",
      "165      40911        0                6\n",
      "160      40875        0                6\n",
      "224      41343        0                6\n",
      "247      41702        0                6\n",
      "200      41169        1                6\n",
      "261      41868        1                6\n",
      "215      41270        0                6\n",
      "137      40681        0                6\n",
      "135      40676        1                6\n",
      "202      41174        0                6\n",
      "226      41358        1                6\n",
      "249      41706        1                6\n",
      "78       14733        1                7\n",
      "240      41547        1                7\n",
      "67       14534        1                7\n",
      "350    7006317        1                7\n",
      "316      42692        1                7\n",
      "85       15003        1                7\n",
      "43       14201        1                7\n",
      "228      41371        1                7\n",
      "26       14153        1                7\n",
      "312      42605        1                7\n",
      "86       15025        1                7\n",
      "239      41537        1                7\n",
      "93       15258        1                7\n",
      "122      19721        1                7\n",
      "284      42161        1                7\n",
      "109      16198        1                7\n",
      "205      41196        1                8\n",
      "41       14197        1                8\n",
      "31       14172        1                8\n",
      "182      41056        1                8\n",
      "192      41121        1                8\n",
      "179      41029        1                8\n",
      "277      42087        1                8\n",
      "196      41146        1                8\n",
      "38       14190        1                8\n",
      "218      41284        1                8\n",
      "198      41161        1                8\n",
      "97       15465        1                8\n",
      "96       15353        1                8\n",
      "2        13593        1                8\n",
      "227      41361        1                8\n",
      "14       14122        1                9\n",
      "276      42063        1                9\n",
      "274      42054        1                9\n",
      "7        14098        1                9\n",
      "6        14095        1                9\n",
      "222      41318        1                9\n",
      "22       14146        1                9\n",
      "300      42494        1                9\n",
      "89       15120        1                9\n",
      "39       14193        1                9\n",
      "58       14268        1                9\n",
      "232      41438        1                9\n",
      "174      40932        1                9\n",
      "148      40840        1                9\n",
      "221      41314        1               10\n",
      "162      40896        1               10\n",
      "134      40381        1               10\n",
      "168      40920        1               10\n",
      "98       15485        1               10\n",
      "292      42260        1               10\n",
      "62       14332        1               10\n",
      "11       14111        1               10\n",
      "102      15583        1               10\n",
      "251      41727        1               10\n",
      "260      41845        1               10\n",
      "111      16499        1               10\n",
      "176      40970        1               10\n",
      "255      41760        1               10\n",
      "46       14209        1               10\n",
      "143      40795        1               10\n"
     ]
    }
   ],
   "source": [
    "with pd.option_context('display.max_rows', None, 'display.max_columns', None):  # more options can be specified also\n",
    "    merged = y_data.merge(friends)\n",
    "    merged = merged.sort_values(by=['churner_friends'])\n",
    "    print(merged)"
   ]
  },
  {
   "cell_type": "markdown",
   "metadata": {},
   "source": [
    "Die Freunschaftsbeziehungen müssen normalisiert werden, bevor sie vom NN verarbeitet werden können!"
   ]
  },
  {
   "cell_type": "code",
   "execution_count": 12,
   "metadata": {},
   "outputs": [],
   "source": [
    "friends=(friends['churner_friends']-friends['churner_friends'].mean())/friends['churner_friends'].std()"
   ]
  },
  {
   "cell_type": "code",
   "execution_count": 13,
   "metadata": {},
   "outputs": [
    {
     "data": {
      "text/plain": [
       "0   -0.439345\n",
       "1   -0.071132\n",
       "2    1.401719\n",
       "3   -0.071132\n",
       "4   -1.175771\n",
       "Name: churner_friends, dtype: float64"
      ]
     },
     "execution_count": 13,
     "metadata": {},
     "output_type": "execute_result"
    }
   ],
   "source": [
    "friends.head(5)"
   ]
  },
  {
   "cell_type": "markdown",
   "metadata": {},
   "source": [
    "## Data-Exploration\n",
    "\n",
    "Wieviele Kunden haben wir im Dataset?"
   ]
  },
  {
   "cell_type": "code",
   "execution_count": 14,
   "metadata": {
    "pycharm": {
     "is_executing": false,
     "name": "#%%\n"
    }
   },
   "outputs": [
    {
     "data": {
      "text/plain": [
       "recipient     352\n",
       "date           43\n",
       "sales        1357\n",
       "dtype: int64"
      ]
     },
     "execution_count": 14,
     "metadata": {},
     "output_type": "execute_result"
    }
   ],
   "source": [
    "x_data.nunique() # amount of unique values for each column"
   ]
  },
  {
   "cell_type": "markdown",
   "metadata": {
    "pycharm": {
     "is_executing": false,
     "name": "#%% md\n"
    }
   },
   "source": [
    "Wie ist der Umsatz auf die Kunden verteilt?"
   ]
  },
  {
   "cell_type": "code",
   "execution_count": 15,
   "metadata": {
    "pycharm": {
     "is_executing": false,
     "name": "#%%\n"
    }
   },
   "outputs": [
    {
     "data": {
      "text/plain": [
       "Text(0, 0.5, 'Summe Umsatz in Mio')"
      ]
     },
     "execution_count": 15,
     "metadata": {},
     "output_type": "execute_result"
    },
    {
     "data": {
      "image/png": "[encoded data removed]",
      "text/plain": [
       "<Figure size 432x288 with 1 Axes>"
      ]
     },
     "metadata": {
      "needs_background": "light"
     },
     "output_type": "display_data"
    }
   ],
   "source": [
    "grouped = x_data.groupby('recipient', as_index=False)\n",
    "recipients_total_sales = grouped.agg(np.sum)\n",
    "recipients_total_sales.sort_values(by=\"sales\", ascending=False, inplace=True)\n",
    "recipients_total_sales.reset_index(inplace=True, drop=True)\n",
    "plt.plot(recipients_total_sales[\"sales\"])\n",
    "plt.xlabel(\"Kunden (sortiert)\")\n",
    "plt.ylabel(\"Summe Umsatz in Mio\")"
   ]
  },
  {
   "cell_type": "markdown",
   "metadata": {
    "pycharm": {
     "name": "#%% md\n"
    }
   },
   "source": [
    "Es sieht so aus als währen viele \"leere\" Kunden dabei. \n",
    "Schauen wir uns das genauer an. Eine log-Skala ist angebracht."
   ]
  },
  {
   "cell_type": "code",
   "execution_count": 16,
   "metadata": {
    "pycharm": {
     "is_executing": false,
     "name": "#%%\n"
    }
   },
   "outputs": [
    {
     "name": "stderr",
     "output_type": "stream",
     "text": [
      "C:\\Users\\chris\\Anaconda3\\envs\\workshop\\lib\\site-packages\\pandas\\core\\series.py:679: RuntimeWarning: divide by zero encountered in log\n",
      "  result = getattr(ufunc, method)(*inputs, **kwargs)\n"
     ]
    },
    {
     "data": {
      "text/plain": [
       "Text(0, 0.5, 'log Summe Umsatz')"
      ]
     },
     "execution_count": 16,
     "metadata": {},
     "output_type": "execute_result"
    },
    {
     "data": {
      "image/png": "[encoded data removed]",
      "text/plain": [
       "<Figure size 432x288 with 1 Axes>"
      ]
     },
     "metadata": {
      "needs_background": "light"
     },
     "output_type": "display_data"
    }
   ],
   "source": [
    "# recipients_total_sales[recipients_total_sales.sales == 0].count()\n",
    "plt.plot(np.log(recipients_total_sales[\"sales\"]))\n",
    "plt.xlabel(\"Kunden (sortiert)\")\n",
    "plt.ylabel(\"log Summe Umsatz\")"
   ]
  },
  {
   "cell_type": "markdown",
   "metadata": {},
   "source": [
    "## Transformation der gegebenen Daten\n",
    "\n",
    "Wir wollen dem Algorithmus eine Zeitreihe der Sales eines jeden Kunden übergeben. Dazu ist noch etwas Data-wrangling nötig."
   ]
  },
  {
   "cell_type": "markdown",
   "metadata": {
    "pycharm": {
     "name": "#%% md\n"
    }
   },
   "source": [
    "Die drei folgenden Code-Zellen dienen der Transformation der X-Werte in ein 3D-Array, um diese für das Netzwerk lesbar zu machen."
   ]
  },
  {
   "cell_type": "code",
   "execution_count": 17,
   "metadata": {
    "pycharm": {
     "is_executing": false,
     "name": "#%%\n"
    }
   },
   "outputs": [
    {
     "name": "stderr",
     "output_type": "stream",
     "text": [
      "C:\\Users\\chris\\Anaconda3\\envs\\workshop\\lib\\site-packages\\ipykernel_launcher.py:4: FutureWarning: Indexing with multiple keys (implicitly converted to a tuple of keys) will be deprecated, use a list instead.\n",
      "  after removing the cwd from sys.path.\n"
     ]
    }
   ],
   "source": [
    "x_data_dict =  dict()\n",
    "x_data_grouped = x_data.groupby('recipient')\n",
    "for recipient in x_data_grouped.groups:\n",
    "    x_data_dict[recipient] = pd.DataFrame(x_data_grouped['date','sales'].get_group(recipient))\n",
    "assert len(x_data_dict) == len(y_data) # hier testen wir ob wir gleichviele Daten für x und y haben"
   ]
  },
  {
   "cell_type": "code",
   "execution_count": 18,
   "metadata": {
    "pycharm": {
     "is_executing": false,
     "name": "#%%\n"
    }
   },
   "outputs": [],
   "source": [
    "X = list()\n",
    "for key, item in x_data_dict.items():\n",
    "    X.append(fill_dates(item, datetime.strptime(\"2018-09-01\",\"%Y-%m-%d\")).values.tolist())"
   ]
  },
  {
   "cell_type": "code",
   "execution_count": 19,
   "metadata": {
    "pycharm": {
     "is_executing": false,
     "name": "#%%\n"
    }
   },
   "outputs": [],
   "source": [
    "X = pad_sequences(X, value=-1,dtype='float32')\n",
    "y = np.array(y_data['churned'].values)\n",
    "y = y.reshape(y.shape[0],1)\n",
    "friends = friends.values.reshape(friends.shape[0],1)"
   ]
  },
  {
   "cell_type": "markdown",
   "metadata": {
    "pycharm": {
     "name": "#%% md\n"
    }
   },
   "source": [
    "Nun haben wir die gewünschten Zeitreihen. Um einen besseren Eindruck zu bekommen plotten wir den Verlauf von fünf Kunden.\n",
    "Versuche hier mehr Kunden anzeigen zu lassen (insgesamt sind es 252). Was musst du verändern?"
   ]
  },
  {
   "cell_type": "code",
   "execution_count": 20,
   "metadata": {
    "pycharm": {
     "is_executing": false,
     "name": "#%%\n"
    }
   },
   "outputs": [
    {
     "data": {
      "text/plain": [
       "Text(0, 0.5, 'Umsatz')"
      ]
     },
     "execution_count": 20,
     "metadata": {},
     "output_type": "execute_result"
    },
    {
     "data": {
      "image/png": "[encoded data removed]",
      "text/plain": [
       "<Figure size 432x288 with 1 Axes>"
      ]
     },
     "metadata": {
      "needs_background": "light"
     },
     "output_type": "display_data"
    }
   ],
   "source": [
    "# Die X-Achse stellt die Zeit dar:\n",
    "timesteps = np.arange(len(X[0]))\n",
    "\n",
    "# Um die Zeitreihe eines einzelnen Kunden zu bekommen (wird im Loop angewendet)\n",
    "# x1 = X[0].flatten() \n",
    "\n",
    "fig, ax = plt.subplots() # fig ist die ganze Grafik, ax ist die Oberfläche auf dem wir das Diagramm zeichnen können\n",
    "\n",
    "# Nun plotten wir für jeden Kunden \"i\" die Umsätze\n",
    "for i in range(5):\n",
    "    ax.bar(timesteps, X[i].flatten(), alpha=.5)\n",
    "ax.set_xlabel(\"Zeitreihe in Monaten\")\n",
    "ax.set_ylabel(\"Umsatz\")"
   ]
  },
  {
   "cell_type": "markdown",
   "metadata": {},
   "source": [
    "## Trennung in Training- und Test-Daten\n",
    "\n",
    "70% Trainings- und 30% Testdaten.\n",
    "Freunschaftsbeziehungen und der zeitliche Verlauf werden als Input voneinander getrennt."
   ]
  },
  {
   "cell_type": "code",
   "execution_count": 21,
   "metadata": {
    "pycharm": {
     "is_executing": false,
     "name": "#%%\n"
    }
   },
   "outputs": [],
   "source": [
    "X_time_train, X_time_test, X_friends_train, X_friends_test, y_train, y_test = train_test_split(\n",
    "    X, friends, y, train_size=0.7, random_state=RANDOM_SEED\n",
    ")"
   ]
  },
  {
   "cell_type": "code",
   "execution_count": 22,
   "metadata": {},
   "outputs": [
    {
     "name": "stdout",
     "output_type": "stream",
     "text": [
      "X_time_train: (246, 43, 1)\n",
      "X_time_test: (106, 43, 1)\n",
      "X_friends_train: (246, 1)\n",
      "X_friends_test: (106, 1)\n",
      "y_train: (246, 1)\n",
      "y_test: (106, 1)\n"
     ]
    }
   ],
   "source": [
    "print(f'X_time_train: {X_time_train.shape}')\n",
    "print(f'X_time_test: {X_time_test.shape}')\n",
    "print(f'X_friends_train: {X_friends_train.shape}')\n",
    "print(f'X_friends_test: {X_friends_test.shape}')\n",
    "print(f'y_train: {y_train.shape}')\n",
    "print(f'y_test: {y_test.shape}')"
   ]
  },
  {
   "cell_type": "markdown",
   "metadata": {},
   "source": [
    "## Das DL-Modell"
   ]
  },
  {
   "cell_type": "markdown",
   "metadata": {
    "pycharm": {
     "name": "#%% md\n"
    }
   },
   "source": [
    "**An dieser Stelle sind Sie gefragt..**\n",
    "Das nachfolgende Codefragment enthält 4 modifizierbare Parameter, welche essenziell für die Genauigkeit des Netzwerks sind.\n",
    "Diese sind so initialiert, dass das Netwerk ohne Veränderung eine schlechte Performance aufweist.\n",
    "Ihre Aufgabe ist es nun diese Parameter so anzupassen, dass eine möglichst hohe Genauigkeit erzielt wird.\n",
    "\n",
    "Die Parameter sind wie folgt beschrieben:\n",
    "* **learning_rate**: Lernrate des Minimierungs-Algorithmus der Kostenfunktion (default: 0.00001, range: 0-∞)\n",
    "* **lstm_cells**: Anzahl der Memory-Cells des Netzwerks. Besitzt ein Netzwerk mehr Zellen, kann es sich eine größere Anzahl an Merkmalen merken. Zu viele können zu *Overfitting* führen. (default: 1, range: 1-∞)\n",
    "* **dropout**: Anteil der Merkmale, die zufällig gelöscht werden. Wirkt *Ovefitting* entgegen (default: 0.5, range: 0-1)\n",
    "* **epochs**: Anzahl der Traingsdurchläufe (default: 10, range: 1-∞)"
   ]
  },
  {
   "cell_type": "code",
   "execution_count": 23,
   "metadata": {
    "pycharm": {
     "is_executing": false,
     "name": "#%%\n"
    }
   },
   "outputs": [],
   "source": [
    "learning_rate = 0.01\n",
    "lstm_cells = 5\n",
    "dropout = 0.2\n",
    "epochs = 25"
   ]
  },
  {
   "cell_type": "code",
   "execution_count": 24,
   "metadata": {
    "pycharm": {
     "is_executing": false,
     "name": "#%%\n"
    }
   },
   "outputs": [
    {
     "name": "stdout",
     "output_type": "stream",
     "text": [
      "Model: \"sequential\"\n",
      "_________________________________________________________________\n",
      "Layer (type)                 Output Shape              Param #   \n",
      "=================================================================\n",
      "masking (Masking)            (None, 43, 1)             0         \n",
      "_________________________________________________________________\n",
      "lstm (LSTM)                  (None, 5)                 140       \n",
      "_________________________________________________________________\n",
      "dropout (Dropout)            (None, 5)                 0         \n",
      "_________________________________________________________________\n",
      "dense (Dense)                (None, 1)                 6         \n",
      "=================================================================\n",
      "Total params: 146\n",
      "Trainable params: 146\n",
      "Non-trainable params: 0\n",
      "_________________________________________________________________\n"
     ]
    }
   ],
   "source": [
    "model = Sequential()\n",
    "model.add(Masking(mask_value=-1, input_shape=(X_time_train.shape[1],1)))\n",
    "model.add(LSTM(lstm_cells, recurrent_dropout=dropout))\n",
    "model.add(Dropout(dropout))\n",
    "model.add(Dense(1, activation='sigmoid'))\n",
    "\n",
    "model.compile(\n",
    "    loss='binary_crossentropy',\n",
    "    optimizer=Adam(learning_rate=learning_rate),\n",
    "    metrics=['acc']\n",
    ")\n",
    "\n",
    "model.summary()"
   ]
  },
  {
   "cell_type": "markdown",
   "metadata": {},
   "source": [
    "Die nachfolgende Code-Zelle enthält den Aufruf der *fit*-Methode, welche das Training des Netzes mit den oben angegebenen Parametern startet. Anschließend wird eine Zusammenfassung des Traingsverlaufs ausgegeben."
   ]
  },
  {
   "cell_type": "code",
   "execution_count": 25,
   "metadata": {
    "pycharm": {
     "is_executing": false,
     "name": "#%%\n"
    }
   },
   "outputs": [
    {
     "name": "stdout",
     "output_type": "stream",
     "text": [
      "Train on 246 samples, validate on 106 samples\n",
      "Epoch 1/25\n",
      "246/246 [==============================] - 11s 46ms/sample - loss: 0.6865 - acc: 0.5407 - val_loss: 0.6014 - val_acc: 0.6038\n",
      "Epoch 2/25\n",
      "246/246 [==============================] - 1s 2ms/sample - loss: 0.5795 - acc: 0.7276 - val_loss: 0.4365 - val_acc: 0.9057\n",
      "Epoch 3/25\n",
      "246/246 [==============================] - 1s 2ms/sample - loss: 0.4655 - acc: 0.8455 - val_loss: 0.3600 - val_acc: 0.9057\n",
      "Epoch 4/25\n",
      "246/246 [==============================] - 0s 2ms/sample - loss: 0.4405 - acc: 0.8333 - val_loss: 0.3236 - val_acc: 0.9151\n",
      "Epoch 5/25\n",
      "246/246 [==============================] - 1s 2ms/sample - loss: 0.4247 - acc: 0.8252 - val_loss: 0.3087 - val_acc: 0.8962\n",
      "Epoch 6/25\n",
      "246/246 [==============================] - 0s 2ms/sample - loss: 0.4068 - acc: 0.8211 - val_loss: 0.2843 - val_acc: 0.9151\n",
      "Epoch 7/25\n",
      "246/246 [==============================] - 1s 2ms/sample - loss: 0.3794 - acc: 0.8618 - val_loss: 0.2707 - val_acc: 0.9245\n",
      "Epoch 8/25\n",
      "246/246 [==============================] - 1s 2ms/sample - loss: 0.3660 - acc: 0.8415 - val_loss: 0.2629 - val_acc: 0.9245\n",
      "Epoch 9/25\n",
      "246/246 [==============================] - 1s 2ms/sample - loss: 0.3619 - acc: 0.8496 - val_loss: 0.2529 - val_acc: 0.9245\n",
      "Epoch 10/25\n",
      "246/246 [==============================] - 1s 2ms/sample - loss: 0.3739 - acc: 0.8415 - val_loss: 0.2454 - val_acc: 0.9245\n",
      "Epoch 11/25\n",
      "246/246 [==============================] - 1s 2ms/sample - loss: 0.3490 - acc: 0.8415 - val_loss: 0.2561 - val_acc: 0.9340\n",
      "Epoch 12/25\n",
      "246/246 [==============================] - 1s 2ms/sample - loss: 0.3520 - acc: 0.8293 - val_loss: 0.2375 - val_acc: 0.9245\n",
      "Epoch 13/25\n",
      "246/246 [==============================] - 0s 2ms/sample - loss: 0.3332 - acc: 0.8659 - val_loss: 0.2329 - val_acc: 0.9340\n",
      "Epoch 14/25\n",
      "246/246 [==============================] - 1s 2ms/sample - loss: 0.3649 - acc: 0.8455 - val_loss: 0.2285 - val_acc: 0.9245\n",
      "Epoch 15/25\n",
      "246/246 [==============================] - 1s 3ms/sample - loss: 0.3387 - acc: 0.8415 - val_loss: 0.2297 - val_acc: 0.9245\n",
      "Epoch 16/25\n",
      "246/246 [==============================] - 1s 4ms/sample - loss: 0.3494 - acc: 0.8455 - val_loss: 0.2306 - val_acc: 0.9245\n",
      "Epoch 17/25\n",
      "246/246 [==============================] - 1s 3ms/sample - loss: 0.3368 - acc: 0.8577 - val_loss: 0.2291 - val_acc: 0.9245\n",
      "Epoch 18/25\n",
      "224/246 [==========================>...] - ETA: 0s - loss: 0.3522 - acc: 0.8571Restoring model weights from the end of the best epoch.\n",
      "246/246 [==============================] - 1s 3ms/sample - loss: 0.3422 - acc: 0.8659 - val_loss: 0.2256 - val_acc: 0.9340\n",
      "Epoch 00018: early stopping\n"
     ]
    },
    {
     "data": {
      "image/png": "[encoded data removed]",
      "text/plain": [
       "<Figure size 1152x360 with 2 Axes>"
      ]
     },
     "metadata": {
      "needs_background": "light"
     },
     "output_type": "display_data"
    },
    {
     "name": "stdout",
     "output_type": "stream",
     "text": [
      "Genauigkeit: 93.40%\n",
      "99.0 von 106 Beispielen richtig klassifiziert!\n"
     ]
    }
   ],
   "source": [
    "es = EarlyStopping(monitor='loss', mode='min', verbose=1, restore_best_weights=True, patience=5)\n",
    "history = model.fit(x=X_time_train,y=y_train,epochs=epochs, verbose=1, callbacks=[es], validation_data=(X_time_test, y_test))\n",
    "scores = model.evaluate(X_time_test, y_test, verbose=0)\n",
    "\n",
    "plt.rcParams[\"figure.figsize\"] = (16, 5)\n",
    "fig, (ax1, ax2) = plt.subplots(1, 2)\n",
    "\n",
    "ax1.plot(history.history['loss'], label='Training')\n",
    "ax1.plot(history.history['val_loss'], label='Testing')\n",
    "ax1.legend(loc=\"upper left\")\n",
    "ax1.set_title(\"Training und Testing Kostenverlauf\")\n",
    "ax2.plot(history.history['acc'], label='Training')\n",
    "ax2.plot(history.history['val_acc'], label='Testing')\n",
    "ax2.legend(loc=\"upper left\")#\n",
    "ax2.set_title(\"Training und Testing Genauigkeit\")\n",
    "plt.show()\n",
    "\n",
    "print(\"Genauigkeit: %.2f%%\" % (scores[1]*100))\n",
    "print(str(round(X_time_test.shape[0] * scores[1])) + \" von \" + str(X_time_test.shape[0]) + \" Beispielen richtig klassifiziert!\")"
   ]
  },
  {
   "cell_type": "code",
   "execution_count": 26,
   "metadata": {},
   "outputs": [
    {
     "name": "stdout",
     "output_type": "stream",
     "text": [
      "Model: \"lstm_friendship_model\"\n",
      "__________________________________________________________________________________________________\n",
      "Layer (type)                    Output Shape         Param #     Connected to                     \n",
      "==================================================================================================\n",
      "input_1 (InputLayer)            [(None, 43, 1)]      0                                            \n",
      "__________________________________________________________________________________________________\n",
      "masking_1 (Masking)             (None, 43, 1)        0           input_1[0][0]                    \n",
      "__________________________________________________________________________________________________\n",
      "lstm_1 (LSTM)                   (None, 5)            140         masking_1[0][0]                  \n",
      "__________________________________________________________________________________________________\n",
      "dropout_1 (Dropout)             (None, 5)            0           lstm_1[0][0]                     \n",
      "__________________________________________________________________________________________________\n",
      "input_2 (InputLayer)            [(None, 1)]          0                                            \n",
      "__________________________________________________________________________________________________\n",
      "concatenate (Concatenate)       (None, 6)            0           dropout_1[0][0]                  \n",
      "                                                                 input_2[0][0]                    \n",
      "__________________________________________________________________________________________________\n",
      "dense_1 (Dense)                 (None, 1)            7           concatenate[0][0]                \n",
      "==================================================================================================\n",
      "Total params: 147\n",
      "Trainable params: 147\n",
      "Non-trainable params: 0\n",
      "__________________________________________________________________________________________________\n"
     ]
    }
   ],
   "source": [
    "input_time = Input(shape=(X_time_train.shape[1],1))\n",
    "input_friends = Input(shape=(X_friends_train.shape[1]))\n",
    "\n",
    "## Combined Model\n",
    "x = Masking(mask_value=-1)(input_time)\n",
    "x = LSTM(lstm_cells, recurrent_dropout=dropout)(x)\n",
    "x = Dropout(dropout)(x)\n",
    "x = concatenate([x, input_friends])\n",
    "\n",
    "outputs = Dense(1, activation='sigmoid')(x)\n",
    "\n",
    "model = Model(\n",
    "    inputs=[input_time, input_friends],\n",
    "    outputs=outputs,\n",
    "    name=\"lstm_friendship_model\",\n",
    ")\n",
    "\n",
    "model.summary()\n",
    "\n",
    "model.compile(\n",
    "    loss='binary_crossentropy',\n",
    "    optimizer=Adam(learning_rate=learning_rate),\n",
    "    metrics=['acc'],\n",
    ")\n"
   ]
  },
  {
   "cell_type": "code",
   "execution_count": 27,
   "metadata": {},
   "outputs": [
    {
     "name": "stdout",
     "output_type": "stream",
     "text": [
      "Train on 246 samples, validate on 106 samples\n",
      "Epoch 1/25\n",
      "246/246 [==============================] - 14s 58ms/sample - loss: 0.4995 - acc: 0.7805 - val_loss: 0.4537 - val_acc: 0.7830\n",
      "Epoch 2/25\n",
      "246/246 [==============================] - 1s 3ms/sample - loss: 0.4666 - acc: 0.7886 - val_loss: 0.4182 - val_acc: 0.7925\n",
      "Epoch 3/25\n",
      "246/246 [==============================] - 1s 2ms/sample - loss: 0.4364 - acc: 0.7927 - val_loss: 0.3842 - val_acc: 0.7925\n",
      "Epoch 4/25\n",
      "246/246 [==============================] - 1s 3ms/sample - loss: 0.4033 - acc: 0.7967 - val_loss: 0.3449 - val_acc: 0.8302\n",
      "Epoch 5/25\n",
      "246/246 [==============================] - 1s 3ms/sample - loss: 0.3797 - acc: 0.8374 - val_loss: 0.3093 - val_acc: 0.8585\n",
      "Epoch 6/25\n",
      "246/246 [==============================] - 1s 3ms/sample - loss: 0.3497 - acc: 0.8577 - val_loss: 0.2790 - val_acc: 0.8679\n",
      "Epoch 7/25\n",
      "246/246 [==============================] - 0s 2ms/sample - loss: 0.3437 - acc: 0.8537 - val_loss: 0.2520 - val_acc: 0.8868\n",
      "Epoch 8/25\n",
      "246/246 [==============================] - 1s 3ms/sample - loss: 0.3184 - acc: 0.8780 - val_loss: 0.2252 - val_acc: 0.9245\n",
      "Epoch 9/25\n",
      "246/246 [==============================] - 1s 5ms/sample - loss: 0.3077 - acc: 0.8537 - val_loss: 0.2143 - val_acc: 0.9245\n",
      "Epoch 10/25\n",
      "246/246 [==============================] - 1s 3ms/sample - loss: 0.3029 - acc: 0.8740 - val_loss: 0.2085 - val_acc: 0.9245\n",
      "Epoch 11/25\n",
      "246/246 [==============================] - 1s 3ms/sample - loss: 0.2929 - acc: 0.8780 - val_loss: 0.1905 - val_acc: 0.9340\n",
      "Epoch 12/25\n",
      "246/246 [==============================] - 1s 3ms/sample - loss: 0.2651 - acc: 0.8902 - val_loss: 0.1898 - val_acc: 0.9340\n",
      "Epoch 13/25\n",
      "246/246 [==============================] - 1s 3ms/sample - loss: 0.2539 - acc: 0.9106 - val_loss: 0.1776 - val_acc: 0.9434\n",
      "Epoch 14/25\n",
      "246/246 [==============================] - 1s 3ms/sample - loss: 0.2502 - acc: 0.8943 - val_loss: 0.1691 - val_acc: 0.9528\n",
      "Epoch 15/25\n",
      "246/246 [==============================] - 1s 2ms/sample - loss: 0.2438 - acc: 0.9228 - val_loss: 0.1688 - val_acc: 0.9528\n",
      "Epoch 16/25\n",
      "246/246 [==============================] - 1s 3ms/sample - loss: 0.2320 - acc: 0.9146 - val_loss: 0.1694 - val_acc: 0.9717\n",
      "Epoch 17/25\n",
      "246/246 [==============================] - 1s 3ms/sample - loss: 0.2492 - acc: 0.9024 - val_loss: 0.1628 - val_acc: 0.9528\n",
      "Epoch 18/25\n",
      "246/246 [==============================] - 1s 3ms/sample - loss: 0.2220 - acc: 0.9146 - val_loss: 0.1539 - val_acc: 0.9528\n",
      "Epoch 19/25\n",
      "246/246 [==============================] - 1s 3ms/sample - loss: 0.1990 - acc: 0.9350 - val_loss: 0.1479 - val_acc: 0.9528\n",
      "Epoch 20/25\n",
      "246/246 [==============================] - 1s 2ms/sample - loss: 0.2255 - acc: 0.9024 - val_loss: 0.1430 - val_acc: 0.9528\n",
      "Epoch 21/25\n",
      "246/246 [==============================] - 1s 3ms/sample - loss: 0.2329 - acc: 0.9065 - val_loss: 0.1437 - val_acc: 0.9528\n",
      "Epoch 22/25\n",
      "246/246 [==============================] - 1s 3ms/sample - loss: 0.2123 - acc: 0.9187 - val_loss: 0.1453 - val_acc: 0.9528\n",
      "Epoch 23/25\n",
      "246/246 [==============================] - 1s 3ms/sample - loss: 0.2047 - acc: 0.9268 - val_loss: 0.1434 - val_acc: 0.9528\n",
      "Epoch 24/25\n",
      "224/246 [==========================>...] - ETA: 0s - loss: 0.2014 - acc: 0.9241Restoring model weights from the end of the best epoch.\n",
      "246/246 [==============================] - 1s 2ms/sample - loss: 0.2164 - acc: 0.9106 - val_loss: 0.1393 - val_acc: 0.9528\n",
      "Epoch 00024: early stopping\n"
     ]
    },
    {
     "data": {
      "image/png": "[encoded data removed]",
      "text/plain": [
       "<Figure size 1152x360 with 2 Axes>"
      ]
     },
     "metadata": {
      "needs_background": "light"
     },
     "output_type": "display_data"
    },
    {
     "name": "stdout",
     "output_type": "stream",
     "text": [
      "Genauigkeit: 95.28%\n",
      "101.0 von 106 Beispielen richtig klassifiziert!\n"
     ]
    }
   ],
   "source": [
    "es = EarlyStopping(monitor='loss', mode='min', verbose=1, restore_best_weights=True, patience=5)\n",
    "history = model.fit(x=[X_time_train, X_friends_train],y=y_train,epochs=epochs, verbose=1, callbacks=[es], validation_data=([X_time_test, X_friends_test], y_test))\n",
    "scores = model.evaluate([X_time_test, X_friends_test], y_test, verbose=0)\n",
    "\n",
    "plt.rcParams[\"figure.figsize\"] = (16, 5)\n",
    "fig, (ax1, ax2) = plt.subplots(1, 2)\n",
    "\n",
    "ax1.plot(history.history['loss'], label='Training')\n",
    "ax1.plot(history.history['val_loss'], label='Testing')\n",
    "ax1.legend(loc=\"upper left\")\n",
    "ax1.set_title(\"Training und Testing Kostenverlauf\")\n",
    "ax2.plot(history.history['acc'], label='Training')\n",
    "ax2.plot(history.history['val_acc'], label='Testing')\n",
    "ax2.legend(loc=\"upper left\")#\n",
    "ax2.set_title(\"Training und Testing Genauigkeit\")\n",
    "plt.show()\n",
    "\n",
    "print(\"Genauigkeit: %.2f%%\" % (scores[1]*100))\n",
    "print(str(round(X_time_test.shape[0] * scores[1])) + \" von \" + str(X_time_test.shape[0]) + \" Beispielen richtig klassifiziert!\")"
   ]
  },
  {
   "cell_type": "code",
   "execution_count": null,
   "metadata": {},
   "outputs": [],
   "source": []
  }
 ],
 "metadata": {
  "kernelspec": {
   "display_name": "workshop",
   "language": "python",
   "name": "workshop"
  },
  "language_info": {
   "codemirror_mode": {
    "name": "ipython",
    "version": 3
   },
   "file_extension": ".py",
   "mimetype": "text/x-python",
   "name": "python",
   "nbconvert_exporter": "python",
   "pygments_lexer": "ipython3",
   "version": "3.6.10"
  },
  "pycharm": {
   "stem_cell": {
    "cell_type": "raw",
    "metadata": {
     "collapsed": false
    },
    "source": []
   }
  }
 },
 "nbformat": 4,
 "nbformat_minor": 1
}
