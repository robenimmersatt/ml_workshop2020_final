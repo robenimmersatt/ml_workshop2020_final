{
 "cells": [
  {
   "cell_type": "markdown",
   "metadata": {},
   "source": [
    "### Beispiel eines Neuronalen Netzes zur Vorhersage von Kundenabwanderung\n",
    "Genutzt wird in diesem Fall ein **LSTM**-Netz (Long-Short-Term-Memory)\n",
    ", welches besonders gut für die Analyse von längeren Sequenzen (Texte, Kursverläufe etc.) geeignet ist.\n",
    "In unserem Fall sind dies Bestellverläufe verschiedener Kunden. Ziel ist es, das Netz auf einen Teil der Kundenbestellungen zu trainieren, und mit dem Rest zu testen ob das System diese richtig als abgesprungen oder nicht abgesprungen klassifiziert."
   ]
  },
  {
   "cell_type": "markdown",
   "metadata": {
    "pycharm": {
     "name": "#%% md\n"
    }
   },
   "source": [
    "Im folgenden finden Sie die Codefragmente mit den zugehörigen Beschreibungen. Diese müssen nacheinander von Ihnen ausgeführt werden."
   ]
  },
  {
   "cell_type": "markdown",
   "metadata": {
    "pycharm": {
     "name": "#%% md\n"
    }
   },
   "source": [
    "Import der notwendigen Bibliotheken:\n",
    "* **Keras** - Hauptframework für Machine Learning. (Basiert auf Google's Tensorflow)\n",
    "* **Numpy** - Unter anderem zur Durchführung von Vektorberechnungen.\n",
    "* **Pandas** - Regelt den Import und die Formatierung von Daten. "
   ]
  },
  {
   "cell_type": "code",
   "execution_count": 1,
   "metadata": {
    "pycharm": {
     "is_executing": false,
     "name": "#%%\n"
    }
   },
   "outputs": [],
   "source": [
    "import random as rn\n",
    "from datetime import datetime\n",
    "\n",
    "from dateutil.relativedelta import relativedelta\n",
    "import matplotlib.pyplot as plt\n",
    "from numpy.random import seed\n",
    "import numpy as np\n",
    "import pandas as pd\n",
    "\n",
    "import tensorflow as tf\n",
    "from tensorflow.keras import Sequential, Input, Model\n",
    "from tensorflow.keras.callbacks import EarlyStopping\n",
    "from tensorflow.keras.layers import Masking, LSTM, Dense, Dropout, concatenate\n",
    "from tensorflow.keras.optimizers import Adam\n",
    "from tensorflow.keras.preprocessing.sequence import pad_sequences\n",
    "\n",
    "\n",
    "from sklearn.model_selection import train_test_split"
   ]
  },
  {
   "cell_type": "code",
   "execution_count": 2,
   "metadata": {},
   "outputs": [],
   "source": [
    "RANDOM_SEED = 42\n",
    "\n",
    "seed(RANDOM_SEED)\n",
    "rn.seed(RANDOM_SEED)\n",
    "tf.random.set_seed(RANDOM_SEED)"
   ]
  },
  {
   "cell_type": "markdown",
   "metadata": {
    "pycharm": {
     "name": "#%% md\n"
    }
   },
   "source": [
    "Funktion, welche einen *Inner-Join* auf zwei Datensätzen ausführt."
   ]
  },
  {
   "cell_type": "code",
   "execution_count": 3,
   "metadata": {
    "pycharm": {
     "is_executing": false,
     "name": "#%%\n"
    }
   },
   "outputs": [],
   "source": [
    "def drop_missing_values_vise_versa(df1, df2, column_name):\n",
    "    drop_condition = df1[column_name].isin(df2[column_name]) == False\n",
    "    df1 = df1.drop(df1[drop_condition].index)\n",
    "    drop_condition = df2[column_name].isin(df1[column_name]) == False\n",
    "    df2 = df2.drop(df2[drop_condition].index)\n",
    "    return df1, df2"
   ]
  },
  {
   "cell_type": "markdown",
   "metadata": {
    "pycharm": {
     "name": "#%% md\n"
    }
   },
   "source": [
    "Funktion, welche fehlende Daten einer Zeitreihe auffüllt. Wenn kein Wert da ist tragen wir eine 0 ein."
   ]
  },
  {
   "cell_type": "code",
   "execution_count": 4,
   "metadata": {
    "pycharm": {
     "is_executing": false,
     "name": "#%%\n"
    }
   },
   "outputs": [],
   "source": [
    "def fill_dates(df, end_date):\n",
    "    start_date = df['date'].iloc[0]\n",
    "    if start_date > end_date or len(df) == 0:\n",
    "        return df\n",
    "    months_diff = ((end_date.year - start_date.year) * 12 + end_date.month - start_date.month)\n",
    "    date_list = [start_date + relativedelta(months=x) for x in range(0, months_diff)]\n",
    "    date_frame = pd.DataFrame(date_list)\n",
    "    date_frame.columns = ['date']\n",
    "    value = pd.merge(date_frame, df, how='left').fillna(0)\n",
    "    value = value.drop(['date'], axis=1)\n",
    "    return value"
   ]
  },
  {
   "cell_type": "markdown",
   "metadata": {
    "pycharm": {
     "name": "#%% md\n"
    }
   },
   "source": [
    "Einlesen der Daten mithilfe von **Pandas**\n",
    "* Es wird zwischen X und Y-Werten unterschieden.\n",
    "* Die X-Werte sind in unserem Fall die Bestellverläufe.\n",
    "* Der Y-Wert ist ein *boolean*-Wert, welcher besagt ob ein Kunde abgesprungen ist."
   ]
  },
  {
   "cell_type": "code",
   "execution_count": 5,
   "metadata": {
    "pycharm": {
     "is_executing": false,
     "name": "#%%\n"
    }
   },
   "outputs": [
    {
     "data": {
      "text/plain": [
       "count                   20112\n",
       "unique                     57\n",
       "top       2019-02-01 00:00:00\n",
       "freq                      458\n",
       "first     2015-02-01 00:00:00\n",
       "last      2019-10-01 00:00:00\n",
       "Name: date, dtype: object"
      ]
     },
     "execution_count": 5,
     "metadata": {},
     "output_type": "execute_result"
    }
   ],
   "source": [
    "x_data = pd.read_csv(\"cleaned_orders.csv\", header=0, index_col=0, sep=\",\", decimal=\".\", dtype={0:int})\n",
    "x_data['date'] = pd.to_datetime(x_data.date, format='%Y-%m-%d')\n",
    "\n",
    "\n",
    "x_data['date'].describe() # scope: monthly, 2015-02 until 2019-09"
   ]
  },
  {
   "cell_type": "code",
   "execution_count": 6,
   "metadata": {
    "pycharm": {
     "is_executing": false,
     "name": "#%%\n"
    }
   },
   "outputs": [],
   "source": [
    "x_data = pd.read_csv(\"cleaned_orders.csv\", header=0, index_col=0, sep=\",\", decimal=\".\", dtype={0:int})\n",
    "x_data['date'] = pd.to_datetime(x_data.date, format='%Y-%m-%d') # scope: monthly, 2015-02 until 2019-09\n",
    "x_data = x_data.drop(\"quantity\", axis=1)\n",
    "x_data = x_data[x_data.date < '2018-09-01'] # spätere Daten wurden zur Churn Bestimmung (y-Daten) benutzt\n"
   ]
  },
  {
   "cell_type": "code",
   "execution_count": 7,
   "metadata": {
    "pycharm": {
     "is_executing": false,
     "name": "#%%\n"
    }
   },
   "outputs": [],
   "source": [
    "y_data = pd.read_csv(\"cleaned_y_data.csv\", header=0, index_col=0, sep=\",\", dtype={0:int,1:int})\n",
    "y_data = y_data.sort_values('recipient').reset_index(drop=True)"
   ]
  },
  {
   "cell_type": "code",
   "execution_count": 8,
   "metadata": {
    "pycharm": {
     "is_executing": false,
     "name": "#%%\n"
    }
   },
   "outputs": [],
   "source": [
    "x_data, y_data = drop_missing_values_vise_versa(x_data, y_data, 'recipient')"
   ]
  },
  {
   "cell_type": "markdown",
   "metadata": {
    "pycharm": {
     "name": "#%% md\n"
    }
   },
   "source": [
    "Die sozialen Beziehungen zwischen den Kunden simulieren wir hier stark simplifiziert.\n",
    "Wir erfinden einfach einen Wert, der die Anzahl von \"Churner-Freunden\" angibt, und der ist höher bei Churnern."
   ]
  },
  {
   "cell_type": "code",
   "execution_count": 9,
   "metadata": {
    "pycharm": {
     "is_executing": false,
     "name": "#%%\n"
    }
   },
   "outputs": [],
   "source": [
    "y_data[\"churner_friends\"] = [rn.randint(0,10) if row[2]==1 else rn.randint(0,5) \\\n",
    "                                         for row in y_data.itertuples()]\n",
    "friends = y_data.iloc[:,[0,2]]\n",
    "y_data = y_data.iloc[:,[0,1]]"
   ]
  },
  {
   "cell_type": "code",
   "execution_count": 10,
   "metadata": {},
   "outputs": [
    {
     "data": {
      "text/html": [
       "<div>\n",
       "<style scoped>\n",
       "    .dataframe tbody tr th:only-of-type {\n",
       "        vertical-align: middle;\n",
       "    }\n",
       "\n",
       "    .dataframe tbody tr th {\n",
       "        vertical-align: top;\n",
       "    }\n",
       "\n",
       "    .dataframe thead th {\n",
       "        text-align: right;\n",
       "    }\n",
       "</style>\n",
       "<table border=\"1\" class=\"dataframe\">\n",
       "  <thead>\n",
       "    <tr style=\"text-align: right;\">\n",
       "      <th></th>\n",
       "      <th>recipient</th>\n",
       "      <th>churner_friends</th>\n",
       "    </tr>\n",
       "  </thead>\n",
       "  <tbody>\n",
       "    <tr>\n",
       "      <th>0</th>\n",
       "      <td>11675</td>\n",
       "      <td>5</td>\n",
       "    </tr>\n",
       "    <tr>\n",
       "      <th>1</th>\n",
       "      <td>12589</td>\n",
       "      <td>0</td>\n",
       "    </tr>\n",
       "    <tr>\n",
       "      <th>2</th>\n",
       "      <td>13593</td>\n",
       "      <td>0</td>\n",
       "    </tr>\n",
       "    <tr>\n",
       "      <th>3</th>\n",
       "      <td>14080</td>\n",
       "      <td>4</td>\n",
       "    </tr>\n",
       "    <tr>\n",
       "      <th>4</th>\n",
       "      <td>14089</td>\n",
       "      <td>1</td>\n",
       "    </tr>\n",
       "  </tbody>\n",
       "</table>\n",
       "</div>"
      ],
      "text/plain": [
       "   recipient  churner_friends\n",
       "0      11675                5\n",
       "1      12589                0\n",
       "2      13593                0\n",
       "3      14080                4\n",
       "4      14089                1"
      ]
     },
     "execution_count": 10,
     "metadata": {},
     "output_type": "execute_result"
    }
   ],
   "source": [
    "friends.head(5)"
   ]
  },
  {
   "cell_type": "code",
   "execution_count": 11,
   "metadata": {},
   "outputs": [
    {
     "name": "stdout",
     "output_type": "stream",
     "text": [
      "     recipient  churned  churner_friends\n",
      "269      42025        0                0\n",
      "224      41343        0                0\n",
      "235      41476        1                0\n",
      "236      41499        0                0\n",
      "331      43101        0                0\n",
      "238      41514        1                0\n",
      "340     103464        0                0\n",
      "44       14202        0                0\n",
      "273      42051        0                0\n",
      "338      43172        0                0\n",
      "49       14216        0                0\n",
      "108      15910        0                0\n",
      "53       14228        0                0\n",
      "199      41166        0                0\n",
      "55       14234        0                0\n",
      "342     900018        0                0\n",
      "274      42054        1                0\n",
      "184      41076        0                0\n",
      "293      42309        0                0\n",
      "102      15583        1                0\n",
      "197      41158        0                0\n",
      "324      42992        0                0\n",
      "64       14349        0                0\n",
      "65       14482        1                0\n",
      "193      41123        0                0\n",
      "241      41548        0                0\n",
      "243      41634        0                0\n",
      "71       14569        0                0\n",
      "188      41109        0                0\n",
      "332      43124        0                0\n",
      "328      43088        0                0\n",
      "104      15815        0                0\n",
      "296      42433        0                0\n",
      "161      40878        0                0\n",
      "297      42475        0                0\n",
      "166      40912        1                0\n",
      "13       14121        0                0\n",
      "14       14122        1                0\n",
      "15       14126        0                0\n",
      "32       14173        1                0\n",
      "152      40848        1                0\n",
      "144      40828        0                0\n",
      "305      42532        0                0\n",
      "20       14138        0                0\n",
      "348     987004        0                0\n",
      "155      40856        0                0\n",
      "10       14107        0                0\n",
      "229      41390        0                0\n",
      "137      40681        0                0\n",
      "344     930457        0                0\n",
      "136      40680        1                0\n",
      "2        13593        1                0\n",
      "308      42561        0                0\n",
      "172      40927        0                0\n",
      "1        12589        0                0\n",
      "92       15222        0                1\n",
      "303      42522        0                1\n",
      "240      41547        1                1\n",
      "86       15025        1                1\n",
      "245      41645        0                1\n",
      "189      41110        1                1\n",
      "298      42486        0                1\n",
      "164      40906        0                1\n",
      "131      40165        0                1\n",
      "277      42087        1                1\n",
      "227      41361        1                1\n",
      "280      42091        0                1\n",
      "321      42922        0                1\n",
      "170      40924        0                1\n",
      "320      42853        0                1\n",
      "306      42535        0                1\n",
      "140      40743        0                1\n",
      "112      16510        0                1\n",
      "178      41022        0                1\n",
      "118      16952        0                1\n",
      "135      40676        1                1\n",
      "234      41465        0                1\n",
      "132      40308        0                1\n",
      "323      42959        0                1\n",
      "279      42090        0                1\n",
      "278      42089        0                1\n",
      "202      41174        0                1\n",
      "260      41845        1                1\n",
      "346     956118        0                1\n",
      "259      41810        0                1\n",
      "206      41205        0                1\n",
      "292      42260        1                1\n",
      "201      41173        0                1\n",
      "80       14767        0                1\n",
      "337      43161        0                1\n",
      "28       14159        0                1\n",
      "256      41803        0                1\n",
      "33       14174        0                1\n",
      "341     300163        0                1\n",
      "42       14198        1                1\n",
      "41       14197        1                1\n",
      "289      42193        1                1\n",
      "17       14129        0                1\n",
      "261      41868        1                1\n",
      "285      42171        0                1\n",
      "77       14724        0                1\n",
      "4        14089        0                1\n",
      "5        14094        0                1\n",
      "196      41146        1                1\n",
      "69       14554        1                1\n",
      "288      42183        0                1\n",
      "7        14098        1                1\n",
      "16       14128        0                1\n",
      "194      41143        0                1\n",
      "138      40691        1                2\n",
      "286      42178        0                2\n",
      "264      41916        0                2\n",
      "207      41210        0                2\n",
      "6        14095        1                2\n",
      "158      40866        0                2\n",
      "299      42489        1                2\n",
      "160      40875        0                2\n",
      "216      41275        0                2\n",
      "310      42589        0                2\n",
      "36       14178        0                2\n",
      "124      19790        0                2\n",
      "150      40844        0                2\n",
      "37       14186        0                2\n",
      "79       14751        0                2\n",
      "120      17129        1                2\n",
      "246      41660        0                2\n",
      "76       14654        0                2\n",
      "190      41116        0                2\n",
      "73       14587        0                2\n",
      "191      41119        0                2\n",
      "89       15120        1                2\n",
      "242      41554        0                2\n",
      "68       14536        0                2\n",
      "93       15258        1                2\n",
      "186      41101        0                2\n",
      "283      42151        1                2\n",
      "322      42948        0                2\n",
      "38       14190        1                2\n",
      "60       14330        0                2\n",
      "251      41727        1                2\n",
      "101      15531        0                2\n",
      "330      43100        0                2\n",
      "105      15874        0                2\n",
      "119      17034        0                2\n",
      "107      15909        0                2\n",
      "48       14213        0                2\n",
      "45       14205        0                2\n",
      "40       14196        0                2\n",
      "57       14236        0                2\n",
      "181      41054        1                2\n",
      "180      41031        0                2\n",
      "179      41029        1                2\n",
      "223      41342        0                3\n",
      "350    7006317        1                3\n",
      "211      41247        1                3\n",
      "225      41353        1                3\n",
      "290      42215        0                3\n",
      "165      40911        0                3\n",
      "187      41102        0                3\n",
      "226      41358        1                3\n",
      "282      42098        0                3\n",
      "192      41121        1                3\n",
      "217      41282        0                3\n",
      "106      15886        0                3\n",
      "302      42506        0                3\n",
      "275      42062        0                3\n",
      "74       14589        0                3\n",
      "72       14586        0                3\n",
      "70       14556        1                3\n",
      "67       14534        1                3\n",
      "248      41703        0                3\n",
      "334      43132        0                3\n",
      "62       14332        1                3\n",
      "249      41706        1                3\n",
      "301      42499        0                3\n",
      "51       14220        0                3\n",
      "257      41807        0                3\n",
      "29       14167        0                3\n",
      "27       14154        0                3\n",
      "258      41809        0                3\n",
      "22       14146        1                3\n",
      "263      41885        0                3\n",
      "12       14113        0                3\n",
      "347     960422        0                3\n",
      "265      41917        0                3\n",
      "39       14193        1                3\n",
      "94       15304        0                3\n",
      "287      42180        0                3\n",
      "99       15513        1                3\n",
      "142      40767        0                3\n",
      "307      42546        0                3\n",
      "266      42018        0                3\n",
      "309      42562        0                3\n",
      "129      40107        0                3\n",
      "311      42593        0                3\n",
      "95       15339        0                3\n",
      "232      41438        1                3\n",
      "145      40830        0                3\n",
      "304      42529        0                3\n",
      "121      17179        1                3\n",
      "117      16861        0                3\n",
      "115      16635        0                3\n",
      "239      41537        1                3\n",
      "319      42776        0                3\n",
      "109      16198        1                3\n",
      "214      41268        1                3\n",
      "103      15763        1                3\n",
      "146      40836        0                3\n",
      "231      41419        0                4\n",
      "254      41759        0                4\n",
      "250      41717        0                4\n",
      "233      41460        0                4\n",
      "253      41740        0                4\n",
      "244      41642        0                4\n",
      "351    7011015        0                4\n",
      "209      41222        0                4\n",
      "90       15160        0                4\n",
      "87       15054        0                4\n",
      "327      43059        0                4\n",
      "82       14919        1                4\n",
      "333      43126        0                4\n",
      "61       14331        0                4\n",
      "59       14318        0                4\n",
      "335      43143        0                4\n",
      "56       14235        0                4\n",
      "212      41248        0                4\n",
      "336      43147        0                4\n",
      "339     100350        0                4\n",
      "31       14172        1                4\n",
      "30       14171        0                4\n",
      "343     924029        0                4\n",
      "21       14141        0                4\n",
      "19       14133        0                4\n",
      "18       14130        0                4\n",
      "349    7000483        0                4\n",
      "3        14080        1                4\n",
      "52       14224        0                4\n",
      "96       15353        1                4\n",
      "325      43022        0                4\n",
      "169      40921        0                4\n",
      "208      41213        0                4\n",
      "291      42248        0                4\n",
      "195      41144        0                4\n",
      "185      41100        0                4\n",
      "183      41059        0                4\n",
      "177      40973        0                4\n",
      "295      42398        0                4\n",
      "174      40932        1                4\n",
      "171      40925        0                4\n",
      "168      40920        1                4\n",
      "162      40896        1                4\n",
      "133      40321        0                4\n",
      "151      40845        0                4\n",
      "149      40841        0                4\n",
      "147      40837        0                4\n",
      "312      42605        1                4\n",
      "123      19733        0                4\n",
      "157      40860        0                4\n",
      "317      42738        0                5\n",
      "329      43098        0                5\n",
      "294      42355        0                5\n",
      "345     940762        0                5\n",
      "314      42653        0                5\n",
      "326      43051        0                5\n",
      "271      42049        0                5\n",
      "315      42688        0                5\n",
      "276      42063        1                5\n",
      "318      42764        0                5\n",
      "0        11675        0                5\n",
      "175      40937        0                5\n",
      "113      16511        0                5\n",
      "81       14887        0                5\n",
      "83       14935        0                5\n",
      "173      40930        0                5\n",
      "167      40919        0                5\n",
      "159      40867        0                5\n",
      "156      40859        0                5\n",
      "154      40855        0                5\n",
      "153      40853        0                5\n",
      "84       14948        0                5\n",
      "88       15065        0                5\n",
      "141      40751        0                5\n",
      "139      40709        0                5\n",
      "91       15194        0                5\n",
      "130      40138        1                5\n",
      "268      42024        0                5\n",
      "100      15515        0                5\n",
      "125      19808        0                5\n",
      "111      16499        1                5\n",
      "75       14606        0                5\n",
      "203      41183        0                5\n",
      "78       14733        1                5\n",
      "63       14340        0                5\n",
      "25       14152        0                5\n",
      "34       14176        0                5\n",
      "228      41371        1                5\n",
      "66       14505        0                5\n",
      "24       14151        0                5\n",
      "46       14209        1                5\n",
      "220      41300        1                5\n",
      "252      41729        0                5\n",
      "50       14217        0                5\n",
      "23       14148        0                5\n",
      "262      41872        0                5\n",
      "215      41270        0                5\n",
      "213      41261        0                5\n",
      "8        14100        0                5\n",
      "247      41702        0                5\n",
      "313      42606        1                6\n",
      "127      19869        1                6\n",
      "35       14177        1                6\n",
      "300      42494        1                6\n",
      "163      40901        1                6\n",
      "284      42161        1                6\n",
      "54       14229        1                6\n",
      "210      41238        1                6\n",
      "43       14201        1                6\n",
      "114      16624        1                7\n",
      "267      42023        1                7\n",
      "148      40840        1                7\n",
      "204      41195        1                7\n",
      "255      41760        1                7\n",
      "134      40381        1                7\n",
      "198      41161        1                7\n",
      "221      41314        1                7\n",
      "222      41318        1                8\n",
      "205      41196        1                8\n",
      "200      41169        1                8\n",
      "182      41056        1                8\n",
      "316      42692        1                8\n",
      "26       14153        1                8\n",
      "98       15485        1                8\n",
      "9        14103        1                8\n",
      "122      19721        1                8\n",
      "176      40970        1                8\n",
      "281      42097        1                8\n",
      "230      41409        1                9\n",
      "11       14111        1                9\n",
      "128      19903        1                9\n",
      "143      40795        1                9\n",
      "126      19862        1                9\n",
      "110      16382        1                9\n",
      "47       14211        1                9\n",
      "219      41295        1               10\n",
      "218      41284        1               10\n",
      "116      16745        1               10\n",
      "85       15003        1               10\n",
      "237      41500        1               10\n",
      "97       15465        1               10\n",
      "272      42050        1               10\n",
      "270      42028        1               10\n",
      "58       14268        1               10\n"
     ]
    }
   ],
   "source": [
    "with pd.option_context('display.max_rows', None, 'display.max_columns', None):  # more options can be specified also\n",
    "    merged = y_data.merge(friends)\n",
    "    merged = merged.sort_values(by=['churner_friends'])\n",
    "    print(merged)"
   ]
  },
  {
   "cell_type": "code",
   "execution_count": 12,
   "metadata": {},
   "outputs": [],
   "source": [
    "friends=(friends['churner_friends']-friends['churner_friends'].mean())/friends['churner_friends'].std()"
   ]
  },
  {
   "cell_type": "code",
   "execution_count": 13,
   "metadata": {},
   "outputs": [
    {
     "name": "stdout",
     "output_type": "stream",
     "text": [
      "FRIENDS\n",
      "0    0.743293\n",
      "1   -1.266224\n",
      "2   -1.266224\n",
      "3    0.341390\n",
      "4   -0.864321\n",
      "5   -0.864321\n",
      "6   -0.462417\n",
      "7   -0.864321\n",
      "8    0.743293\n",
      "9    1.949003\n",
      "Name: churner_friends, dtype: float64\n",
      "\n",
      "X-DATA:\n",
      "     recipient       date   sales\n",
      "808      11675 2015-06-01  1014.0\n",
      "809      11675 2015-07-01  4630.0\n",
      "810      11675 2015-08-01  1425.0\n",
      "811      11675 2015-09-01   532.0\n",
      "812      11675 2015-10-01  3656.0\n",
      "813      11675 2015-11-01  1272.0\n",
      "814      11675 2015-12-01  2799.0\n",
      "815      11675 2016-01-01   671.0\n",
      "816      11675 2016-02-01  5232.0\n",
      "817      11675 2016-04-01  2119.0\n",
      "\n",
      "y-DATA:\n",
      "   recipient  churned\n",
      "0      11675        0\n",
      "1      12589        0\n",
      "2      13593        1\n",
      "3      14080        1\n",
      "4      14089        0\n",
      "5      14094        0\n",
      "6      14095        1\n",
      "7      14098        1\n",
      "8      14100        0\n",
      "9      14103        1\n",
      "\n"
     ]
    }
   ],
   "source": [
    "print(f'FRIENDS\\n{friends.head(10)}\\n')\n",
    "print(f'X-DATA:\\n{x_data.head(10)}\\n')\n",
    "print(f'y-DATA:\\n{y_data.head(10)}\\n')\n"
   ]
  },
  {
   "cell_type": "markdown",
   "metadata": {},
   "source": [
    "**Data-Exploration** \n",
    "\n",
    "Wieviele Kunden haben wir im Dataset?"
   ]
  },
  {
   "cell_type": "code",
   "execution_count": 14,
   "metadata": {
    "pycharm": {
     "is_executing": false,
     "name": "#%%\n"
    }
   },
   "outputs": [
    {
     "data": {
      "text/plain": [
       "recipient     352\n",
       "date           43\n",
       "sales        1357\n",
       "dtype: int64"
      ]
     },
     "execution_count": 14,
     "metadata": {},
     "output_type": "execute_result"
    }
   ],
   "source": [
    "x_data.nunique() # amount of unique values for each column"
   ]
  },
  {
   "cell_type": "markdown",
   "metadata": {
    "pycharm": {
     "is_executing": false,
     "name": "#%% md\n"
    }
   },
   "source": [
    "Wie ist der Umsatz auf die Kunden verteilt?"
   ]
  },
  {
   "cell_type": "code",
   "execution_count": 15,
   "metadata": {
    "pycharm": {
     "is_executing": false,
     "name": "#%%\n"
    }
   },
   "outputs": [
    {
     "data": {
      "text/plain": [
       "Text(0, 0.5, 'Summe Umsatz in Mio')"
      ]
     },
     "execution_count": 15,
     "metadata": {},
     "output_type": "execute_result"
    },
    {
     "data": {
      "image/png": "[encoded data removed]",
      "text/plain": [
       "<Figure size 432x288 with 1 Axes>"
      ]
     },
     "metadata": {
      "needs_background": "light"
     },
     "output_type": "display_data"
    }
   ],
   "source": [
    "grouped = x_data.groupby('recipient', as_index=False)\n",
    "recipients_total_sales = grouped.agg(np.sum)\n",
    "recipients_total_sales.sort_values(by=\"sales\", ascending=False, inplace=True)\n",
    "recipients_total_sales.reset_index(inplace=True, drop=True)\n",
    "plt.plot(recipients_total_sales[\"sales\"])\n",
    "plt.xlabel(\"Kunden (sortiert)\")\n",
    "plt.ylabel(\"Summe Umsatz in Mio\")"
   ]
  },
  {
   "cell_type": "markdown",
   "metadata": {
    "pycharm": {
     "name": "#%% md\n"
    }
   },
   "source": [
    "Es sieht so aus als währen viele \"leere\" Kunden dabei. \n",
    "Schauen wir uns das genauer an. Eine log-Skala ist angebracht."
   ]
  },
  {
   "cell_type": "code",
   "execution_count": 16,
   "metadata": {
    "pycharm": {
     "is_executing": false,
     "name": "#%%\n"
    }
   },
   "outputs": [
    {
     "name": "stderr",
     "output_type": "stream",
     "text": [
      "C:\\Users\\chris\\Anaconda3\\envs\\workshop\\lib\\site-packages\\pandas\\core\\series.py:679: RuntimeWarning: divide by zero encountered in log\n",
      "  result = getattr(ufunc, method)(*inputs, **kwargs)\n"
     ]
    },
    {
     "data": {
      "text/plain": [
       "Text(0, 0.5, 'log Summe Umsatz')"
      ]
     },
     "execution_count": 16,
     "metadata": {},
     "output_type": "execute_result"
    },
    {
     "data": {
      "image/png": "[encoded data removed]",
      "text/plain": [
       "<Figure size 432x288 with 1 Axes>"
      ]
     },
     "metadata": {
      "needs_background": "light"
     },
     "output_type": "display_data"
    }
   ],
   "source": [
    "# recipients_total_sales[recipients_total_sales.sales == 0].count()\n",
    "plt.plot(np.log(recipients_total_sales[\"sales\"]))\n",
    "plt.xlabel(\"Kunden (sortiert)\")\n",
    "plt.ylabel(\"log Summe Umsatz\")"
   ]
  },
  {
   "cell_type": "markdown",
   "metadata": {
    "pycharm": {
     "name": "#%% md\n"
    }
   },
   "source": [
    "Wir wollen dem Algorithmus eine Zeitreihe der Sales eines jeden Kunden übergeben. Dazu ist noch etwas Data-wrangling nötig."
   ]
  },
  {
   "cell_type": "markdown",
   "metadata": {
    "pycharm": {
     "name": "#%% md\n"
    }
   },
   "source": [
    "Die drei folgenden Code-Zellen dienen der Transformation der X-Werte in ein 3D-Array, um diese für das Netzwerk lesbar zu machen."
   ]
  },
  {
   "cell_type": "code",
   "execution_count": 17,
   "metadata": {
    "pycharm": {
     "is_executing": false,
     "name": "#%%\n"
    }
   },
   "outputs": [
    {
     "name": "stderr",
     "output_type": "stream",
     "text": [
      "C:\\Users\\chris\\Anaconda3\\envs\\workshop\\lib\\site-packages\\ipykernel_launcher.py:4: FutureWarning: Indexing with multiple keys (implicitly converted to a tuple of keys) will be deprecated, use a list instead.\n",
      "  after removing the cwd from sys.path.\n"
     ]
    }
   ],
   "source": [
    "x_data_dict =  dict()\n",
    "x_data_grouped = x_data.groupby('recipient')\n",
    "for recipient in x_data_grouped.groups:\n",
    "    x_data_dict[recipient] = pd.DataFrame(x_data_grouped['date','sales'].get_group(recipient))\n",
    "assert len(x_data_dict) == len(y_data) # hier testen wir ob wir gleichviele Daten für x und y haben"
   ]
  },
  {
   "cell_type": "code",
   "execution_count": 18,
   "metadata": {
    "pycharm": {
     "is_executing": false,
     "name": "#%%\n"
    }
   },
   "outputs": [],
   "source": [
    "X = list()\n",
    "for key, item in x_data_dict.items():\n",
    "#     friend_count = friends.loc[friends['recipient'] == key, 'churner_friends'].values[0]\n",
    "    X.append(fill_dates(item, datetime.strptime(\"2018-09-01\",\"%Y-%m-%d\")).values.tolist())"
   ]
  },
  {
   "cell_type": "code",
   "execution_count": 19,
   "metadata": {
    "pycharm": {
     "is_executing": false,
     "name": "#%%\n"
    }
   },
   "outputs": [],
   "source": [
    "X = pad_sequences(X, value=-1,dtype='float32')\n",
    "y = np.array(y_data['churned'].values)\n",
    "y = y.reshape(y.shape[0],1)\n",
    "friends = friends.values.reshape(friends.shape[0],1)"
   ]
  },
  {
   "cell_type": "markdown",
   "metadata": {
    "pycharm": {
     "name": "#%% md\n"
    }
   },
   "source": [
    "Nun haben wir die gewünschten Zeitreihen. Um einen besseren Eindruck zu bekommen plotten wir den Verlauf von fünf Kunden.\n",
    "Versuche hier mehr Kunden anzeigen zu lassen (insgesamt sind es 252). Was musst du verändern?"
   ]
  },
  {
   "cell_type": "code",
   "execution_count": 20,
   "metadata": {
    "pycharm": {
     "is_executing": false,
     "name": "#%%\n"
    }
   },
   "outputs": [
    {
     "data": {
      "text/plain": [
       "Text(0, 0.5, 'Umsatz')"
      ]
     },
     "execution_count": 20,
     "metadata": {},
     "output_type": "execute_result"
    },
    {
     "data": {
      "image/png": "[encoded data removed]",
      "text/plain": [
       "<Figure size 432x288 with 1 Axes>"
      ]
     },
     "metadata": {
      "needs_background": "light"
     },
     "output_type": "display_data"
    }
   ],
   "source": [
    "# Die X-Achse stellt die Zeit dar:\n",
    "timesteps = np.arange(len(X[0]))\n",
    "\n",
    "# Um die Zeitreihe eines einzelnen Kunden zu bekommen (wird im Loop angewendet)\n",
    "# x1 = X[0].flatten() \n",
    "\n",
    "fig, ax = plt.subplots() # fig ist die ganze Grafik, ax ist die Oberfläche auf dem wir das Diagramm zeichnen können\n",
    "\n",
    "# Nun plotten wir für jeden Kunden \"i\" die Umsätze\n",
    "for i in range(5):\n",
    "    ax.bar(timesteps, X[i].flatten(), alpha=.5)\n",
    "ax.set_xlabel(\"Zeitreihe in Monaten\")\n",
    "ax.set_ylabel(\"Umsatz\")"
   ]
  },
  {
   "cell_type": "markdown",
   "metadata": {
    "pycharm": {
     "name": "#%% md\n"
    }
   },
   "source": [
    "70% Trainings- und 30% Testdaten.\n",
    "Freunschaftsbeziehungen und der zeitliche Verlauf werden als Input voneinander getrennt."
   ]
  },
  {
   "cell_type": "code",
   "execution_count": 21,
   "metadata": {
    "pycharm": {
     "is_executing": false,
     "name": "#%%\n"
    }
   },
   "outputs": [],
   "source": [
    "X_time_train, X_time_test, X_friends_train, X_friends_test, y_train, y_test = train_test_split(\n",
    "    X, friends, y, train_size=0.7, random_state=RANDOM_SEED\n",
    ")"
   ]
  },
  {
   "cell_type": "code",
   "execution_count": 22,
   "metadata": {},
   "outputs": [
    {
     "name": "stdout",
     "output_type": "stream",
     "text": [
      "X_time_train: (246, 43, 1)\n",
      "X_time_test: (106, 43, 1)\n",
      "X_friends_train: (246, 1)\n",
      "X_friends_test: (106, 1)\n",
      "y_train: (246, 1)\n",
      "y_test: (106, 1)\n"
     ]
    }
   ],
   "source": [
    "print(f'X_time_train: {X_time_train.shape}')\n",
    "print(f'X_time_test: {X_time_test.shape}')\n",
    "print(f'X_friends_train: {X_friends_train.shape}')\n",
    "print(f'X_friends_test: {X_friends_test.shape}')\n",
    "print(f'y_train: {y_train.shape}')\n",
    "print(f'y_test: {y_test.shape}')"
   ]
  },
  {
   "cell_type": "markdown",
   "metadata": {
    "pycharm": {
     "name": "#%% md\n"
    }
   },
   "source": [
    "**An dieser Stelle sind Sie gefragt..**\n",
    "Das nachfolgende Codefragment enthält 4 modifizierbare Parameter, welche essenziell für die Genauigkeit des Netzwerks sind.\n",
    "Diese sind so initialiert, dass das Netwerk ohne Veränderung eine schlechte Performance aufweist.\n",
    "Ihre Aufgabe ist es nun diese Parameter so anzupassen, dass eine möglichst hohe Genauigkeit erzielt wird.\n",
    "\n",
    "Die Parameter sind wie folgt beschrieben:\n",
    "* **learning_rate**: Lernrate des Minimierungs-Algorithmus der Kostenfunktion (default: 0.00001, range: 0-∞)\n",
    "* **lstm_cells**: Anzahl der Memory-Cells des Netzwerks. Besitzt ein Netzwerk mehr Zellen, kann es sich eine größere Anzahl an Merkmalen merken. Zu viele können zu *Overfitting* führen. (default: 1, range: 1-∞)\n",
    "* **dropout**: Anteil der Merkmale, die zufällig gelöscht werden. Wirkt *Ovefitting* entgegen (default: 0.5, range: 0-1)\n",
    "* **epochs**: Anzahl der Traingsdurchläufe (default: 10, range: 1-∞)"
   ]
  },
  {
   "cell_type": "code",
   "execution_count": 23,
   "metadata": {
    "pycharm": {
     "is_executing": false,
     "name": "#%%\n"
    }
   },
   "outputs": [],
   "source": [
    "learning_rate = 0.01\n",
    "lstm_cells = 5\n",
    "dropout = 0.2\n",
    "epochs = 25"
   ]
  },
  {
   "cell_type": "code",
   "execution_count": 38,
   "metadata": {
    "pycharm": {
     "is_executing": false,
     "name": "#%%\n"
    }
   },
   "outputs": [
    {
     "name": "stdout",
     "output_type": "stream",
     "text": [
      "Model: \"sequential_1\"\n",
      "_________________________________________________________________\n",
      "Layer (type)                 Output Shape              Param #   \n",
      "=================================================================\n",
      "masking_8 (Masking)          (None, 43, 1)             0         \n",
      "_________________________________________________________________\n",
      "lstm_8 (LSTM)                (None, 5)                 140       \n",
      "_________________________________________________________________\n",
      "dropout_8 (Dropout)          (None, 5)                 0         \n",
      "_________________________________________________________________\n",
      "dense_13 (Dense)             (None, 5)                 30        \n",
      "_________________________________________________________________\n",
      "dense_14 (Dense)             (None, 1)                 6         \n",
      "=================================================================\n",
      "Total params: 176\n",
      "Trainable params: 176\n",
      "Non-trainable params: 0\n",
      "_________________________________________________________________\n"
     ]
    }
   ],
   "source": [
    "model = Sequential()\n",
    "model.add(Masking(mask_value=-1, input_shape=(X_time_train.shape[1],1)))\n",
    "model.add(LSTM(lstm_cells, recurrent_dropout=dropout))\n",
    "model.add(Dropout(dropout))\n",
    "model.add(Dense(5, activation='relu'))\n",
    "model.add(Dense(1, activation='sigmoid'))\n",
    "model.compile(\n",
    "    loss='binary_crossentropy',\n",
    "    optimizer=Adam(learning_rate=0.01),\n",
    "    metrics=['acc']\n",
    ")\n",
    "\n",
    "model.summary()"
   ]
  },
  {
   "cell_type": "markdown",
   "metadata": {},
   "source": [
    "Die nachfolgende Code-Zelle enthält den Aufruf der *fit*-Methode, welche das Training des Netzes mit den oben angegebenen Parametern startet. Anschließend wird eine Zusammenfassung des Traingsverlaufs ausgegeben."
   ]
  },
  {
   "cell_type": "code",
   "execution_count": 39,
   "metadata": {
    "pycharm": {
     "is_executing": false,
     "name": "#%%\n"
    }
   },
   "outputs": [
    {
     "name": "stdout",
     "output_type": "stream",
     "text": [
      "Train on 246 samples, validate on 106 samples\n",
      "Epoch 1/25\n",
      "246/246 [==============================] - 5s 19ms/sample - loss: 0.7317 - acc: 0.4390 - val_loss: 0.6939 - val_acc: 0.5283\n",
      "Epoch 2/25\n",
      "246/246 [==============================] - 0s 1ms/sample - loss: 0.6750 - acc: 0.6504 - val_loss: 0.6526 - val_acc: 0.6887\n",
      "Epoch 3/25\n",
      "246/246 [==============================] - 0s 1ms/sample - loss: 0.6365 - acc: 0.6585 - val_loss: 0.5992 - val_acc: 0.6887\n",
      "Epoch 4/25\n",
      "246/246 [==============================] - 0s 2ms/sample - loss: 0.5799 - acc: 0.6707 - val_loss: 0.5122 - val_acc: 0.6887\n",
      "Epoch 5/25\n",
      "246/246 [==============================] - 0s 1ms/sample - loss: 0.5044 - acc: 0.7358 - val_loss: 0.4243 - val_acc: 0.9057\n",
      "Epoch 6/25\n",
      "246/246 [==============================] - 0s 2ms/sample - loss: 0.4405 - acc: 0.8415 - val_loss: 0.3780 - val_acc: 0.8679\n",
      "Epoch 7/25\n",
      "246/246 [==============================] - 0s 2ms/sample - loss: 0.4085 - acc: 0.8455 - val_loss: 0.3411 - val_acc: 0.8585\n",
      "Epoch 8/25\n",
      "246/246 [==============================] - 0s 1ms/sample - loss: 0.3620 - acc: 0.8577 - val_loss: 0.3095 - val_acc: 0.8868\n",
      "Epoch 9/25\n",
      "246/246 [==============================] - 0s 1ms/sample - loss: 0.3622 - acc: 0.8537 - val_loss: 0.2930 - val_acc: 0.8868\n",
      "Epoch 10/25\n",
      "246/246 [==============================] - 0s 2ms/sample - loss: 0.3380 - acc: 0.8902 - val_loss: 0.2795 - val_acc: 0.8774\n",
      "Epoch 11/25\n",
      "246/246 [==============================] - 0s 2ms/sample - loss: 0.3598 - acc: 0.8699 - val_loss: 0.2820 - val_acc: 0.8774\n",
      "Epoch 12/25\n",
      "246/246 [==============================] - 0s 2ms/sample - loss: 0.3398 - acc: 0.8699 - val_loss: 0.2681 - val_acc: 0.8774\n",
      "Epoch 13/25\n",
      "246/246 [==============================] - 0s 2ms/sample - loss: 0.3301 - acc: 0.8740 - val_loss: 0.2710 - val_acc: 0.8774\n",
      "Epoch 14/25\n",
      "246/246 [==============================] - 0s 1ms/sample - loss: 0.3460 - acc: 0.8577 - val_loss: 0.2683 - val_acc: 0.8774\n",
      "Epoch 15/25\n",
      "246/246 [==============================] - 0s 1ms/sample - loss: 0.3299 - acc: 0.8699 - val_loss: 0.2652 - val_acc: 0.8774\n",
      "Epoch 16/25\n",
      "246/246 [==============================] - 0s 2ms/sample - loss: 0.3403 - acc: 0.8618 - val_loss: 0.2636 - val_acc: 0.8774\n",
      "Epoch 17/25\n",
      "246/246 [==============================] - 0s 1ms/sample - loss: 0.3343 - acc: 0.8577 - val_loss: 0.2578 - val_acc: 0.8868\n",
      "Epoch 18/25\n",
      "246/246 [==============================] - 0s 2ms/sample - loss: 0.3120 - acc: 0.8699 - val_loss: 0.2521 - val_acc: 0.8962\n",
      "Epoch 19/25\n",
      "246/246 [==============================] - 0s 2ms/sample - loss: 0.2889 - acc: 0.8902 - val_loss: 0.2502 - val_acc: 0.8868\n",
      "Epoch 20/25\n",
      "246/246 [==============================] - 0s 1ms/sample - loss: 0.3094 - acc: 0.8699 - val_loss: 0.2474 - val_acc: 0.8962\n",
      "Epoch 21/25\n",
      "246/246 [==============================] - 0s 1ms/sample - loss: 0.3111 - acc: 0.8740 - val_loss: 0.2432 - val_acc: 0.9057\n",
      "Epoch 22/25\n",
      "246/246 [==============================] - 0s 2ms/sample - loss: 0.3137 - acc: 0.8740 - val_loss: 0.2451 - val_acc: 0.8962\n",
      "Epoch 23/25\n",
      "246/246 [==============================] - 0s 2ms/sample - loss: 0.3118 - acc: 0.8740 - val_loss: 0.2457 - val_acc: 0.8962\n",
      "Epoch 24/25\n",
      "224/246 [==========================>...] - ETA: 0s - loss: 0.3458 - acc: 0.8571Restoring model weights from the end of the best epoch.\n",
      "246/246 [==============================] - 0s 2ms/sample - loss: 0.3319 - acc: 0.8618 - val_loss: 0.2440 - val_acc: 0.8868\n",
      "Epoch 00024: early stopping\n"
     ]
    },
    {
     "data": {
      "image/png": "[encoded data removed]",
      "text/plain": [
       "<Figure size 1152x360 with 2 Axes>"
      ]
     },
     "metadata": {
      "needs_background": "light"
     },
     "output_type": "display_data"
    },
    {
     "name": "stdout",
     "output_type": "stream",
     "text": [
      "Genauigkeit: 88.68%\n",
      "94.0 von 106 Beispielen richtig klassifiziert!\n"
     ]
    }
   ],
   "source": [
    "es = EarlyStopping(monitor='loss', mode='min', verbose=1, restore_best_weights=True, patience=5)\n",
    "history = model.fit(x=X_time_train,y=y_train,epochs=epochs, verbose=1, callbacks=[es], validation_data=(X_time_test, y_test))\n",
    "scores = model.evaluate(X_time_test, y_test, verbose=0)\n",
    "\n",
    "plt.rcParams[\"figure.figsize\"] = (16, 5)\n",
    "fig, (ax1, ax2) = plt.subplots(1, 2)\n",
    "\n",
    "ax1.plot(history.history['loss'], label='Training')\n",
    "ax1.plot(history.history['val_loss'], label='Testing')\n",
    "ax1.legend(loc=\"upper left\")\n",
    "ax1.set_title(\"Training und Testing Kostenverlauf\")\n",
    "ax2.plot(history.history['acc'], label='Training')\n",
    "ax2.plot(history.history['val_acc'], label='Testing')\n",
    "ax2.legend(loc=\"upper left\")#\n",
    "ax2.set_title(\"Training und Testing Genauigkeit\")\n",
    "plt.show()\n",
    "\n",
    "print(\"Genauigkeit: %.2f%%\" % (scores[1]*100))\n",
    "print(str(round(X_time_test.shape[0] * scores[1])) + \" von \" + str(X_time_test.shape[0]) + \" Beispielen richtig klassifiziert!\")"
   ]
  },
  {
   "cell_type": "code",
   "execution_count": 40,
   "metadata": {},
   "outputs": [
    {
     "name": "stdout",
     "output_type": "stream",
     "text": [
      "Model: \"lstm_friendship_model\"\n",
      "__________________________________________________________________________________________________\n",
      "Layer (type)                    Output Shape         Param #     Connected to                     \n",
      "==================================================================================================\n",
      "input_15 (InputLayer)           [(None, 43, 1)]      0                                            \n",
      "__________________________________________________________________________________________________\n",
      "masking_9 (Masking)             (None, 43, 1)        0           input_15[0][0]                   \n",
      "__________________________________________________________________________________________________\n",
      "lstm_9 (LSTM)                   (None, 5)            140         masking_9[0][0]                  \n",
      "__________________________________________________________________________________________________\n",
      "dropout_9 (Dropout)             (None, 5)            0           lstm_9[0][0]                     \n",
      "__________________________________________________________________________________________________\n",
      "dense_15 (Dense)                (None, 5)            30          dropout_9[0][0]                  \n",
      "__________________________________________________________________________________________________\n",
      "input_16 (InputLayer)           [(None, 1)]          0                                            \n",
      "__________________________________________________________________________________________________\n",
      "concatenate_7 (Concatenate)     (None, 6)            0           dense_15[0][0]                   \n",
      "                                                                 input_16[0][0]                   \n",
      "__________________________________________________________________________________________________\n",
      "dense_16 (Dense)                (None, 1)            7           concatenate_7[0][0]              \n",
      "==================================================================================================\n",
      "Total params: 177\n",
      "Trainable params: 177\n",
      "Non-trainable params: 0\n",
      "__________________________________________________________________________________________________\n"
     ]
    }
   ],
   "source": [
    "input_time = Input(shape=(X_time_train.shape[1],1))\n",
    "input_friends = Input(shape=(X_friends_train.shape[1]))\n",
    "\n",
    "## Combined Model\n",
    "x = Masking(mask_value=-1)(input_time)\n",
    "x = LSTM(lstm_cells, recurrent_dropout=dropout)(x)\n",
    "x = Dropout(dropout)(x)\n",
    "x = Dense(5, activation='relu')(x)\n",
    "x = concatenate([x, input_friends])\n",
    "\n",
    "## Model only with friends\n",
    "# x = Dense(10, activation='relu')(input_friends)\n",
    "\n",
    "outputs = Dense(1, activation='sigmoid')(x)\n",
    "\n",
    "model = Model(\n",
    "    inputs=[input_time, input_friends],\n",
    "    outputs=outputs,\n",
    "    name=\"lstm_friendship_model\",\n",
    ")\n",
    "\n",
    "model.summary()\n",
    "\n",
    "model.compile(\n",
    "    loss='binary_crossentropy',\n",
    "    optimizer=Adam(learning_rate=learning_rate),\n",
    "    metrics=['acc'],\n",
    ")\n"
   ]
  },
  {
   "cell_type": "code",
   "execution_count": 41,
   "metadata": {},
   "outputs": [
    {
     "name": "stdout",
     "output_type": "stream",
     "text": [
      "Train on 246 samples, validate on 106 samples\n",
      "Epoch 1/25\n",
      "246/246 [==============================] - 5s 20ms/sample - loss: 0.8260 - acc: 0.5203 - val_loss: 0.6246 - val_acc: 0.6981\n",
      "Epoch 2/25\n",
      "246/246 [==============================] - 0s 2ms/sample - loss: 0.6644 - acc: 0.6382 - val_loss: 0.4712 - val_acc: 0.7736\n",
      "Epoch 3/25\n",
      "246/246 [==============================] - 0s 2ms/sample - loss: 0.5436 - acc: 0.7114 - val_loss: 0.3927 - val_acc: 0.8208\n",
      "Epoch 4/25\n",
      "246/246 [==============================] - 0s 1ms/sample - loss: 0.5187 - acc: 0.7846 - val_loss: 0.3477 - val_acc: 0.8585\n",
      "Epoch 5/25\n",
      "246/246 [==============================] - 0s 2ms/sample - loss: 0.4729 - acc: 0.7927 - val_loss: 0.3392 - val_acc: 0.8585\n",
      "Epoch 6/25\n",
      "246/246 [==============================] - 0s 2ms/sample - loss: 0.4463 - acc: 0.8171 - val_loss: 0.3339 - val_acc: 0.8491\n",
      "Epoch 7/25\n",
      "246/246 [==============================] - 0s 2ms/sample - loss: 0.4344 - acc: 0.8211 - val_loss: 0.3158 - val_acc: 0.8585\n",
      "Epoch 8/25\n",
      "246/246 [==============================] - 0s 2ms/sample - loss: 0.4038 - acc: 0.8089 - val_loss: 0.3002 - val_acc: 0.8679\n",
      "Epoch 9/25\n",
      "246/246 [==============================] - 0s 2ms/sample - loss: 0.3968 - acc: 0.8293 - val_loss: 0.3034 - val_acc: 0.8491\n",
      "Epoch 10/25\n",
      "246/246 [==============================] - 0s 2ms/sample - loss: 0.3725 - acc: 0.8333 - val_loss: 0.2849 - val_acc: 0.8679\n",
      "Epoch 11/25\n",
      "246/246 [==============================] - 0s 2ms/sample - loss: 0.3711 - acc: 0.8537 - val_loss: 0.2768 - val_acc: 0.8774\n",
      "Epoch 12/25\n",
      "246/246 [==============================] - 0s 2ms/sample - loss: 0.3570 - acc: 0.8618 - val_loss: 0.2704 - val_acc: 0.8774\n",
      "Epoch 13/25\n",
      "246/246 [==============================] - 0s 2ms/sample - loss: 0.3539 - acc: 0.8699 - val_loss: 0.2682 - val_acc: 0.8774\n",
      "Epoch 14/25\n",
      "246/246 [==============================] - 0s 2ms/sample - loss: 0.3270 - acc: 0.8699 - val_loss: 0.2654 - val_acc: 0.8774\n",
      "Epoch 15/25\n",
      "246/246 [==============================] - 0s 1ms/sample - loss: 0.3141 - acc: 0.8740 - val_loss: 0.2643 - val_acc: 0.8679\n",
      "Epoch 16/25\n",
      "246/246 [==============================] - 1s 2ms/sample - loss: 0.3165 - acc: 0.8618 - val_loss: 0.2575 - val_acc: 0.8774\n",
      "Epoch 17/25\n",
      "246/246 [==============================] - 0s 1ms/sample - loss: 0.3486 - acc: 0.8496 - val_loss: 0.2522 - val_acc: 0.8868\n",
      "Epoch 18/25\n",
      "246/246 [==============================] - 0s 2ms/sample - loss: 0.3109 - acc: 0.8862 - val_loss: 0.2514 - val_acc: 0.8774\n",
      "Epoch 19/25\n",
      "246/246 [==============================] - 0s 2ms/sample - loss: 0.3032 - acc: 0.8577 - val_loss: 0.2631 - val_acc: 0.8868\n",
      "Epoch 20/25\n",
      "246/246 [==============================] - 0s 2ms/sample - loss: 0.3350 - acc: 0.8618 - val_loss: 0.2618 - val_acc: 0.8868\n",
      "Epoch 21/25\n",
      "246/246 [==============================] - 1s 2ms/sample - loss: 0.3159 - acc: 0.8699 - val_loss: 0.2557 - val_acc: 0.8774\n",
      "Epoch 22/25\n",
      "246/246 [==============================] - 0s 2ms/sample - loss: 0.2909 - acc: 0.8699 - val_loss: 0.2514 - val_acc: 0.8774\n",
      "Epoch 23/25\n",
      "246/246 [==============================] - 0s 2ms/sample - loss: 0.3176 - acc: 0.8740 - val_loss: 0.2483 - val_acc: 0.8774\n",
      "Epoch 24/25\n",
      "246/246 [==============================] - 1s 2ms/sample - loss: 0.3007 - acc: 0.8780 - val_loss: 0.2479 - val_acc: 0.8774\n",
      "Epoch 25/25\n",
      "246/246 [==============================] - 0s 2ms/sample - loss: 0.3140 - acc: 0.8699 - val_loss: 0.2454 - val_acc: 0.8774\n"
     ]
    },
    {
     "data": {
      "image/png": "[encoded data removed]",
      "text/plain": [
       "<Figure size 1152x360 with 2 Axes>"
      ]
     },
     "metadata": {
      "needs_background": "light"
     },
     "output_type": "display_data"
    },
    {
     "name": "stdout",
     "output_type": "stream",
     "text": [
      "Genauigkeit: 87.74%\n",
      "93.0 von 106 Beispielen richtig klassifiziert!\n"
     ]
    }
   ],
   "source": [
    "es = EarlyStopping(monitor='loss', mode='min', verbose=1, restore_best_weights=True, patience=5)\n",
    "history = model.fit(x=[X_time_train, X_friends_train],y=y_train,epochs=epochs, verbose=1, callbacks=[es], validation_data=([X_time_test, X_friends_test], y_test))\n",
    "scores = model.evaluate([X_time_test, X_friends_test], y_test, verbose=0)\n",
    "\n",
    "plt.rcParams[\"figure.figsize\"] = (16, 5)\n",
    "fig, (ax1, ax2) = plt.subplots(1, 2)\n",
    "\n",
    "ax1.plot(history.history['loss'], label='Training')\n",
    "ax1.plot(history.history['val_loss'], label='Testing')\n",
    "ax1.legend(loc=\"upper left\")\n",
    "ax1.set_title(\"Training und Testing Kostenverlauf\")\n",
    "ax2.plot(history.history['acc'], label='Training')\n",
    "ax2.plot(history.history['val_acc'], label='Testing')\n",
    "ax2.legend(loc=\"upper left\")#\n",
    "ax2.set_title(\"Training und Testing Genauigkeit\")\n",
    "plt.show()\n",
    "\n",
    "print(\"Genauigkeit: %.2f%%\" % (scores[1]*100))\n",
    "print(str(round(X_time_test.shape[0] * scores[1])) + \" von \" + str(X_time_test.shape[0]) + \" Beispielen richtig klassifiziert!\")"
   ]
  },
  {
   "cell_type": "code",
   "execution_count": null,
   "metadata": {},
   "outputs": [],
   "source": []
  }
 ],
 "metadata": {
  "kernelspec": {
   "display_name": "workshop",
   "language": "python",
   "name": "workshop"
  },
  "language_info": {
   "codemirror_mode": {
    "name": "ipython",
    "version": 3
   },
   "file_extension": ".py",
   "mimetype": "text/x-python",
   "name": "python",
   "nbconvert_exporter": "python",
   "pygments_lexer": "ipython3",
   "version": "3.6.10"
  },
  "pycharm": {
   "stem_cell": {
    "cell_type": "raw",
    "metadata": {
     "collapsed": false
    },
    "source": []
   }
  }
 },
 "nbformat": 4,
 "nbformat_minor": 1
}
