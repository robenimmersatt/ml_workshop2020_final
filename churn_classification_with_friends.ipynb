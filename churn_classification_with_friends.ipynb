{
 "cells": [
  {
   "cell_type": "markdown",
   "metadata": {},
   "source": [
    "## Beispiel eines Neuronalen Netzes zur Vorhersage von Kundenabwanderung\n",
    "Genutzt wird in diesem Fall ein **LSTM**-Netz (Long-Short-Term-Memory)\n",
    ", welches besonders gut für die Analyse von längeren Sequenzen (Texte, Kursverläufe etc.) geeignet ist.\n",
    "In unserem Fall sind dies Bestellverläufe verschiedener Kunden. Ziel ist es, das Netz auf einen Teil der Kundenbestellungen zu trainieren, und mit dem Rest zu testen ob das System diese richtig als abgesprungen oder nicht abgesprungen klassifiziert."
   ]
  },
  {
   "cell_type": "markdown",
   "metadata": {
    "pycharm": {
     "name": "#%% md\n"
    }
   },
   "source": [
    "#### Wie führt man den Code aus?\n",
    "Im folgenden Dokument finden Sie Codefragmente (Zellen) und Text, der beschreibt was der Code macht. \n",
    "Die Code-Zellen müssen nacheinander von Ihnen ausgeführt werden.\n",
    "* Klicken Sie in die Zelle, um diese auszuwählen\n",
    "* Drücken Sie *Shift+Enter* um den gesamten Code der ausgewählten Zelle auszuführen. Dabei springt die Auswahl auf die nächste Zelle.\n",
    "* Um zwischen den Zellen zu springen drücken Sie *Strg+Hoch/Runter*. \n",
    "Weiter Shortcuts unter Help.\n",
    "\n",
    "Wenn Sie wenig Erfahrung mit Programmierung und Machine Learning haben wird der Code sicher schwer zu verstehen sein. Achten Sie auf die Beschreibungen und lassen Sie sich nicht Einschüchtern!\n",
    "Sie werden ein paar Einladungen zur Interaktion mit dem Code finden!"
   ]
  },
  {
   "cell_type": "markdown",
   "metadata": {},
   "source": [
    "## Imports und Funktionen"
   ]
  },
  {
   "cell_type": "markdown",
   "metadata": {},
   "source": [
    "Die wichtigsten Bibliotheken:\n",
    "* **Keras** - Hauptframework für Machine Learning. (Basiert auf Google's Tensorflow)\n",
    "* **Numpy** - Unter anderem zur Durchführung von Vektorberechnungen.\n",
    "* **Pandas** - Regelt den Import und die Formatierung von Daten.\n",
    "* **Matplotlib** - Zur Erstellung von Diagrammen"
   ]
  },
  {
   "cell_type": "code",
   "execution_count": 1,
   "metadata": {
    "pycharm": {
     "name": "#%%\n"
    }
   },
   "outputs": [],
   "source": [
    "import random as rn\n",
    "from datetime import datetime\n",
    "\n",
    "from dateutil.relativedelta import relativedelta\n",
    "import matplotlib.pyplot as plt\n",
    "import numpy as np\n",
    "import pandas as pd\n",
    "\n",
    "from sklearn.model_selection import train_test_split\n",
    "\n",
    "import tensorflow as tf\n",
    "from tensorflow.keras import Sequential, Input, Model\n",
    "from tensorflow.keras.callbacks import EarlyStopping\n",
    "from tensorflow.keras.layers import Masking, LSTM, Dense, Dropout, concatenate\n",
    "from tensorflow.keras.optimizers import Adam\n",
    "from tensorflow.keras.preprocessing.sequence import pad_sequences"
   ]
  },
  {
   "cell_type": "code",
   "execution_count": 2,
   "metadata": {
    "pycharm": {
     "is_executing": false
    }
   },
   "outputs": [],
   "source": [
    "RANDOM_SEED = 40\n",
    "\n",
    "rn.seed(RANDOM_SEED)\n",
    "np.random.seed(RANDOM_SEED)\n",
    "tf.random.set_seed(RANDOM_SEED)"
   ]
  },
  {
   "cell_type": "markdown",
   "metadata": {
    "pycharm": {
     "name": "#%% md\n"
    }
   },
   "source": [
    "Funktion: *Inner-Join* auf zwei Datensätzen"
   ]
  },
  {
   "cell_type": "code",
   "execution_count": 3,
   "metadata": {
    "pycharm": {
     "is_executing": false,
     "name": "#%%\n"
    }
   },
   "outputs": [],
   "source": [
    "def drop_missing_values_vise_versa(df1, df2, column_name):\n",
    "    \"\"\"Entferne die fehlenden Werte anhand einer Spalte\n",
    "    \n",
    "    Args:\n",
    "        df1 (:obj:`pandas.DataFrame`): 1. DataFrame\n",
    "        df2 (:obj:`pandas.DataFrame`): 2. DataFrame\n",
    "        column_name (:obj:`str`): relevanter Spaltenname\n",
    "    \n",
    "    Returns:\n",
    "        tuple of two :obj:`pandas.DataFrame`\n",
    "    \"\"\"\n",
    "    \n",
    "    assert column_name in df1.columns and column_name in df2.columns, 'Spaltenname muss in beiden DFs vorliegen.'\n",
    "\n",
    "    drop_condition = df1[column_name].isin(df2[column_name]) == False\n",
    "    df1 = df1.drop(df1[drop_condition].index)\n",
    "\n",
    "    drop_condition = df2[column_name].isin(df1[column_name]) == False\n",
    "    df2 = df2.drop(df2[drop_condition].index)\n",
    "\n",
    "    return df1, df2"
   ]
  },
  {
   "cell_type": "markdown",
   "metadata": {
    "pycharm": {
     "name": "#%% md\n"
    }
   },
   "source": [
    "Funktion: welche fehlende Daten einer Zeitreihe auffüllt. Wenn kein Wert da ist tragen wir eine 0 ein."
   ]
  },
  {
   "cell_type": "code",
   "execution_count": 4,
   "metadata": {
    "pycharm": {
     "is_executing": false,
     "name": "#%%\n"
    }
   },
   "outputs": [],
   "source": [
    "def fill_dates(df, end_date):\n",
    "    \"\"\"Fülle die Zeitreihen bis zu einem gegebenen Datum auf\n",
    "    \n",
    "    Args:\n",
    "        df (:obj:`pandas.DataFrame`): DataFrame mit Zeitreihen\n",
    "        end_date (:obj:`datetime.datetime`)\n",
    "    \n",
    "    Returns:\n",
    "        :obj:`pandas.DataFrame` aufgefüllter DataFrame\n",
    "    \"\"\"\n",
    "\n",
    "    start_date = df['date'].iloc[0]\n",
    "    if start_date > end_date or len(df) == 0:\n",
    "        return df\n",
    "\n",
    "    months_diff = ((end_date.year - start_date.year) * 12 + end_date.month - start_date.month)\n",
    "    date_list = [start_date + relativedelta(months=x) for x in range(0, months_diff)]\n",
    "    date_frame = pd.DataFrame(date_list)\n",
    "    date_frame.columns = ['date']\n",
    "    value = pd.merge(date_frame, df, how='left').fillna(0)\n",
    "    value = value.drop(['date'], axis=1)\n",
    "\n",
    "    return value"
   ]
  },
  {
   "cell_type": "markdown",
   "metadata": {
    "pycharm": {
     "name": "#%% md\n"
    }
   },
   "source": [
    "## Einlesen der Daten mithilfe von **Pandas**\n",
    "* Es wird zwischen X und Y-Werten unterschieden.\n",
    "* Die X-Werte sind in unserem Fall die Bestellverläufe.\n",
    "* Der Y-Wert ist ein *boolean*-Wert, welcher besagt ob ein Kunde abgesprungen ist."
   ]
  },
  {
   "cell_type": "code",
   "execution_count": 5,
   "metadata": {
    "pycharm": {
     "is_executing": false,
     "name": "#%%\n"
    }
   },
   "outputs": [
    {
     "data": {
      "text/plain": [
       "count                   20112\n",
       "unique                     57\n",
       "top       2019-02-01 00:00:00\n",
       "freq                      458\n",
       "first     2015-02-01 00:00:00\n",
       "last      2019-10-01 00:00:00\n",
       "Name: date, dtype: object"
      ]
     },
     "execution_count": 5,
     "metadata": {},
     "output_type": "execute_result"
    }
   ],
   "source": [
    "x_data = pd.read_csv(\"cleaned_orders.csv\", header=0, index_col=0, sep=\",\", decimal=\".\", dtype={0:int})\n",
    "x_data['date'] = pd.to_datetime(x_data.date, format='%Y-%m-%d')\n",
    "\n",
    "x_data['date'].describe() # scope: monthly, 2015-02 until 2019-09"
   ]
  },
  {
   "cell_type": "code",
   "execution_count": 6,
   "metadata": {
    "pycharm": {
     "is_executing": false,
     "name": "#%%\n"
    }
   },
   "outputs": [],
   "source": [
    "x_data = pd.read_csv(\"cleaned_orders.csv\", header=0, index_col=0, sep=\",\", decimal=\".\", dtype={0:int})\n",
    "x_data['date'] = pd.to_datetime(x_data.date, format='%Y-%m-%d') # scope: monthly, 2015-02 until 2019-09\n",
    "x_data = x_data.drop(\"quantity\", axis=1)\n",
    "x_data = x_data[x_data.date < '2018-09-01'] # spätere Daten wurden zur Churn Bestimmung (y-Daten) benutzt\n"
   ]
  },
  {
   "cell_type": "code",
   "execution_count": 7,
   "metadata": {
    "pycharm": {
     "is_executing": false,
     "name": "#%%\n"
    }
   },
   "outputs": [],
   "source": [
    "y_data = pd.read_csv(\"cleaned_y_data_friends.csv\", header=0, index_col=0, sep=\",\", dtype={0:int,1:int})\n",
    "y_data = y_data.sort_values('recipient').reset_index(drop=True)"
   ]
  },
  {
   "cell_type": "code",
   "execution_count": 8,
   "metadata": {
    "pycharm": {
     "is_executing": false,
     "name": "#%%\n"
    }
   },
   "outputs": [],
   "source": [
    "x_data, y_data = drop_missing_values_vise_versa(x_data, y_data, 'recipient')"
   ]
  },
  {
   "cell_type": "markdown",
   "metadata": {},
   "source": [
    "## Data-Exploration\n",
    "\n",
    "Wieviele Kunden haben wir im Dataset?"
   ]
  },
  {
   "cell_type": "code",
   "execution_count": 9,
   "metadata": {
    "pycharm": {
     "is_executing": false,
     "name": "#%%\n"
    }
   },
   "outputs": [
    {
     "data": {
      "text/plain": [
       "recipient     352\n",
       "date           43\n",
       "sales        1357\n",
       "dtype: int64"
      ]
     },
     "execution_count": 9,
     "metadata": {},
     "output_type": "execute_result"
    }
   ],
   "source": [
    "x_data.nunique() # Anzahl der \"unique\" Werte pro Spalte (es gibt viele Spalten pro Rezipient)"
   ]
  },
  {
   "cell_type": "markdown",
   "metadata": {},
   "source": [
    "Wie ist der Umsatz auf die Kunden verteilt?"
   ]
  },
  {
   "cell_type": "code",
   "execution_count": 10,
   "metadata": {
    "pycharm": {
     "is_executing": false,
     "name": "#%%\n"
    }
   },
   "outputs": [
    {
     "data": {
      "text/plain": [
       "Text(0, 0.5, 'Summe Umsatz in Mio')"
      ]
     },
     "execution_count": 10,
     "metadata": {},
     "output_type": "execute_result"
    },
    {
     "data": {
      "image/png": "[encoded data removed]",
      "text/plain": [
       "<Figure size 432x288 with 1 Axes>"
      ]
     },
     "metadata": {
      "needs_background": "light"
     },
     "output_type": "display_data"
    }
   ],
   "source": [
    "grouped = x_data.groupby('recipient', as_index=False)\n",
    "recipients_total_sales = grouped.agg(np.sum)\n",
    "recipients_total_sales.sort_values(by=\"sales\", ascending=False, inplace=True)\n",
    "recipients_total_sales.reset_index(inplace=True, drop=True)\n",
    "plt.plot(recipients_total_sales[\"sales\"])\n",
    "plt.xlabel(\"Kunden (sortiert)\")\n",
    "plt.ylabel(\"Summe Umsatz in Mio\")"
   ]
  },
  {
   "cell_type": "markdown",
   "metadata": {},
   "source": [
    "Es sieht so aus als währen viele \"leere\" Kunden dabei. \n",
    "Schauen wir uns das genauer an. Eine log-Skala ist angebracht."
   ]
  },
  {
   "cell_type": "code",
   "execution_count": 11,
   "metadata": {
    "pycharm": {
     "is_executing": false,
     "name": "#%%\n"
    }
   },
   "outputs": [
    {
     "name": "stderr",
     "output_type": "stream",
     "text": [
      "c:\\users\\robert\\appdata\\local\\programs\\python\\python38\\lib\\site-packages\\pandas\\core\\series.py:856: RuntimeWarning: divide by zero encountered in log\n",
      "  result = getattr(ufunc, method)(*inputs, **kwargs)\n"
     ]
    },
    {
     "data": {
      "text/plain": [
       "Text(0, 0.5, 'log Summe Umsatz')"
      ]
     },
     "execution_count": 11,
     "metadata": {},
     "output_type": "execute_result"
    },
    {
     "data": {
      "image/png": "[encoded data removed]",
      "text/plain": [
       "<Figure size 432x288 with 1 Axes>"
      ]
     },
     "metadata": {
      "needs_background": "light"
     },
     "output_type": "display_data"
    }
   ],
   "source": [
    "# recipients_total_sales[recipients_total_sales.sales == 0].count()\n",
    "plt.plot(np.log(recipients_total_sales[\"sales\"]))\n",
    "plt.xlabel(\"Kunden (sortiert)\")\n",
    "plt.ylabel(\"log Summe Umsatz\")"
   ]
  },
  {
   "cell_type": "markdown",
   "metadata": {
    "pycharm": {
     "name": "#%% md\n"
    }
   },
   "source": [
    "## Soziale Beziehungen\n",
    "\n",
    "Wir haben für jeden Kunden die Anzahl von \"Churnern\" gezählt, die im Bekanntenkreis zu finden sind. Solche Daten könnte man aus einem sozialen Netzwerk extrahieren. Unsere Daten sind einfach generiert.\n",
    "\n",
    "Eine mögliche Hypothese ist, dass Kunden, die eine erhöhte Anzahl an Churnern im Bekanntenkreis haben, selbst eine erhöhte Churn-Wahrscheinlichkeit aufweisen.\n",
    "Wie könnte man durch einen Plot dieser Hypothese nachgehen?"
   ]
  },
  {
   "cell_type": "code",
   "execution_count": 12,
   "metadata": {
    "pycharm": {
     "is_executing": false,
     "name": "#%%\n"
    }
   },
   "outputs": [
    {
     "data": {
      "text/html": [
       "<div>\n",
       "<style scoped>\n",
       "    .dataframe tbody tr th:only-of-type {\n",
       "        vertical-align: middle;\n",
       "    }\n",
       "\n",
       "    .dataframe tbody tr th {\n",
       "        vertical-align: top;\n",
       "    }\n",
       "\n",
       "    .dataframe thead th {\n",
       "        text-align: right;\n",
       "    }\n",
       "</style>\n",
       "<table border=\"1\" class=\"dataframe\">\n",
       "  <thead>\n",
       "    <tr style=\"text-align: right;\">\n",
       "      <th></th>\n",
       "      <th>recipient</th>\n",
       "      <th>churned</th>\n",
       "      <th>churner_friends</th>\n",
       "    </tr>\n",
       "  </thead>\n",
       "  <tbody>\n",
       "    <tr>\n",
       "      <th>0</th>\n",
       "      <td>11675</td>\n",
       "      <td>0</td>\n",
       "      <td>1</td>\n",
       "    </tr>\n",
       "    <tr>\n",
       "      <th>1</th>\n",
       "      <td>12589</td>\n",
       "      <td>0</td>\n",
       "      <td>4</td>\n",
       "    </tr>\n",
       "    <tr>\n",
       "      <th>2</th>\n",
       "      <td>13593</td>\n",
       "      <td>1</td>\n",
       "      <td>4</td>\n",
       "    </tr>\n",
       "  </tbody>\n",
       "</table>\n",
       "</div>"
      ],
      "text/plain": [
       "   recipient  churned  churner_friends\n",
       "0      11675        0                1\n",
       "1      12589        0                4\n",
       "2      13593        1                4"
      ]
     },
     "execution_count": 12,
     "metadata": {},
     "output_type": "execute_result"
    }
   ],
   "source": [
    "y_data.head(3)"
   ]
  },
  {
   "cell_type": "markdown",
   "metadata": {
    "pycharm": {
     "name": "#%% md\n"
    }
   },
   "source": [
    "**Hier sind Sie gefragt!**\n",
    "\n",
    "Wofür stehen wohl die Gruppen A und B? Ersetzen Sie die den Text der Labels und führen Sie die Zelle erneut aus."
   ]
  },
  {
   "cell_type": "code",
   "execution_count": 13,
   "metadata": {
    "pycharm": {
     "is_executing": false,
     "name": "#%%\n"
    }
   },
   "outputs": [
    {
     "data": {
      "image/png": "[encoded data removed]",
      "text/plain": [
       "<Figure size 576x288 with 1 Axes>"
      ]
     },
     "metadata": {
      "needs_background": "light"
     },
     "output_type": "display_data"
    }
   ],
   "source": [
    "fig, ax = plt.subplots()\n",
    "fig.set_size_inches(8,4)\n",
    "\n",
    "labels=[\"Gruppe B\", \"Gruppe A\"]\n",
    "\n",
    "data = [y_data[\"churner_friends\"], y_data[\"churned\"]]\n",
    "\n",
    "ax.boxplot(data, labels=labels, vert=False)\n",
    "ax.set_xlabel(\"Number of churner friends\")\n",
    "fig.suptitle(\"Wofür stehen wohl die Gruppen A und B?\")\n",
    "plt.show()"
   ]
  },
  {
   "cell_type": "markdown",
   "metadata": {
    "pycharm": {
     "is_executing": false,
     "name": "#%% md\n"
    }
   },
   "source": [
    "Hier teilen wir die Tabelle auf, weil wir als y-Daten eigentlich nur die Kundennummer und den Abwanderungstatus wollen."
   ]
  },
  {
   "cell_type": "code",
   "execution_count": 14,
   "metadata": {
    "pycharm": {
     "name": "#%%\n"
    }
   },
   "outputs": [],
   "source": [
    "friends = y_data.iloc[:,[0,2]]\n",
    "y_data_red = y_data.iloc[:,[0,1]]"
   ]
  },
  {
   "cell_type": "code",
   "execution_count": 15,
   "metadata": {
    "pycharm": {
     "is_executing": false
    }
   },
   "outputs": [
    {
     "data": {
      "text/html": [
       "<div>\n",
       "<style scoped>\n",
       "    .dataframe tbody tr th:only-of-type {\n",
       "        vertical-align: middle;\n",
       "    }\n",
       "\n",
       "    .dataframe tbody tr th {\n",
       "        vertical-align: top;\n",
       "    }\n",
       "\n",
       "    .dataframe thead th {\n",
       "        text-align: right;\n",
       "    }\n",
       "</style>\n",
       "<table border=\"1\" class=\"dataframe\">\n",
       "  <thead>\n",
       "    <tr style=\"text-align: right;\">\n",
       "      <th></th>\n",
       "      <th>recipient</th>\n",
       "      <th>churner_friends</th>\n",
       "    </tr>\n",
       "  </thead>\n",
       "  <tbody>\n",
       "    <tr>\n",
       "      <th>0</th>\n",
       "      <td>11675</td>\n",
       "      <td>1</td>\n",
       "    </tr>\n",
       "    <tr>\n",
       "      <th>1</th>\n",
       "      <td>12589</td>\n",
       "      <td>4</td>\n",
       "    </tr>\n",
       "    <tr>\n",
       "      <th>2</th>\n",
       "      <td>13593</td>\n",
       "      <td>4</td>\n",
       "    </tr>\n",
       "    <tr>\n",
       "      <th>3</th>\n",
       "      <td>14080</td>\n",
       "      <td>4</td>\n",
       "    </tr>\n",
       "    <tr>\n",
       "      <th>4</th>\n",
       "      <td>14089</td>\n",
       "      <td>0</td>\n",
       "    </tr>\n",
       "  </tbody>\n",
       "</table>\n",
       "</div>"
      ],
      "text/plain": [
       "   recipient  churner_friends\n",
       "0      11675                1\n",
       "1      12589                4\n",
       "2      13593                4\n",
       "3      14080                4\n",
       "4      14089                0"
      ]
     },
     "execution_count": 15,
     "metadata": {},
     "output_type": "execute_result"
    }
   ],
   "source": [
    "friends.head(5)"
   ]
  },
  {
   "cell_type": "markdown",
   "metadata": {},
   "source": [
    "Die Freunschaftsbeziehungen müssen normalisiert werden, bevor sie vom NN verarbeitet werden können!"
   ]
  },
  {
   "cell_type": "code",
   "execution_count": 16,
   "metadata": {
    "pycharm": {
     "is_executing": false
    }
   },
   "outputs": [],
   "source": [
    "friends=(friends['churner_friends']-friends['churner_friends'].mean())/friends['churner_friends'].std()"
   ]
  },
  {
   "cell_type": "code",
   "execution_count": 17,
   "metadata": {
    "pycharm": {
     "is_executing": false
    }
   },
   "outputs": [
    {
     "data": {
      "text/plain": [
       "0   -1.219607\n",
       "1   -0.097739\n",
       "2   -0.097739\n",
       "3   -0.097739\n",
       "4   -1.593563\n",
       "Name: churner_friends, dtype: float64"
      ]
     },
     "execution_count": 17,
     "metadata": {},
     "output_type": "execute_result"
    }
   ],
   "source": [
    "friends.head(5)"
   ]
  },
  {
   "cell_type": "markdown",
   "metadata": {},
   "source": [
    "## Transformation der gegebenen Daten\n",
    "\n",
    "Wir wollen dem Algorithmus eine Zeitreihe der Sales eines jeden Kunden übergeben. Dazu ist noch etwas Data-wrangling nötig."
   ]
  },
  {
   "cell_type": "markdown",
   "metadata": {
    "pycharm": {
     "name": "#%% md\n"
    }
   },
   "source": [
    "Die drei folgenden Code-Zellen dienen der Transformation der X-Werte in ein 3D-Array, um diese für das Netzwerk lesbar zu machen."
   ]
  },
  {
   "cell_type": "code",
   "execution_count": 18,
   "metadata": {
    "pycharm": {
     "is_executing": false,
     "name": "#%%\n"
    }
   },
   "outputs": [],
   "source": [
    "x_data_dict =  dict()\n",
    "x_data_grouped = x_data.groupby('recipient')\n",
    "for recipient in x_data_grouped.groups:\n",
    "    x_data_dict[recipient] = pd.DataFrame(x_data_grouped['date','sales'].get_group(recipient))\n",
    "assert len(x_data_dict) == len(y_data_red) # hier testen wir ob wir gleichviele Daten für x und y haben"
   ]
  },
  {
   "cell_type": "code",
   "execution_count": 19,
   "metadata": {
    "pycharm": {
     "is_executing": false,
     "name": "#%%\n"
    }
   },
   "outputs": [],
   "source": [
    "X = list()\n",
    "for key, item in x_data_dict.items():\n",
    "    X.append(fill_dates(item, datetime.strptime(\"2018-09-01\",\"%Y-%m-%d\")).values.tolist())"
   ]
  },
  {
   "cell_type": "code",
   "execution_count": 20,
   "metadata": {
    "pycharm": {
     "is_executing": false,
     "name": "#%%\n"
    }
   },
   "outputs": [],
   "source": [
    "X = pad_sequences(X, value=-1,dtype='float32')\n",
    "y = np.array(y_data_red['churned'].values)\n",
    "y = y.reshape(y.shape[0],1)\n",
    "friends = friends.values.reshape(friends.shape[0],1)"
   ]
  },
  {
   "cell_type": "markdown",
   "metadata": {
    "pycharm": {
     "name": "#%% md\n"
    }
   },
   "source": [
    "Nun haben wir die gewünschten Zeitreihen. Um einen besseren Eindruck zu bekommen stellen wir das einmal grafisch dar.\n",
    "\n",
    "**Verändern Sie den Wert von i** um einen anderen Kunden auszuwählen (insgesamt sind es ca 250)."
   ]
  },
  {
   "cell_type": "code",
   "execution_count": 21,
   "metadata": {
    "pycharm": {
     "is_executing": false,
     "name": "#%%\n"
    }
   },
   "outputs": [
    {
     "data": {
      "image/png": "[encoded data removed]",
      "text/plain": [
       "<Figure size 432x288 with 1 Axes>"
      ]
     },
     "metadata": {
      "needs_background": "light"
     },
     "output_type": "display_data"
    }
   ],
   "source": [
    "# Plotten der Umsätze eines Kunden \"i\"\n",
    "\n",
    "i = 101\n",
    "\n",
    "fig, ax = plt.subplots() # fig ist die ganze Grafik, ax ist die Oberfläche auf dem wir das Diagramm zeichnen können\n",
    "\n",
    "# Die X-Achse stellt die Zeit dar:\n",
    "timesteps = np.arange(len(X[0]))\n",
    "\n",
    "ax.bar(timesteps, X[i].flatten())\n",
    "ax.set_xlabel(\"Zeitreihe in Monaten\")\n",
    "ax.set_ylabel(\"Umsatz\")\n",
    "plt.show()"
   ]
  },
  {
   "cell_type": "markdown",
   "metadata": {},
   "source": [
    "## Trennung in Training- und Test-Daten\n",
    "\n",
    "70% Trainings- und 30% Testdaten.\n",
    "Freunschaftsbeziehungen und der zeitliche Verlauf werden als Input voneinander getrennt."
   ]
  },
  {
   "cell_type": "code",
   "execution_count": 22,
   "metadata": {
    "pycharm": {
     "is_executing": false,
     "name": "#%%\n"
    }
   },
   "outputs": [],
   "source": [
    "X_time_train, X_time_test, X_friends_train, X_friends_test, y_train, y_test = train_test_split(\n",
    "    X, friends, y, train_size=0.7, random_state=RANDOM_SEED\n",
    ")"
   ]
  },
  {
   "cell_type": "code",
   "execution_count": 23,
   "metadata": {
    "pycharm": {
     "is_executing": false
    }
   },
   "outputs": [
    {
     "name": "stdout",
     "output_type": "stream",
     "text": [
      "X_time_train: (246, 43, 1)\n",
      "X_time_test: (106, 43, 1)\n",
      "X_friends_train: (246, 1)\n",
      "X_friends_test: (106, 1)\n",
      "y_train: (246, 1)\n",
      "y_test: (106, 1)\n"
     ]
    }
   ],
   "source": [
    "print(f'X_time_train: {X_time_train.shape}')\n",
    "print(f'X_time_test: {X_time_test.shape}')\n",
    "print(f'X_friends_train: {X_friends_train.shape}')\n",
    "print(f'X_friends_test: {X_friends_test.shape}')\n",
    "print(f'y_train: {y_train.shape}')\n",
    "print(f'y_test: {y_test.shape}')"
   ]
  },
  {
   "cell_type": "markdown",
   "metadata": {},
   "source": [
    "## Das DL-Modell"
   ]
  },
  {
   "cell_type": "markdown",
   "metadata": {
    "pycharm": {
     "name": "#%% md\n"
    }
   },
   "source": [
    "**An dieser Stelle sind Sie gefragt..**\n",
    "Das nachfolgende Codefragment enthält 4 modifizierbare Parameter, welche essenziell für die Genauigkeit des Netzwerks sind.\n",
    "Diese sind so initialiert, dass das Netwerk ohne Veränderung eine schlechte Performance aufweist.\n",
    "Ihre Aufgabe ist es nun diese Parameter so anzupassen, dass eine möglichst hohe Genauigkeit erzielt wird.\n",
    "\n",
    "Die Parameter sind wie folgt beschrieben:\n",
    "* **learning_rate**: Lernrate des Minimierungs-Algorithmus der Kostenfunktion (default: 0.00001, range: 0-∞)\n",
    "* **lstm_cells**: Anzahl der Memory-Cells des Netzwerks. Besitzt ein Netzwerk mehr Zellen, kann es sich eine größere Anzahl an Merkmalen merken. Zu viele können zu *Overfitting* führen. (default: 1, range: 1-∞)\n",
    "* **dropout**: Anteil der Merkmale, die zufällig gelöscht werden. Wirkt *Ovefitting* entgegen (default: 0.5, range: 0-1)\n",
    "* **epochs**: Anzahl der Traingsdurchläufe (default: 10, range: 1-∞)"
   ]
  },
  {
   "cell_type": "code",
   "execution_count": 24,
   "metadata": {
    "pycharm": {
     "is_executing": false,
     "name": "#%%\n"
    }
   },
   "outputs": [],
   "source": [
    "learning_rate = 0.01\n",
    "lstm_cells = 5\n",
    "dropout = 0.2\n",
    "epochs = 25"
   ]
  },
  {
   "cell_type": "markdown",
   "metadata": {
    "pycharm": {
     "name": "#%% md\n"
    }
   },
   "source": [
    "Wir testen zunächst ein Modell, dass nur die Bestellverläufe kennt. Im zweiten Modell beziehen wir dann die sozialen Beziehungen mit ein."
   ]
  },
  {
   "cell_type": "code",
   "execution_count": 25,
   "metadata": {
    "pycharm": {
     "is_executing": false,
     "name": "#%%\n"
    }
   },
   "outputs": [
    {
     "name": "stdout",
     "output_type": "stream",
     "text": [
      "Model: \"sequential\"\n",
      "_________________________________________________________________\n",
      "Layer (type)                 Output Shape              Param #   \n",
      "=================================================================\n",
      "masking (Masking)            (None, 43, 1)             0         \n",
      "_________________________________________________________________\n",
      "lstm (LSTM)                  (None, 5)                 140       \n",
      "_________________________________________________________________\n",
      "dropout (Dropout)            (None, 5)                 0         \n",
      "_________________________________________________________________\n",
      "dense (Dense)                (None, 1)                 6         \n",
      "=================================================================\n",
      "Total params: 146\n",
      "Trainable params: 146\n",
      "Non-trainable params: 0\n",
      "_________________________________________________________________\n"
     ]
    }
   ],
   "source": [
    "model = Sequential()\n",
    "model.add(Masking(mask_value=-1, input_shape=(X_time_train.shape[1],1)))\n",
    "model.add(LSTM(lstm_cells, recurrent_dropout=dropout))\n",
    "model.add(Dropout(dropout))\n",
    "model.add(Dense(1, activation='sigmoid'))\n",
    "\n",
    "model.compile(\n",
    "    loss='binary_crossentropy',\n",
    "    optimizer=Adam(learning_rate=learning_rate),\n",
    "    metrics=['acc']\n",
    ")\n",
    "\n",
    "model.summary()"
   ]
  },
  {
   "cell_type": "markdown",
   "metadata": {},
   "source": [
    "Die nachfolgende Code-Zelle enthält den Aufruf der *fit*-Methode, welche das Training des Netzes mit den oben angegebenen Parametern startet. Anschließend wird eine Zusammenfassung des Traingsverlaufs ausgegeben."
   ]
  },
  {
   "cell_type": "code",
   "execution_count": 26,
   "metadata": {
    "pycharm": {
     "is_executing": false,
     "name": "#%%\n"
    }
   },
   "outputs": [
    {
     "name": "stdout",
     "output_type": "stream",
     "text": [
      "Epoch 1/25\n",
      "WARNING:tensorflow:AutoGraph could not transform <function Model.make_train_function.<locals>.train_function at 0x00000207F2424790> and will run it as-is.\n",
      "Please report this to the TensorFlow team. When filing the bug, set the verbosity to 10 (on Linux, `export AUTOGRAPH_VERBOSITY=10`) and attach the full output.\n",
      "Cause: Bad argument number for Name: 4, expecting 3\n",
      "To silence this warning, decorate the function with @tf.autograph.experimental.do_not_convert\n",
      "WARNING: AutoGraph could not transform <function Model.make_train_function.<locals>.train_function at 0x00000207F2424790> and will run it as-is.\n",
      "Please report this to the TensorFlow team. When filing the bug, set the verbosity to 10 (on Linux, `export AUTOGRAPH_VERBOSITY=10`) and attach the full output.\n",
      "Cause: Bad argument number for Name: 4, expecting 3\n",
      "To silence this warning, decorate the function with @tf.autograph.experimental.do_not_convert\n",
      "8/8 [==============================] - ETA: 0s - loss: 0.6868 - acc: 0.5813WARNING:tensorflow:AutoGraph could not transform <function Model.make_test_function.<locals>.test_function at 0x00000207F56DD5E0> and will run it as-is.\n",
      "Please report this to the TensorFlow team. When filing the bug, set the verbosity to 10 (on Linux, `export AUTOGRAPH_VERBOSITY=10`) and attach the full output.\n",
      "Cause: Bad argument number for Name: 4, expecting 3\n",
      "To silence this warning, decorate the function with @tf.autograph.experimental.do_not_convert\n",
      "WARNING: AutoGraph could not transform <function Model.make_test_function.<locals>.test_function at 0x00000207F56DD5E0> and will run it as-is.\n",
      "Please report this to the TensorFlow team. When filing the bug, set the verbosity to 10 (on Linux, `export AUTOGRAPH_VERBOSITY=10`) and attach the full output.\n",
      "Cause: Bad argument number for Name: 4, expecting 3\n",
      "To silence this warning, decorate the function with @tf.autograph.experimental.do_not_convert\n",
      "8/8 [==============================] - 1s 114ms/step - loss: 0.6868 - acc: 0.5813 - val_loss: 0.5948 - val_acc: 0.7925\n",
      "Epoch 2/25\n",
      "8/8 [==============================] - 0s 55ms/step - loss: 0.5734 - acc: 0.7927 - val_loss: 0.4475 - val_acc: 0.9057\n",
      "Epoch 3/25\n",
      "8/8 [==============================] - 0s 55ms/step - loss: 0.4785 - acc: 0.8415 - val_loss: 0.3446 - val_acc: 0.9057\n",
      "Epoch 4/25\n",
      "8/8 [==============================] - 0s 55ms/step - loss: 0.4253 - acc: 0.8252 - val_loss: 0.3089 - val_acc: 0.9151\n",
      "Epoch 5/25\n",
      "8/8 [==============================] - 0s 56ms/step - loss: 0.3947 - acc: 0.8496 - val_loss: 0.2830 - val_acc: 0.9151\n",
      "Epoch 6/25\n",
      "8/8 [==============================] - 0s 54ms/step - loss: 0.3836 - acc: 0.8618 - val_loss: 0.2659 - val_acc: 0.9245\n",
      "Epoch 7/25\n",
      "8/8 [==============================] - 0s 54ms/step - loss: 0.3684 - acc: 0.8577 - val_loss: 0.2526 - val_acc: 0.9340\n",
      "Epoch 8/25\n",
      "8/8 [==============================] - 0s 54ms/step - loss: 0.3621 - acc: 0.8537 - val_loss: 0.2444 - val_acc: 0.9151\n",
      "Epoch 9/25\n",
      "8/8 [==============================] - 0s 53ms/step - loss: 0.3619 - acc: 0.8496 - val_loss: 0.2466 - val_acc: 0.9245\n",
      "Epoch 10/25\n",
      "8/8 [==============================] - 0s 56ms/step - loss: 0.3386 - acc: 0.8537 - val_loss: 0.2377 - val_acc: 0.9340\n",
      "Epoch 11/25\n",
      "8/8 [==============================] - 0s 56ms/step - loss: 0.3218 - acc: 0.8577 - val_loss: 0.2322 - val_acc: 0.9151\n",
      "Epoch 12/25\n",
      "8/8 [==============================] - 0s 54ms/step - loss: 0.3319 - acc: 0.8618 - val_loss: 0.2241 - val_acc: 0.9340\n",
      "Epoch 13/25\n",
      "8/8 [==============================] - 0s 53ms/step - loss: 0.3288 - acc: 0.8659 - val_loss: 0.2233 - val_acc: 0.9245\n",
      "Epoch 14/25\n",
      "8/8 [==============================] - 0s 52ms/step - loss: 0.3369 - acc: 0.8699 - val_loss: 0.2211 - val_acc: 0.9340\n",
      "Epoch 15/25\n",
      "8/8 [==============================] - 0s 56ms/step - loss: 0.3190 - acc: 0.8821 - val_loss: 0.2187 - val_acc: 0.9340\n",
      "Epoch 16/25\n",
      "8/8 [==============================] - 0s 57ms/step - loss: 0.3030 - acc: 0.8821 - val_loss: 0.2156 - val_acc: 0.9340\n",
      "Epoch 17/25\n",
      "8/8 [==============================] - 0s 54ms/step - loss: 0.3216 - acc: 0.8577 - val_loss: 0.2142 - val_acc: 0.9340\n",
      "Epoch 18/25\n",
      "8/8 [==============================] - 0s 55ms/step - loss: 0.3299 - acc: 0.8659 - val_loss: 0.2170 - val_acc: 0.9057\n",
      "Epoch 19/25\n",
      "8/8 [==============================] - 0s 57ms/step - loss: 0.3096 - acc: 0.8780 - val_loss: 0.2143 - val_acc: 0.9245\n",
      "Epoch 20/25\n",
      "8/8 [==============================] - 0s 52ms/step - loss: 0.3182 - acc: 0.8740 - val_loss: 0.2101 - val_acc: 0.9340\n",
      "Epoch 21/25\n",
      "7/8 [=========================>....] - ETA: 0s - loss: 0.2947 - acc: 0.8884Restoring model weights from the end of the best epoch.\n",
      "8/8 [==============================] - 0s 53ms/step - loss: 0.3151 - acc: 0.8780 - val_loss: 0.2085 - val_acc: 0.9057\n",
      "Epoch 00021: early stopping\n"
     ]
    },
    {
     "data": {
      "image/png": "[encoded data removed]",
      "text/plain": [
       "<Figure size 1152x360 with 2 Axes>"
      ]
     },
     "metadata": {
      "needs_background": "light"
     },
     "output_type": "display_data"
    },
    {
     "name": "stdout",
     "output_type": "stream",
     "text": [
      "Genauigkeit: 93.40%\n",
      "99 von 106 Beispielen richtig klassifiziert!\n"
     ]
    }
   ],
   "source": [
    "es = EarlyStopping(monitor='loss', mode='min', verbose=1, restore_best_weights=True, patience=5)\n",
    "history = model.fit(x=X_time_train,y=y_train,epochs=epochs, verbose=1, callbacks=[es], validation_data=(X_time_test, y_test))\n",
    "scores = model.evaluate(X_time_test, y_test, verbose=0)\n",
    "\n",
    "plt.rcParams[\"figure.figsize\"] = (16, 5)\n",
    "fig, (ax1, ax2) = plt.subplots(1, 2)\n",
    "\n",
    "ax1.plot(history.history['loss'], label='Training')\n",
    "ax1.plot(history.history['val_loss'], label='Testing')\n",
    "ax1.legend(loc=\"upper left\")\n",
    "ax1.set_title(\"Training und Testing Kostenverlauf\")\n",
    "ax2.plot(history.history['acc'], label='Training')\n",
    "ax2.plot(history.history['val_acc'], label='Testing')\n",
    "ax2.legend(loc=\"upper left\")#\n",
    "ax2.set_title(\"Training und Testing Genauigkeit\")\n",
    "plt.show()\n",
    "\n",
    "print(\"Genauigkeit: %.2f%%\" % (scores[1]*100))\n",
    "print(str(round(X_time_test.shape[0] * scores[1])) + \" von \" + str(X_time_test.shape[0]) + \" Beispielen richtig klassifiziert!\")"
   ]
  },
  {
   "cell_type": "markdown",
   "metadata": {
    "pycharm": {
     "is_executing": false,
     "name": "#%% md\n"
    }
   },
   "source": [
    "Nun das Model, dass die sozialen Daten kennt. Vergleichen Sie die Genauigkeit und den Trainingsverlauf."
   ]
  },
  {
   "cell_type": "code",
   "execution_count": 27,
   "metadata": {
    "pycharm": {
     "name": "#%%\n"
    }
   },
   "outputs": [
    {
     "name": "stdout",
     "output_type": "stream",
     "text": [
      "Model: \"lstm_friendship_model\"\n",
      "__________________________________________________________________________________________________\n",
      "Layer (type)                    Output Shape         Param #     Connected to                     \n",
      "==================================================================================================\n",
      "input_1 (InputLayer)            [(None, 43, 1)]      0                                            \n",
      "__________________________________________________________________________________________________\n",
      "masking_1 (Masking)             (None, 43, 1)        0           input_1[0][0]                    \n",
      "__________________________________________________________________________________________________\n",
      "lstm_1 (LSTM)                   (None, 5)            140         masking_1[0][0]                  \n",
      "__________________________________________________________________________________________________\n",
      "dropout_1 (Dropout)             (None, 5)            0           lstm_1[0][0]                     \n",
      "__________________________________________________________________________________________________\n",
      "input_2 (InputLayer)            [(None, 1)]          0                                            \n",
      "__________________________________________________________________________________________________\n",
      "concatenate (Concatenate)       (None, 6)            0           dropout_1[0][0]                  \n",
      "                                                                 input_2[0][0]                    \n",
      "__________________________________________________________________________________________________\n",
      "dense_1 (Dense)                 (None, 1)            7           concatenate[0][0]                \n",
      "==================================================================================================\n",
      "Total params: 147\n",
      "Trainable params: 147\n",
      "Non-trainable params: 0\n",
      "__________________________________________________________________________________________________\n"
     ]
    }
   ],
   "source": [
    "input_time = Input(shape=(X_time_train.shape[1],1))\n",
    "input_friends = Input(shape=(X_friends_train.shape[1]))\n",
    "\n",
    "## Combined Model\n",
    "x = Masking(mask_value=-1)(input_time)\n",
    "x = LSTM(lstm_cells, recurrent_dropout=dropout)(x)\n",
    "x = Dropout(dropout)(x)\n",
    "x = concatenate([x, input_friends])\n",
    "\n",
    "outputs = Dense(1, activation='sigmoid')(x)\n",
    "\n",
    "model = Model(\n",
    "    inputs=[input_time, input_friends],\n",
    "    outputs=outputs,\n",
    "    name=\"lstm_friendship_model\",\n",
    ")\n",
    "\n",
    "model.summary()\n",
    "\n",
    "model.compile(\n",
    "    loss='binary_crossentropy',\n",
    "    optimizer=Adam(learning_rate=learning_rate),\n",
    "    metrics=['acc'],\n",
    ")\n"
   ]
  },
  {
   "cell_type": "code",
   "execution_count": 28,
   "metadata": {
    "pycharm": {
     "is_executing": false,
     "name": "#%%\n"
    }
   },
   "outputs": [
    {
     "name": "stdout",
     "output_type": "stream",
     "text": [
      "Epoch 1/25\n",
      "WARNING:tensorflow:AutoGraph could not transform <function Model.make_train_function.<locals>.train_function at 0x00000207F7ECFDC0> and will run it as-is.\n",
      "Please report this to the TensorFlow team. When filing the bug, set the verbosity to 10 (on Linux, `export AUTOGRAPH_VERBOSITY=10`) and attach the full output.\n",
      "Cause: Bad argument number for Name: 4, expecting 3\n",
      "To silence this warning, decorate the function with @tf.autograph.experimental.do_not_convert\n",
      "WARNING: AutoGraph could not transform <function Model.make_train_function.<locals>.train_function at 0x00000207F7ECFDC0> and will run it as-is.\n",
      "Please report this to the TensorFlow team. When filing the bug, set the verbosity to 10 (on Linux, `export AUTOGRAPH_VERBOSITY=10`) and attach the full output.\n",
      "Cause: Bad argument number for Name: 4, expecting 3\n",
      "To silence this warning, decorate the function with @tf.autograph.experimental.do_not_convert\n",
      "7/8 [=========================>....] - ETA: 0s - loss: 0.4862 - acc: 0.7723WARNING:tensorflow:AutoGraph could not transform <function Model.make_test_function.<locals>.test_function at 0x00000207FAF34820> and will run it as-is.\n",
      "Please report this to the TensorFlow team. When filing the bug, set the verbosity to 10 (on Linux, `export AUTOGRAPH_VERBOSITY=10`) and attach the full output.\n",
      "Cause: Bad argument number for Name: 4, expecting 3\n",
      "To silence this warning, decorate the function with @tf.autograph.experimental.do_not_convert\n",
      "WARNING: AutoGraph could not transform <function Model.make_test_function.<locals>.test_function at 0x00000207FAF34820> and will run it as-is.\n",
      "Please report this to the TensorFlow team. When filing the bug, set the verbosity to 10 (on Linux, `export AUTOGRAPH_VERBOSITY=10`) and attach the full output.\n",
      "Cause: Bad argument number for Name: 4, expecting 3\n",
      "To silence this warning, decorate the function with @tf.autograph.experimental.do_not_convert\n",
      "8/8 [==============================] - 1s 112ms/step - loss: 0.4838 - acc: 0.7764 - val_loss: 0.4886 - val_acc: 0.7170\n",
      "Epoch 2/25\n",
      "8/8 [==============================] - 0s 55ms/step - loss: 0.4480 - acc: 0.7967 - val_loss: 0.4509 - val_acc: 0.7830\n",
      "Epoch 3/25\n",
      "8/8 [==============================] - 0s 55ms/step - loss: 0.4157 - acc: 0.8089 - val_loss: 0.4101 - val_acc: 0.7925\n",
      "Epoch 4/25\n",
      "8/8 [==============================] - 0s 59ms/step - loss: 0.3773 - acc: 0.8537 - val_loss: 0.3560 - val_acc: 0.8491\n",
      "Epoch 5/25\n",
      "8/8 [==============================] - 0s 52ms/step - loss: 0.3340 - acc: 0.8943 - val_loss: 0.3036 - val_acc: 0.8774\n",
      "Epoch 6/25\n",
      "8/8 [==============================] - 0s 55ms/step - loss: 0.3152 - acc: 0.8862 - val_loss: 0.2713 - val_acc: 0.9245\n",
      "Epoch 7/25\n",
      "8/8 [==============================] - 0s 53ms/step - loss: 0.2868 - acc: 0.8821 - val_loss: 0.2396 - val_acc: 0.9528\n",
      "Epoch 8/25\n",
      "8/8 [==============================] - 0s 54ms/step - loss: 0.2688 - acc: 0.8984 - val_loss: 0.2153 - val_acc: 0.9528\n",
      "Epoch 9/25\n",
      "8/8 [==============================] - 0s 55ms/step - loss: 0.2648 - acc: 0.9228 - val_loss: 0.2037 - val_acc: 0.9528\n",
      "Epoch 10/25\n",
      "8/8 [==============================] - 0s 52ms/step - loss: 0.2418 - acc: 0.9268 - val_loss: 0.1881 - val_acc: 0.9434\n",
      "Epoch 11/25\n",
      "8/8 [==============================] - 0s 56ms/step - loss: 0.2241 - acc: 0.9268 - val_loss: 0.1715 - val_acc: 0.9623\n",
      "Epoch 12/25\n",
      "8/8 [==============================] - 0s 53ms/step - loss: 0.2256 - acc: 0.8943 - val_loss: 0.1594 - val_acc: 0.9528\n",
      "Epoch 13/25\n",
      "8/8 [==============================] - 0s 52ms/step - loss: 0.2147 - acc: 0.9228 - val_loss: 0.1574 - val_acc: 0.9623\n",
      "Epoch 14/25\n",
      "8/8 [==============================] - 0s 52ms/step - loss: 0.2060 - acc: 0.9228 - val_loss: 0.1645 - val_acc: 0.9434\n",
      "Epoch 15/25\n",
      "8/8 [==============================] - 0s 52ms/step - loss: 0.2133 - acc: 0.9309 - val_loss: 0.1644 - val_acc: 0.9434\n",
      "Epoch 16/25\n",
      "8/8 [==============================] - 0s 59ms/step - loss: 0.1891 - acc: 0.9472 - val_loss: 0.1509 - val_acc: 0.9623\n",
      "Epoch 17/25\n",
      "8/8 [==============================] - 1s 67ms/step - loss: 0.1878 - acc: 0.9390 - val_loss: 0.1479 - val_acc: 0.9623\n",
      "Epoch 18/25\n",
      "8/8 [==============================] - 0s 54ms/step - loss: 0.1981 - acc: 0.9228 - val_loss: 0.1462 - val_acc: 0.9623\n",
      "Epoch 19/25\n",
      "8/8 [==============================] - 0s 52ms/step - loss: 0.1895 - acc: 0.9553 - val_loss: 0.1430 - val_acc: 0.9623\n",
      "Epoch 20/25\n",
      "8/8 [==============================] - 0s 51ms/step - loss: 0.1823 - acc: 0.9390 - val_loss: 0.1424 - val_acc: 0.9623\n",
      "Epoch 21/25\n",
      "8/8 [==============================] - 1s 87ms/step - loss: 0.1909 - acc: 0.9309 - val_loss: 0.1383 - val_acc: 0.9623\n",
      "Epoch 22/25\n",
      "8/8 [==============================] - 0s 53ms/step - loss: 0.1802 - acc: 0.9350 - val_loss: 0.1367 - val_acc: 0.9623\n",
      "Epoch 23/25\n",
      "8/8 [==============================] - 0s 54ms/step - loss: 0.1725 - acc: 0.9228 - val_loss: 0.1366 - val_acc: 0.9528\n",
      "Epoch 24/25\n",
      "8/8 [==============================] - 0s 59ms/step - loss: 0.1787 - acc: 0.9512 - val_loss: 0.1387 - val_acc: 0.9434\n",
      "Epoch 25/25\n",
      "8/8 [==============================] - 1s 65ms/step - loss: 0.1863 - acc: 0.9268 - val_loss: 0.1402 - val_acc: 0.9623\n"
     ]
    },
    {
     "data": {
      "image/png": "[encoded data removed]",
      "text/plain": [
       "<Figure size 1152x360 with 2 Axes>"
      ]
     },
     "metadata": {
      "needs_background": "light"
     },
     "output_type": "display_data"
    },
    {
     "name": "stdout",
     "output_type": "stream",
     "text": [
      "Genauigkeit: 96.23%\n",
      "102 von 106 Beispielen richtig klassifiziert!\n"
     ]
    }
   ],
   "source": [
    "es = EarlyStopping(monitor='loss', mode='min', verbose=1, restore_best_weights=True, patience=5)\n",
    "history = model.fit(x=[X_time_train, X_friends_train],y=y_train,epochs=epochs, verbose=1, callbacks=[es], validation_data=([X_time_test, X_friends_test], y_test))\n",
    "scores = model.evaluate([X_time_test, X_friends_test], y_test, verbose=0)\n",
    "\n",
    "plt.rcParams[\"figure.figsize\"] = (16, 5)\n",
    "fig, (ax1, ax2) = plt.subplots(1, 2)\n",
    "\n",
    "ax1.plot(history.history['loss'], label='Training')\n",
    "ax1.plot(history.history['val_loss'], label='Testing')\n",
    "ax1.legend(loc=\"upper left\")\n",
    "ax1.set_title(\"Training und Testing Kostenverlauf\")\n",
    "ax2.plot(history.history['acc'], label='Training')\n",
    "ax2.plot(history.history['val_acc'], label='Testing')\n",
    "ax2.legend(loc=\"upper left\")#\n",
    "ax2.set_title(\"Training und Testing Genauigkeit\")\n",
    "plt.show()\n",
    "\n",
    "print(\"Genauigkeit: %.2f%%\" % (scores[1]*100))\n",
    "print(str(round(X_time_test.shape[0] * scores[1])) + \" von \" + str(X_time_test.shape[0]) + \" Beispielen richtig klassifiziert!\")"
   ]
  }
 ],
 "metadata": {
  "kernelspec": {
   "display_name": "Python 3",
   "language": "python",
   "name": "python3"
  },
  "language_info": {
   "codemirror_mode": {
    "name": "ipython",
    "version": 3
   },
   "file_extension": ".py",
   "mimetype": "text/x-python",
   "name": "python",
   "nbconvert_exporter": "python",
   "pygments_lexer": "ipython3",
   "version": "3.8.2"
  },
  "pycharm": {
   "stem_cell": {
    "cell_type": "raw",
    "metadata": {
     "collapsed": false
    },
    "source": []
   }
  }
 },
 "nbformat": 4,
 "nbformat_minor": 1
}
